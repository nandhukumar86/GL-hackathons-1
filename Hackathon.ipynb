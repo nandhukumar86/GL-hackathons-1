{
 "cells": [
  {
   "cell_type": "code",
   "execution_count": 1,
   "metadata": {},
   "outputs": [],
   "source": [
    "import numpy as np\n",
    "import pandas as pd\n",
    "import seaborn as sns\n",
    "import matplotlib.pyplot as plt\n",
    "sns.set(color_codes=True)\n",
    "%matplotlib inline\n",
    "\n",
    "import os\n",
    "%config IPCompleter.greedy=True"
   ]
  },
  {
   "cell_type": "code",
   "execution_count": 2,
   "metadata": {},
   "outputs": [],
   "source": [
    "os.chdir('D:\\AIMLData\\GL_Hackathon')\n",
    "\n",
    "\n",
    "fd_train = pd.read_csv('frequency_domain_features_train.csv')\n",
    "fd_test = pd.read_csv('frequency_domain_features_test.csv')\n",
    "td_train = pd.read_csv('time_domain_features_train.csv')\n",
    "td_test = pd.read_csv('time_domain_features_test.csv')\n",
    "hr_train = pd.read_csv('heart_rate_non_linear_features_train.csv')\n",
    "hr_test = pd.read_csv('heart_rate_non_linear_features_test.csv')"
   ]
  },
  {
   "cell_type": "code",
   "execution_count": 43,
   "metadata": {},
   "outputs": [],
   "source": [
    "df3 = pd.merge(fd_train, td_train, how='outer', on='uuid')\n",
    "df_train = pd.merge(df3, hr_train, how='outer', on='uuid')\n",
    "\n",
    "df2 = pd.merge(fd_test, td_test, how='outer', on='uuid')\n",
    "df_test = pd.merge(df2, hr_test, how='outer', on='uuid')"
   ]
  },
  {
   "cell_type": "code",
   "execution_count": 44,
   "metadata": {},
   "outputs": [
    {
     "data": {
      "text/plain": [
       "no stress        200082\n",
       "interruption     105150\n",
       "time pressure     64057\n",
       "Name: condition, dtype: int64"
      ]
     },
     "execution_count": 44,
     "metadata": {},
     "output_type": "execute_result"
    }
   ],
   "source": [
    "df_train.condition.value_counts()"
   ]
  },
  {
   "cell_type": "code",
   "execution_count": 5,
   "metadata": {},
   "outputs": [],
   "source": [
    "\n",
    "\n",
    "# df_train_ns = df_train.query('condition == \"no stress\"')\n",
    "# df_train_in = df_train.query('condition == \"interruption\"')\n",
    "# df_train_tp = df_train.query('condition == \"time pressure\"')"
   ]
  },
  {
   "cell_type": "code",
   "execution_count": 6,
   "metadata": {},
   "outputs": [],
   "source": [
    "# from sklearn.utils import resample\n",
    "\n",
    "# df_train_tp_upsampled = resample(df_train_tp, n_samples = 200082, random_state=100)\n",
    "# df_train_in_upsampled = resample(df_train_in, n_samples = 200082, random_state=100)"
   ]
  },
  {
   "cell_type": "code",
   "execution_count": 7,
   "metadata": {},
   "outputs": [],
   "source": [
    "# df_train = pd.concat([df_train_ns, df_train_tp_upsampled, df_train_in_upsampled])"
   ]
  },
  {
   "cell_type": "code",
   "execution_count": 45,
   "metadata": {},
   "outputs": [
    {
     "data": {
      "text/plain": [
       "no stress        200082\n",
       "interruption     105150\n",
       "time pressure     64057\n",
       "Name: condition, dtype: int64"
      ]
     },
     "execution_count": 45,
     "metadata": {},
     "output_type": "execute_result"
    }
   ],
   "source": [
    "df_train.condition.value_counts()"
   ]
  },
  {
   "cell_type": "code",
   "execution_count": null,
   "metadata": {},
   "outputs": [],
   "source": []
  },
  {
   "cell_type": "code",
   "execution_count": 9,
   "metadata": {},
   "outputs": [],
   "source": [
    "# df_train_ns.shape, df_train_in.shape, df_train_tp.shape"
   ]
  },
  {
   "cell_type": "code",
   "execution_count": 46,
   "metadata": {},
   "outputs": [],
   "source": [
    "df_train['MEAN_RR'] = df_train['MEAN_RR']/1000"
   ]
  },
  {
   "cell_type": "code",
   "execution_count": 47,
   "metadata": {},
   "outputs": [],
   "source": [
    "df_train['MEAN_RR'] = 60 / df_train['MEAN_RR']"
   ]
  },
  {
   "cell_type": "code",
   "execution_count": 48,
   "metadata": {},
   "outputs": [
    {
     "data": {
      "text/plain": [
       "0         67.784520\n",
       "1         63.868831\n",
       "2         66.801305\n",
       "3         68.045892\n",
       "4         74.108353\n",
       "            ...    \n",
       "369284    83.171967\n",
       "369285    60.959100\n",
       "369286    58.508060\n",
       "369287    75.176367\n",
       "369288    73.671255\n",
       "Name: MEAN_RR, Length: 369289, dtype: float64"
      ]
     },
     "execution_count": 48,
     "metadata": {},
     "output_type": "execute_result"
    }
   ],
   "source": [
    "df_train['MEAN_RR']"
   ]
  },
  {
   "cell_type": "code",
   "execution_count": 49,
   "metadata": {},
   "outputs": [],
   "source": [
    "df_train['MEDIAN_RR'] = 60 * 1000 / df_train['MEDIAN_RR'] "
   ]
  },
  {
   "cell_type": "code",
   "execution_count": 50,
   "metadata": {},
   "outputs": [],
   "source": [
    "df_test['MEAN_RR'] = 60 * 1000 / df_test['MEAN_RR'] \n",
    "df_test['MEDIAN_RR'] = 60 * 1000 / df_test['MEDIAN_RR'] "
   ]
  },
  {
   "cell_type": "code",
   "execution_count": null,
   "metadata": {},
   "outputs": [],
   "source": []
  },
  {
   "cell_type": "code",
   "execution_count": 51,
   "metadata": {},
   "outputs": [
    {
     "data": {
      "text/plain": [
       "0         70.277054\n",
       "1         63.267256\n",
       "2         66.151650\n",
       "3         67.154655\n",
       "4         73.965877\n",
       "            ...    \n",
       "369284    83.156169\n",
       "369285    61.310641\n",
       "369286    58.538390\n",
       "369287    74.667765\n",
       "369288    73.603485\n",
       "Name: MEDIAN_RR, Length: 369289, dtype: float64"
      ]
     },
     "execution_count": 51,
     "metadata": {},
     "output_type": "execute_result"
    }
   ],
   "source": [
    "df_train['MEDIAN_RR']"
   ]
  },
  {
   "cell_type": "code",
   "execution_count": null,
   "metadata": {},
   "outputs": [],
   "source": []
  },
  {
   "cell_type": "code",
   "execution_count": 33,
   "metadata": {},
   "outputs": [
    {
     "data": {
      "text/plain": [
       "<matplotlib.axes._subplots.AxesSubplot at 0x1ce5f76a310>"
      ]
     },
     "execution_count": 33,
     "metadata": {},
     "output_type": "execute_result"
    },
    {
     "data": {
      "image/png": "[encoded data removed]",
      "text/plain": [
       "<Figure size 432x288 with 1 Axes>"
      ]
     },
     "metadata": {
      "needs_background": "light"
     },
     "output_type": "display_data"
    }
   ],
   "source": [
    "sns.distplot(df_train['MEAN_RR'], kde=False, rug=True)"
   ]
  },
  {
   "cell_type": "code",
   "execution_count": null,
   "metadata": {},
   "outputs": [],
   "source": []
  },
  {
   "cell_type": "code",
   "execution_count": null,
   "metadata": {},
   "outputs": [],
   "source": []
  },
  {
   "cell_type": "code",
   "execution_count": 52,
   "metadata": {},
   "outputs": [],
   "source": [
    "y_train = df_train.pop('HR')\n",
    "X_train = df_train.copy(deep = True)\n",
    "X_test = df_test.copy(deep = True)"
   ]
  },
  {
   "cell_type": "code",
   "execution_count": 53,
   "metadata": {},
   "outputs": [],
   "source": [
    "X_train.drop(columns= ['datasetId'], inplace=True)\n",
    "X_test.drop(columns= ['datasetId'], inplace=True)\n",
    "X_train.drop(columns= ['uuid'], inplace=True)\n",
    "y_id = X_test.pop('uuid')\n",
    "X_train.drop(columns= ['SKEW_REL_RR','KURT_REL_RR'], inplace=True)\n",
    "X_test.drop(columns= ['SKEW_REL_RR','KURT_REL_RR'], inplace=True)\n",
    "X_train.drop(columns= ['SDSD_REL_RR'], inplace=True) \n",
    "X_test.drop(columns= ['SDSD_REL_RR'], inplace=True) "
   ]
  },
  {
   "cell_type": "code",
   "execution_count": 97,
   "metadata": {},
   "outputs": [
    {
     "data": {
      "text/plain": [
       "Index(['VLF', 'VLF_PCT', 'LF', 'LF_PCT', 'LF_NU', 'HF', 'HF_PCT', 'HF_NU',\n",
       "       'TP', 'LF_HF', 'HF_LF', 'MEAN_RR', 'MEDIAN_RR', 'SDRR', 'RMSSD', 'SDSD',\n",
       "       'SDRR_RMSSD', 'pNN25', 'pNN50', 'KURT', 'SKEW', 'MEAN_REL_RR',\n",
       "       'MEDIAN_REL_RR', 'SDRR_REL_RR', 'RMSSD_REL_RR', 'SDRR_RMSSD_REL_RR',\n",
       "       'SD1', 'SD2', 'sampen', 'higuci', 'condition'],\n",
       "      dtype='object')"
      ]
     },
     "execution_count": 97,
     "metadata": {},
     "output_type": "execute_result"
    }
   ],
   "source": [
    "X_train.columns"
   ]
  },
  {
   "cell_type": "code",
   "execution_count": 54,
   "metadata": {},
   "outputs": [],
   "source": [
    "from sklearn.preprocessing import LabelEncoder\n",
    "\n",
    "lEncoder = LabelEncoder()\n",
    "X_train['condition'] = lEncoder.fit_transform(X_train['condition'])\n",
    "X_test['condition'] = lEncoder.fit_transform(X_test['condition'])\n"
   ]
  },
  {
   "cell_type": "code",
   "execution_count": 37,
   "metadata": {},
   "outputs": [
    {
     "data": {
      "text/html": [
       "<div>\n",
       "<style scoped>\n",
       "    .dataframe tbody tr th:only-of-type {\n",
       "        vertical-align: middle;\n",
       "    }\n",
       "\n",
       "    .dataframe tbody tr th {\n",
       "        vertical-align: top;\n",
       "    }\n",
       "\n",
       "    .dataframe thead th {\n",
       "        text-align: right;\n",
       "    }\n",
       "</style>\n",
       "<table border=\"1\" class=\"dataframe\">\n",
       "  <thead>\n",
       "    <tr style=\"text-align: right;\">\n",
       "      <th></th>\n",
       "      <th>VLF</th>\n",
       "      <th>VLF_PCT</th>\n",
       "      <th>LF</th>\n",
       "      <th>LF_PCT</th>\n",
       "      <th>LF_NU</th>\n",
       "      <th>HF</th>\n",
       "      <th>HF_PCT</th>\n",
       "      <th>HF_NU</th>\n",
       "      <th>TP</th>\n",
       "      <th>LF_HF</th>\n",
       "      <th>...</th>\n",
       "      <th>MEAN_REL_RR</th>\n",
       "      <th>MEDIAN_REL_RR</th>\n",
       "      <th>SDRR_REL_RR</th>\n",
       "      <th>RMSSD_REL_RR</th>\n",
       "      <th>SDRR_RMSSD_REL_RR</th>\n",
       "      <th>SD1</th>\n",
       "      <th>SD2</th>\n",
       "      <th>sampen</th>\n",
       "      <th>higuci</th>\n",
       "      <th>condition</th>\n",
       "    </tr>\n",
       "  </thead>\n",
       "  <tbody>\n",
       "    <tr>\n",
       "      <th>0</th>\n",
       "      <td>2661.894136</td>\n",
       "      <td>72.203287</td>\n",
       "      <td>1009.249419</td>\n",
       "      <td>27.375666</td>\n",
       "      <td>98.485263</td>\n",
       "      <td>15.522603</td>\n",
       "      <td>0.421047</td>\n",
       "      <td>1.514737</td>\n",
       "      <td>3686.666157</td>\n",
       "      <td>65.018055</td>\n",
       "      <td>...</td>\n",
       "      <td>-0.000203</td>\n",
       "      <td>-0.000179</td>\n",
       "      <td>0.017080</td>\n",
       "      <td>0.007969</td>\n",
       "      <td>2.143342</td>\n",
       "      <td>11.001565</td>\n",
       "      <td>199.061782</td>\n",
       "      <td>2.139754</td>\n",
       "      <td>1.163485</td>\n",
       "      <td>1</td>\n",
       "    </tr>\n",
       "    <tr>\n",
       "      <th>1</th>\n",
       "      <td>2314.265450</td>\n",
       "      <td>76.975728</td>\n",
       "      <td>690.113275</td>\n",
       "      <td>22.954139</td>\n",
       "      <td>99.695397</td>\n",
       "      <td>2.108525</td>\n",
       "      <td>0.070133</td>\n",
       "      <td>0.304603</td>\n",
       "      <td>3006.487251</td>\n",
       "      <td>327.296635</td>\n",
       "      <td>...</td>\n",
       "      <td>-0.000059</td>\n",
       "      <td>0.000611</td>\n",
       "      <td>0.013978</td>\n",
       "      <td>0.004769</td>\n",
       "      <td>2.930855</td>\n",
       "      <td>9.170129</td>\n",
       "      <td>114.634458</td>\n",
       "      <td>2.174499</td>\n",
       "      <td>1.084711</td>\n",
       "      <td>0</td>\n",
       "    </tr>\n",
       "    <tr>\n",
       "      <th>2</th>\n",
       "      <td>1373.887112</td>\n",
       "      <td>51.152225</td>\n",
       "      <td>1298.222619</td>\n",
       "      <td>48.335104</td>\n",
       "      <td>98.950472</td>\n",
       "      <td>13.769729</td>\n",
       "      <td>0.512671</td>\n",
       "      <td>1.049528</td>\n",
       "      <td>2685.879461</td>\n",
       "      <td>94.280910</td>\n",
       "      <td>...</td>\n",
       "      <td>-0.000011</td>\n",
       "      <td>-0.000263</td>\n",
       "      <td>0.018539</td>\n",
       "      <td>0.008716</td>\n",
       "      <td>2.127053</td>\n",
       "      <td>11.533417</td>\n",
       "      <td>118.939253</td>\n",
       "      <td>2.135350</td>\n",
       "      <td>1.176315</td>\n",
       "      <td>0</td>\n",
       "    </tr>\n",
       "    <tr>\n",
       "      <th>3</th>\n",
       "      <td>2410.357408</td>\n",
       "      <td>70.180308</td>\n",
       "      <td>1005.981659</td>\n",
       "      <td>29.290305</td>\n",
       "      <td>98.224706</td>\n",
       "      <td>18.181913</td>\n",
       "      <td>0.529387</td>\n",
       "      <td>1.775294</td>\n",
       "      <td>3434.520980</td>\n",
       "      <td>55.328701</td>\n",
       "      <td>...</td>\n",
       "      <td>0.000112</td>\n",
       "      <td>0.000494</td>\n",
       "      <td>0.017761</td>\n",
       "      <td>0.008660</td>\n",
       "      <td>2.050988</td>\n",
       "      <td>11.119476</td>\n",
       "      <td>127.318597</td>\n",
       "      <td>2.178341</td>\n",
       "      <td>1.179688</td>\n",
       "      <td>1</td>\n",
       "    </tr>\n",
       "    <tr>\n",
       "      <th>4</th>\n",
       "      <td>1151.177330</td>\n",
       "      <td>43.918366</td>\n",
       "      <td>1421.782051</td>\n",
       "      <td>54.242160</td>\n",
       "      <td>96.720007</td>\n",
       "      <td>48.215822</td>\n",
       "      <td>1.839473</td>\n",
       "      <td>3.279993</td>\n",
       "      <td>2621.175204</td>\n",
       "      <td>29.487873</td>\n",
       "      <td>...</td>\n",
       "      <td>-0.000100</td>\n",
       "      <td>-0.002736</td>\n",
       "      <td>0.023715</td>\n",
       "      <td>0.013055</td>\n",
       "      <td>1.816544</td>\n",
       "      <td>13.590641</td>\n",
       "      <td>87.718281</td>\n",
       "      <td>2.221121</td>\n",
       "      <td>1.249612</td>\n",
       "      <td>1</td>\n",
       "    </tr>\n",
       "  </tbody>\n",
       "</table>\n",
       "<p>5 rows × 31 columns</p>\n",
       "</div>"
      ],
      "text/plain": [
       "           VLF    VLF_PCT           LF     LF_PCT      LF_NU         HF  \\\n",
       "0  2661.894136  72.203287  1009.249419  27.375666  98.485263  15.522603   \n",
       "1  2314.265450  76.975728   690.113275  22.954139  99.695397   2.108525   \n",
       "2  1373.887112  51.152225  1298.222619  48.335104  98.950472  13.769729   \n",
       "3  2410.357408  70.180308  1005.981659  29.290305  98.224706  18.181913   \n",
       "4  1151.177330  43.918366  1421.782051  54.242160  96.720007  48.215822   \n",
       "\n",
       "     HF_PCT     HF_NU           TP       LF_HF  ...  MEAN_REL_RR  \\\n",
       "0  0.421047  1.514737  3686.666157   65.018055  ...    -0.000203   \n",
       "1  0.070133  0.304603  3006.487251  327.296635  ...    -0.000059   \n",
       "2  0.512671  1.049528  2685.879461   94.280910  ...    -0.000011   \n",
       "3  0.529387  1.775294  3434.520980   55.328701  ...     0.000112   \n",
       "4  1.839473  3.279993  2621.175204   29.487873  ...    -0.000100   \n",
       "\n",
       "   MEDIAN_REL_RR  SDRR_REL_RR  RMSSD_REL_RR  SDRR_RMSSD_REL_RR        SD1  \\\n",
       "0      -0.000179     0.017080      0.007969           2.143342  11.001565   \n",
       "1       0.000611     0.013978      0.004769           2.930855   9.170129   \n",
       "2      -0.000263     0.018539      0.008716           2.127053  11.533417   \n",
       "3       0.000494     0.017761      0.008660           2.050988  11.119476   \n",
       "4      -0.002736     0.023715      0.013055           1.816544  13.590641   \n",
       "\n",
       "          SD2    sampen    higuci  condition  \n",
       "0  199.061782  2.139754  1.163485          1  \n",
       "1  114.634458  2.174499  1.084711          0  \n",
       "2  118.939253  2.135350  1.176315          0  \n",
       "3  127.318597  2.178341  1.179688          1  \n",
       "4   87.718281  2.221121  1.249612          1  \n",
       "\n",
       "[5 rows x 31 columns]"
      ]
     },
     "execution_count": 37,
     "metadata": {},
     "output_type": "execute_result"
    }
   ],
   "source": [
    "X_train.head()"
   ]
  },
  {
   "cell_type": "code",
   "execution_count": 55,
   "metadata": {},
   "outputs": [
    {
     "data": {
      "text/plain": [
       "<matplotlib.axes._subplots.AxesSubplot at 0x1ce0372c580>"
      ]
     },
     "execution_count": 55,
     "metadata": {},
     "output_type": "execute_result"
    },
    {
     "data": {
      "image/png": "[encoded data removed]",
      "text/plain": [
       "<Figure size 432x288 with 1 Axes>"
      ]
     },
     "metadata": {
      "needs_background": "light"
     },
     "output_type": "display_data"
    }
   ],
   "source": [
    "sns.scatterplot(x = X_train['MEAN_RR'], y = y_train)"
   ]
  },
  {
   "cell_type": "code",
   "execution_count": 56,
   "metadata": {},
   "outputs": [
    {
     "data": {
      "text/plain": [
       "array([64.64193723, 74.14351532, 69.10624728, ..., 60.95079273,\n",
       "       77.3618022 , 77.34983413])"
      ]
     },
     "execution_count": 56,
     "metadata": {},
     "output_type": "execute_result"
    }
   ],
   "source": [
    "from sklearn.linear_model import LinearRegression\n",
    "\n",
    "model = LinearRegression()\n",
    "\n",
    "model.fit(X_train, y_train)\n",
    "\n",
    "y_test_predict = model.predict(X_test)\n",
    "y_train_predict = model.predict(X_train)\n",
    "y_test_predict"
   ]
  },
  {
   "cell_type": "code",
   "execution_count": null,
   "metadata": {},
   "outputs": [],
   "source": []
  },
  {
   "cell_type": "code",
   "execution_count": 8,
   "metadata": {},
   "outputs": [
    {
     "data": {
      "text/plain": [
       "count    369289.000000\n",
       "mean        115.977200\n",
       "std         360.855129\n",
       "min           2.319952\n",
       "25%          14.737458\n",
       "50%          28.789747\n",
       "75%          80.429614\n",
       "max        7796.443096\n",
       "Name: LF_HF, dtype: float64"
      ]
     },
     "execution_count": 8,
     "metadata": {},
     "output_type": "execute_result"
    }
   ],
   "source": [
    "X_train['LF_HF'].describe()"
   ]
  },
  {
   "cell_type": "code",
   "execution_count": 39,
   "metadata": {},
   "outputs": [],
   "source": [
    "X_train['SDRR'] = ((X_train['SDRR'] > 141-39) & (X_train['SDRR'] < 141+39))"
   ]
  },
  {
   "cell_type": "code",
   "execution_count": 41,
   "metadata": {},
   "outputs": [],
   "source": [
    "X_train['RMSSD'] = ((X_train['RMSSD'] > 27-12) & (X_train['RMSSD'] < 27+12))"
   ]
  },
  {
   "cell_type": "code",
   "execution_count": 23,
   "metadata": {},
   "outputs": [],
   "source": [
    "X_train['pNN50_Normal'] = ((X_train['pNN50'] > 0.20-0.16) & (X_train['pNN50'] < 0.20+0.16))"
   ]
  },
  {
   "cell_type": "code",
   "execution_count": 52,
   "metadata": {},
   "outputs": [],
   "source": [
    "X_train['TP'] = ((X_train['TP'] > 3466-1018) & (X_train['TP'] < 3466+1018))"
   ]
  },
  {
   "cell_type": "code",
   "execution_count": 62,
   "metadata": {},
   "outputs": [],
   "source": [
    "X_train['VLF'] = ((X_train['VLF'] > 627-215) & (X_train['VLF'] < 627+215))\n",
    "X_train['LF'] = ((X_train['LF'] > 1170-416) & (X_train['LF'] < 1170+416))"
   ]
  },
  {
   "cell_type": "code",
   "execution_count": 66,
   "metadata": {},
   "outputs": [],
   "source": [
    "X_train['HF'] = ((X_train['HF'] > 975-203) & (X_train['HF'] < 975+203))"
   ]
  },
  {
   "cell_type": "code",
   "execution_count": 70,
   "metadata": {},
   "outputs": [],
   "source": [
    "X_train['LF_HF'] = ((X_train['LF_HF'] > 150) & (X_train['LF_HF'] < 200))"
   ]
  },
  {
   "cell_type": "code",
   "execution_count": null,
   "metadata": {},
   "outputs": [],
   "source": []
  },
  {
   "cell_type": "code",
   "execution_count": null,
   "metadata": {},
   "outputs": [],
   "source": []
  },
  {
   "cell_type": "code",
   "execution_count": 44,
   "metadata": {},
   "outputs": [],
   "source": [
    "X_test['SDRR'] = ((X_test['SDRR'] > 141-39) & (X_test['SDRR'] < 141+39))\n",
    "X_test['RMSSD'] = ((X_test['RMSSD'] > 27-12) & (X_test['RMSSD'] < 27+12))\n",
    "X_test['pNN50'] = ((X_test['pNN50'] > 0.20-0.16) & (X_test['pNN50'] < 0.20+0.16))"
   ]
  },
  {
   "cell_type": "code",
   "execution_count": 53,
   "metadata": {},
   "outputs": [],
   "source": [
    "X_test['TP'] = ((X_test['TP'] > 3466-1018) & (X_test['TP'] < 3466+1018))"
   ]
  },
  {
   "cell_type": "code",
   "execution_count": 63,
   "metadata": {},
   "outputs": [],
   "source": [
    "X_test['VLF'] = ((X_test['VLF'] > 627-215) & (X_test['VLF'] < 627+215))\n",
    "X_test['LF'] = ((X_test['LF'] > 1170-416) & (X_test['LF'] < 1170+416))"
   ]
  },
  {
   "cell_type": "code",
   "execution_count": 67,
   "metadata": {},
   "outputs": [],
   "source": [
    "X_test['HF'] = ((X_test['HF'] > 975-203) & (X_test['HF'] < 975+203))"
   ]
  },
  {
   "cell_type": "code",
   "execution_count": 71,
   "metadata": {},
   "outputs": [],
   "source": [
    "X_test['LF_HF'] = ((X_test['LF_HF'] > 150) & (X_test['LF_HF'] < 200))"
   ]
  },
  {
   "cell_type": "code",
   "execution_count": null,
   "metadata": {},
   "outputs": [],
   "source": []
  },
  {
   "cell_type": "code",
   "execution_count": null,
   "metadata": {},
   "outputs": [],
   "source": []
  },
  {
   "cell_type": "code",
   "execution_count": 61,
   "metadata": {},
   "outputs": [
    {
     "data": {
      "text/html": [
       "<div>\n",
       "<style scoped>\n",
       "    .dataframe tbody tr th:only-of-type {\n",
       "        vertical-align: middle;\n",
       "    }\n",
       "\n",
       "    .dataframe tbody tr th {\n",
       "        vertical-align: top;\n",
       "    }\n",
       "\n",
       "    .dataframe thead th {\n",
       "        text-align: right;\n",
       "    }\n",
       "</style>\n",
       "<table border=\"1\" class=\"dataframe\">\n",
       "  <thead>\n",
       "    <tr style=\"text-align: right;\">\n",
       "      <th></th>\n",
       "      <th>VLF</th>\n",
       "      <th>VLF_PCT</th>\n",
       "      <th>LF</th>\n",
       "      <th>LF_PCT</th>\n",
       "      <th>LF_NU</th>\n",
       "      <th>HF</th>\n",
       "      <th>HF_PCT</th>\n",
       "      <th>HF_NU</th>\n",
       "      <th>TP</th>\n",
       "      <th>LF_HF</th>\n",
       "      <th>...</th>\n",
       "      <th>MEAN_REL_RR</th>\n",
       "      <th>MEDIAN_REL_RR</th>\n",
       "      <th>SDRR_REL_RR</th>\n",
       "      <th>RMSSD_REL_RR</th>\n",
       "      <th>SDRR_RMSSD_REL_RR</th>\n",
       "      <th>SD1</th>\n",
       "      <th>SD2</th>\n",
       "      <th>sampen</th>\n",
       "      <th>higuci</th>\n",
       "      <th>condition</th>\n",
       "    </tr>\n",
       "  </thead>\n",
       "  <tbody>\n",
       "    <tr>\n",
       "      <th>117514</th>\n",
       "      <td>4899.596270</td>\n",
       "      <td>88.547189</td>\n",
       "      <td>622.685279</td>\n",
       "      <td>11.253383</td>\n",
       "      <td>98.258693</td>\n",
       "      <td>11.035013</td>\n",
       "      <td>0.199429</td>\n",
       "      <td>1.741307</td>\n",
       "      <td>5533.316562</td>\n",
       "      <td>56.428139</td>\n",
       "      <td>...</td>\n",
       "      <td>0.000061</td>\n",
       "      <td>0.000256</td>\n",
       "      <td>0.016507</td>\n",
       "      <td>0.006817</td>\n",
       "      <td>2.421357</td>\n",
       "      <td>10.194915</td>\n",
       "      <td>277.660017</td>\n",
       "      <td>1.622739</td>\n",
       "      <td>1.110469</td>\n",
       "      <td>1</td>\n",
       "    </tr>\n",
       "    <tr>\n",
       "      <th>189193</th>\n",
       "      <td>1185.896344</td>\n",
       "      <td>63.142472</td>\n",
       "      <td>663.825506</td>\n",
       "      <td>35.345065</td>\n",
       "      <td>95.896463</td>\n",
       "      <td>28.405975</td>\n",
       "      <td>1.512462</td>\n",
       "      <td>4.103537</td>\n",
       "      <td>1878.127825</td>\n",
       "      <td>23.369221</td>\n",
       "      <td>...</td>\n",
       "      <td>-0.000019</td>\n",
       "      <td>0.000094</td>\n",
       "      <td>0.016221</td>\n",
       "      <td>0.008855</td>\n",
       "      <td>1.831861</td>\n",
       "      <td>9.753552</td>\n",
       "      <td>86.131462</td>\n",
       "      <td>2.169129</td>\n",
       "      <td>1.223882</td>\n",
       "      <td>1</td>\n",
       "    </tr>\n",
       "    <tr>\n",
       "      <th>2835</th>\n",
       "      <td>2076.235245</td>\n",
       "      <td>60.719431</td>\n",
       "      <td>1323.314824</td>\n",
       "      <td>38.700298</td>\n",
       "      <td>98.522755</td>\n",
       "      <td>19.841717</td>\n",
       "      <td>0.580270</td>\n",
       "      <td>1.477245</td>\n",
       "      <td>3419.391786</td>\n",
       "      <td>66.693565</td>\n",
       "      <td>...</td>\n",
       "      <td>0.000068</td>\n",
       "      <td>-0.000973</td>\n",
       "      <td>0.019660</td>\n",
       "      <td>0.009983</td>\n",
       "      <td>1.969368</td>\n",
       "      <td>12.730021</td>\n",
       "      <td>136.522287</td>\n",
       "      <td>2.206366</td>\n",
       "      <td>1.193030</td>\n",
       "      <td>1</td>\n",
       "    </tr>\n",
       "    <tr>\n",
       "      <th>279980</th>\n",
       "      <td>1438.119279</td>\n",
       "      <td>67.115771</td>\n",
       "      <td>695.559671</td>\n",
       "      <td>32.461162</td>\n",
       "      <td>98.713467</td>\n",
       "      <td>9.065234</td>\n",
       "      <td>0.423067</td>\n",
       "      <td>1.286533</td>\n",
       "      <td>2142.744184</td>\n",
       "      <td>76.728262</td>\n",
       "      <td>...</td>\n",
       "      <td>0.000130</td>\n",
       "      <td>-0.000512</td>\n",
       "      <td>0.014203</td>\n",
       "      <td>0.005585</td>\n",
       "      <td>2.543012</td>\n",
       "      <td>8.600823</td>\n",
       "      <td>89.216232</td>\n",
       "      <td>2.223403</td>\n",
       "      <td>1.104592</td>\n",
       "      <td>1</td>\n",
       "    </tr>\n",
       "    <tr>\n",
       "      <th>2230</th>\n",
       "      <td>451.644765</td>\n",
       "      <td>41.300550</td>\n",
       "      <td>553.850287</td>\n",
       "      <td>50.646710</td>\n",
       "      <td>86.281405</td>\n",
       "      <td>88.061245</td>\n",
       "      <td>8.052740</td>\n",
       "      <td>13.718595</td>\n",
       "      <td>1093.556298</td>\n",
       "      <td>6.289376</td>\n",
       "      <td>...</td>\n",
       "      <td>0.000099</td>\n",
       "      <td>-0.001389</td>\n",
       "      <td>0.017806</td>\n",
       "      <td>0.012541</td>\n",
       "      <td>1.419774</td>\n",
       "      <td>8.905110</td>\n",
       "      <td>97.704207</td>\n",
       "      <td>2.194839</td>\n",
       "      <td>1.284765</td>\n",
       "      <td>1</td>\n",
       "    </tr>\n",
       "  </tbody>\n",
       "</table>\n",
       "<p>5 rows × 31 columns</p>\n",
       "</div>"
      ],
      "text/plain": [
       "                VLF    VLF_PCT           LF     LF_PCT      LF_NU         HF  \\\n",
       "117514  4899.596270  88.547189   622.685279  11.253383  98.258693  11.035013   \n",
       "189193  1185.896344  63.142472   663.825506  35.345065  95.896463  28.405975   \n",
       "2835    2076.235245  60.719431  1323.314824  38.700298  98.522755  19.841717   \n",
       "279980  1438.119279  67.115771   695.559671  32.461162  98.713467   9.065234   \n",
       "2230     451.644765  41.300550   553.850287  50.646710  86.281405  88.061245   \n",
       "\n",
       "          HF_PCT      HF_NU           TP      LF_HF  ...  MEAN_REL_RR  \\\n",
       "117514  0.199429   1.741307  5533.316562  56.428139  ...     0.000061   \n",
       "189193  1.512462   4.103537  1878.127825  23.369221  ...    -0.000019   \n",
       "2835    0.580270   1.477245  3419.391786  66.693565  ...     0.000068   \n",
       "279980  0.423067   1.286533  2142.744184  76.728262  ...     0.000130   \n",
       "2230    8.052740  13.718595  1093.556298   6.289376  ...     0.000099   \n",
       "\n",
       "        MEDIAN_REL_RR  SDRR_REL_RR  RMSSD_REL_RR  SDRR_RMSSD_REL_RR  \\\n",
       "117514       0.000256     0.016507      0.006817           2.421357   \n",
       "189193       0.000094     0.016221      0.008855           1.831861   \n",
       "2835        -0.000973     0.019660      0.009983           1.969368   \n",
       "279980      -0.000512     0.014203      0.005585           2.543012   \n",
       "2230        -0.001389     0.017806      0.012541           1.419774   \n",
       "\n",
       "              SD1         SD2    sampen    higuci  condition  \n",
       "117514  10.194915  277.660017  1.622739  1.110469          1  \n",
       "189193   9.753552   86.131462  2.169129  1.223882          1  \n",
       "2835    12.730021  136.522287  2.206366  1.193030          1  \n",
       "279980   8.600823   89.216232  2.223403  1.104592          1  \n",
       "2230     8.905110   97.704207  2.194839  1.284765          1  \n",
       "\n",
       "[5 rows x 31 columns]"
      ]
     },
     "execution_count": 61,
     "metadata": {},
     "output_type": "execute_result"
    }
   ],
   "source": [
    "X_train.head()"
   ]
  },
  {
   "cell_type": "code",
   "execution_count": 57,
   "metadata": {},
   "outputs": [],
   "source": [
    "from sklearn.ensemble import ExtraTreesRegressor\n",
    "\n",
    "model = ExtraTreesRegressor(n_jobs=-1, random_state=100)\n",
    "\n",
    "model.fit(X_train, y_train)\n",
    "\n",
    "y_test_predict = model.predict(X_test)\n",
    "y_train_predict = model.predict(X_train)\n",
    "\n"
   ]
  },
  {
   "cell_type": "code",
   "execution_count": 58,
   "metadata": {},
   "outputs": [
    {
     "data": {
      "text/plain": [
       "array([64.71002415, 73.77841494, 69.19808568, ..., 60.94640077,\n",
       "       77.408655  , 76.60455758])"
      ]
     },
     "execution_count": 58,
     "metadata": {},
     "output_type": "execute_result"
    }
   ],
   "source": [
    "y_test_predict"
   ]
  },
  {
   "cell_type": "code",
   "execution_count": 59,
   "metadata": {},
   "outputs": [],
   "source": [
    "df = pd.concat([pd.DataFrame(y_id),pd.DataFrame(y_test_predict)], axis=1, ignore_index=True)\n",
    "df.columns = ['uuid','HR']\n",
    "df.to_csv('Norm_Submission.csv', index=False)"
   ]
  },
  {
   "cell_type": "code",
   "execution_count": 77,
   "metadata": {},
   "outputs": [
    {
     "data": {
      "text/plain": [
       "<matplotlib.axes._subplots.AxesSubplot at 0x2525f374310>"
      ]
     },
     "execution_count": 77,
     "metadata": {},
     "output_type": "execute_result"
    },
    {
     "data": {
      "image/png": "[encoded data removed]",
      "text/plain": [
       "<Figure size 432x288 with 1 Axes>"
      ]
     },
     "metadata": {
      "needs_background": "light"
     },
     "output_type": "display_data"
    }
   ],
   "source": [
    "sns.scatterplot(x = X_train['MEAN_RR'], y = y_train)"
   ]
  },
  {
   "cell_type": "code",
   "execution_count": 104,
   "metadata": {},
   "outputs": [
    {
     "data": {
      "text/plain": [
       "ExtraTreesRegressor(n_jobs=-1, random_state=100)"
      ]
     },
     "execution_count": 104,
     "metadata": {},
     "output_type": "execute_result"
    }
   ],
   "source": [
    "model"
   ]
  },
  {
   "cell_type": "code",
   "execution_count": null,
   "metadata": {},
   "outputs": [],
   "source": []
  }
 ],
 "metadata": {
  "kernelspec": {
   "display_name": "Python 3",
   "language": "python",
   "name": "python3"
  },
  "language_info": {
   "codemirror_mode": {
    "name": "ipython",
    "version": 3
   },
   "file_extension": ".py",
   "mimetype": "text/x-python",
   "name": "python",
   "nbconvert_exporter": "python",
   "pygments_lexer": "ipython3",
   "version": "3.8.3"
  }
 },
 "nbformat": 4,
 "nbformat_minor": 4
}
