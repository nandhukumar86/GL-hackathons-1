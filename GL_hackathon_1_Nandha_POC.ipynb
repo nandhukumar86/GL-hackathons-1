{
  "nbformat": 4,
  "nbformat_minor": 0,
  "metadata": {
    "colab": {
      "name": "GL_hackathon_1_Nandha_POC.ipynb",
      "provenance": [],
      "collapsed_sections": [],
      "mount_file_id": "18DX5mlKZrKfUFLvAr7lXdDwBhlKJa1BJ",
      "authorship_tag": "ABX9TyNsX4Kq8dGuGUOtdi8lADFf",
      "include_colab_link": true
    },
    "kernelspec": {
      "name": "python3",
      "display_name": "Python 3"
    }
  },
  "cells": [
    {
      "cell_type": "markdown",
      "metadata": {
        "id": "view-in-github",
        "colab_type": "text"
      },
      "source": [
        "<a href=\"https://colab.research.google.com/github/nandhukumar86/GL-hackathons-1/blob/main/GL_hackathon_1_Nandha_POC.ipynb\" target=\"_parent\"><img src=\"https://colab.research.google.com/assets/colab-badge.svg\" alt=\"Open In Colab\"/></a>"
      ]
    },
    {
      "cell_type": "markdown",
      "metadata": {
        "id": "eP60ILKc2Sn1"
      },
      "source": [
        "# Load Basic Imports"
      ]
    },
    {
      "cell_type": "code",
      "metadata": {
        "id": "YamzLjWDzIbz"
      },
      "source": [
        "import pandas as pd\n",
        "import numpy as np\n",
        "\n",
        "import seaborn as sns\n",
        "import matplotlib.pyplot as plt\n",
        "sns.set(color_codes=True)\n",
        "%matplotlib inline\n"
      ],
      "execution_count": 2,
      "outputs": []
    },
    {
      "cell_type": "markdown",
      "metadata": {
        "id": "A7PElCkH2aKm"
      },
      "source": [
        "# Load the dataset"
      ]
    },
    {
      "cell_type": "code",
      "metadata": {
        "id": "Nc4gMHEP00Ph"
      },
      "source": [
        "fd_train = pd.read_csv('/content/drive/MyDrive/Colab Notebooks/GL_Hackathon/frequency_domain_features_train.csv')\n",
        "fd_test = pd.read_csv('/content/drive/MyDrive/Colab Notebooks/GL_Hackathon/frequency_domain_features_test.csv')\n",
        "td_train = pd.read_csv('/content/drive/MyDrive/Colab Notebooks/GL_Hackathon/time_domain_features_train.csv')\n",
        "td_test = pd.read_csv('/content/drive/MyDrive/Colab Notebooks/GL_Hackathon/time_domain_features_test.csv')\n",
        "hr_train = pd.read_csv('/content/drive/MyDrive/Colab Notebooks/GL_Hackathon/heart_rate_non_linear_features_train.csv')\n",
        "hr_test = pd.read_csv('/content/drive/MyDrive/Colab Notebooks/GL_Hackathon/heart_rate_non_linear_features_test.csv')"
      ],
      "execution_count": 3,
      "outputs": []
    },
    {
      "cell_type": "markdown",
      "metadata": {
        "id": "BkUBtD-H3CP_"
      },
      "source": [
        "HR is the the column to be predicted"
      ]
    },
    {
      "cell_type": "markdown",
      "metadata": {
        "id": "AFG3EdwX5Vte"
      },
      "source": [
        "#Check of distinct uuid"
      ]
    },
    {
      "cell_type": "code",
      "metadata": {
        "colab": {
          "base_uri": "https://localhost:8080/"
        },
        "id": "o9C-t_Az3QpD",
        "outputId": "555a3181-d0d1-45a6-c3be-e275dad71b9d"
      },
      "source": [
        "fd_train['uuid'].value_counts().size, td_train['uuid'].value_counts().size, hr_train['uuid'].value_counts().size"
      ],
      "execution_count": 4,
      "outputs": [
        {
          "output_type": "execute_result",
          "data": {
            "text/plain": [
              "(369289, 369289, 369289)"
            ]
          },
          "metadata": {
            "tags": []
          },
          "execution_count": 4
        }
      ]
    },
    {
      "cell_type": "code",
      "metadata": {
        "colab": {
          "base_uri": "https://localhost:8080/"
        },
        "id": "E-ST6FGV6_9A",
        "outputId": "579432f5-872f-4406-f8e3-cfd606a8a7cd"
      },
      "source": [
        "fd_test['uuid'].value_counts().size, td_test['uuid'].value_counts().size, hr_test['uuid'].value_counts().size"
      ],
      "execution_count": 5,
      "outputs": [
        {
          "output_type": "execute_result",
          "data": {
            "text/plain": [
              "(41033, 41033, 41033)"
            ]
          },
          "metadata": {
            "tags": []
          },
          "execution_count": 5
        }
      ]
    },
    {
      "cell_type": "markdown",
      "metadata": {
        "id": "aslzY66p6a6k"
      },
      "source": [
        "This shows all has unique values"
      ]
    },
    {
      "cell_type": "code",
      "metadata": {
        "id": "PdIfFnAJ7Wzw"
      },
      "source": [
        "df3 = pd.merge(fd_train, td_train, how='outer', on='uuid')\n",
        "df_train = pd.merge(df3, hr_train, how='outer', on='uuid')"
      ],
      "execution_count": 6,
      "outputs": []
    },
    {
      "cell_type": "code",
      "metadata": {
        "colab": {
          "base_uri": "https://localhost:8080/"
        },
        "id": "bmei_Qtv86Sg",
        "outputId": "25122068-ad89-4371-ea5e-2cd792e1c34d"
      },
      "source": [
        "df_train.shape"
      ],
      "execution_count": 7,
      "outputs": [
        {
          "output_type": "execute_result",
          "data": {
            "text/plain": [
              "(369289, 37)"
            ]
          },
          "metadata": {
            "tags": []
          },
          "execution_count": 7
        }
      ]
    },
    {
      "cell_type": "code",
      "metadata": {
        "id": "hQLopFHF88se"
      },
      "source": [
        "df2 = pd.merge(fd_test, td_test, how='outer', on='uuid')\n",
        "df_test = pd.merge(df2, hr_test, how='outer', on='uuid')"
      ],
      "execution_count": 8,
      "outputs": []
    },
    {
      "cell_type": "code",
      "metadata": {
        "colab": {
          "base_uri": "https://localhost:8080/"
        },
        "id": "t-YWWN9X9cNR",
        "outputId": "0ed5df20-b098-40b1-f5b9-67966025500c"
      },
      "source": [
        "df_test.shape"
      ],
      "execution_count": 9,
      "outputs": [
        {
          "output_type": "execute_result",
          "data": {
            "text/plain": [
              "(41033, 36)"
            ]
          },
          "metadata": {
            "tags": []
          },
          "execution_count": 9
        }
      ]
    },
    {
      "cell_type": "code",
      "metadata": {
        "id": "kpTufcRe9oLu"
      },
      "source": [
        "y_train = df_train.pop('HR')"
      ],
      "execution_count": 10,
      "outputs": []
    },
    {
      "cell_type": "code",
      "metadata": {
        "id": "sGAOpJRr-MFt"
      },
      "source": [
        "X_train = df_train.copy(deep = True)\n",
        "X_test = df_test.copy(deep = True)"
      ],
      "execution_count": 11,
      "outputs": []
    },
    {
      "cell_type": "code",
      "metadata": {
        "colab": {
          "base_uri": "https://localhost:8080/"
        },
        "id": "XabjnOCt-WRP",
        "outputId": "47c8ba1d-d7b8-4cf6-bb81-e8c04b9c7e97"
      },
      "source": [
        "X_train.shape, X_test.shape"
      ],
      "execution_count": 12,
      "outputs": [
        {
          "output_type": "execute_result",
          "data": {
            "text/plain": [
              "((369289, 36), (41033, 36))"
            ]
          },
          "metadata": {
            "tags": []
          },
          "execution_count": 12
        }
      ]
    },
    {
      "cell_type": "markdown",
      "metadata": {
        "id": "2DoXDZZT_Rh-"
      },
      "source": [
        "#Checking the distribution of heartrate"
      ]
    },
    {
      "cell_type": "markdown",
      "metadata": {
        "id": "eXnp58ar_ecc"
      },
      "source": [
        "1. All HR are positive values.\n",
        "2. Right Sckewed, can bring in log transform to make normalized. Will check that.\n"
      ]
    },
    {
      "cell_type": "markdown",
      "metadata": {
        "id": "2J1a3z5uAHnz"
      },
      "source": [
        "## Why log?\n",
        "\n",
        "  y = exp(log(y))\n",
        "\n",
        "A model will perform better if the data is normally distributed. Since our HR is not normal we will make it normal by log, and say y_norm [check the values]. Train the model with y_norm, predict the y_norm for test data, then during submit take the expo of y_norm to get the yhat.\n"
      ]
    },
    {
      "cell_type": "markdown",
      "metadata": {
        "id": "Rgu8NwSeCWSv"
      },
      "source": [
        "# Some basic EDA"
      ]
    },
    {
      "cell_type": "markdown",
      "metadata": {
        "id": "hlanjlAvDCcS"
      },
      "source": [
        "## Drop datasetId"
      ]
    },
    {
      "cell_type": "markdown",
      "metadata": {
        "id": "jA6fPv5SDNRI"
      },
      "source": [
        "datasetId contains same values and it doesnot provide any additional information to the model. Hence we will drop the column in both test and train dataset."
      ]
    },
    {
      "cell_type": "code",
      "metadata": {
        "id": "YBr1uwmPC_i9"
      },
      "source": [
        "X_train.drop(columns= ['datasetId'], inplace=True)\n",
        "X_test.drop(columns= ['datasetId'], inplace=True)"
      ],
      "execution_count": 13,
      "outputs": []
    },
    {
      "cell_type": "code",
      "metadata": {
        "colab": {
          "base_uri": "https://localhost:8080/"
        },
        "id": "qMMacFzwDe-Z",
        "outputId": "b6eb2542-9401-41d1-8ac4-b314cf09fc35"
      },
      "source": [
        "df_train.condition.value_counts()"
      ],
      "execution_count": 14,
      "outputs": [
        {
          "output_type": "execute_result",
          "data": {
            "text/plain": [
              "no stress        200082\n",
              "interruption     105150\n",
              "time pressure     64057\n",
              "Name: condition, dtype: int64"
            ]
          },
          "metadata": {
            "tags": []
          },
          "execution_count": 14
        }
      ]
    },
    {
      "cell_type": "code",
      "metadata": {
        "colab": {
          "base_uri": "https://localhost:8080/"
        },
        "id": "G70qUm1dEbGg",
        "outputId": "332526b3-a420-4d10-b35e-0402b11daea5"
      },
      "source": [
        "df_test.condition.value_counts()"
      ],
      "execution_count": 15,
      "outputs": [
        {
          "output_type": "execute_result",
          "data": {
            "text/plain": [
              "no stress        22158\n",
              "interruption     11782\n",
              "time pressure     7093\n",
              "Name: condition, dtype: int64"
            ]
          },
          "metadata": {
            "tags": []
          },
          "execution_count": 15
        }
      ]
    },
    {
      "cell_type": "code",
      "metadata": {
        "id": "mzcE0JxJF9wM"
      },
      "source": [
        "X_train.drop(columns= ['uuid'], inplace=True)"
      ],
      "execution_count": 16,
      "outputs": []
    },
    {
      "cell_type": "code",
      "metadata": {
        "id": "UVhXZmA2GOH7"
      },
      "source": [
        "y_id = X_test.pop('uuid')"
      ],
      "execution_count": 17,
      "outputs": []
    },
    {
      "cell_type": "markdown",
      "metadata": {
        "id": "Btnxh2ufV7Pj"
      },
      "source": [
        "### Some Interesting features, just forget about the high corr features.!! May be thats wrong."
      ]
    },
    {
      "cell_type": "markdown",
      "metadata": {
        "id": "Qm3kfs_wXuyR"
      },
      "source": [
        "1. VLF_PCT = (VLF)/(VLF+HF+LF)\n",
        "2. LF_PCT = (LF)/(VLF+HF+LF)\n",
        "3. HF_PCT = 100 - (VLF_PCT + LF_PCT)\n"
      ]
    },
    {
      "cell_type": "markdown",
      "metadata": {
        "id": "bB3XxN17YIn9"
      },
      "source": [
        "Are we going to process the raw data or computed data????"
      ]
    },
    {
      "cell_type": "markdown",
      "metadata": {
        "id": "yl7ZW1PcZ-KZ"
      },
      "source": [
        "Interesting Formula and calculations!!!!!"
      ]
    },
    {
      "cell_type": "markdown",
      "metadata": {
        "id": "UYhTojEXb7TN"
      },
      "source": [
        "1. HF_NU = HF/(HF+LF)\n",
        "2. LF_NU = LF/(HF+LF)"
      ]
    },
    {
      "cell_type": "markdown",
      "metadata": {
        "id": "Ql0UjNxicf2E"
      },
      "source": [
        "And ofcource \n",
        "1. TP = VLF + LF + HF\n",
        "2. LF_HF = LF / HF\n",
        "3. HF_LF = HF / LF"
      ]
    },
    {
      "cell_type": "markdown",
      "metadata": {
        "id": "Eov5et5-dIcv"
      },
      "source": [
        "Raw data : VLF, LF, HF, all others are computed or derived data!!\n",
        "\n",
        "The question here is are we going to use raw data or computed data.\n"
      ]
    },
    {
      "cell_type": "markdown",
      "metadata": {
        "id": "lvpTBIai44VD"
      },
      "source": [
        "Can drop SKEW_REL_RR and KURT_REL_RR"
      ]
    },
    {
      "cell_type": "code",
      "metadata": {
        "id": "lJn9GA5gDrrX"
      },
      "source": [
        "X_train.drop(columns= ['SKEW_REL_RR','KURT_REL_RR'], inplace=True)\n",
        "X_test.drop(columns= ['SKEW_REL_RR','KURT_REL_RR'], inplace=True)"
      ],
      "execution_count": 18,
      "outputs": []
    },
    {
      "cell_type": "code",
      "metadata": {
        "id": "2a20GlbSD1Rm"
      },
      "source": [
        "X_train.drop(columns= ['SDSD_REL_RR'], inplace=True) \n",
        "X_test.drop(columns= ['SDSD_REL_RR'], inplace=True) "
      ],
      "execution_count": 19,
      "outputs": []
    },
    {
      "cell_type": "code",
      "metadata": {
        "colab": {
          "base_uri": "https://localhost:8080/"
        },
        "id": "xYs4xui1w6Gm",
        "outputId": "6b5a0fdb-7b14-49e2-93ff-9d8ae514e6f9"
      },
      "source": [
        "X_train.shape, X_test.shape"
      ],
      "execution_count": 20,
      "outputs": [
        {
          "output_type": "execute_result",
          "data": {
            "text/plain": [
              "((369289, 31), (41033, 31))"
            ]
          },
          "metadata": {
            "tags": []
          },
          "execution_count": 20
        }
      ]
    },
    {
      "cell_type": "code",
      "metadata": {
        "colab": {
          "base_uri": "https://localhost:8080/"
        },
        "id": "UkP065FUyQvg",
        "outputId": "d9a4d170-3f74-4a32-8ce0-a51ab779c795"
      },
      "source": [
        "X_train.columns"
      ],
      "execution_count": 21,
      "outputs": [
        {
          "output_type": "execute_result",
          "data": {
            "text/plain": [
              "Index(['VLF', 'VLF_PCT', 'LF', 'LF_PCT', 'LF_NU', 'HF', 'HF_PCT', 'HF_NU',\n",
              "       'TP', 'LF_HF', 'HF_LF', 'MEAN_RR', 'MEDIAN_RR', 'SDRR', 'RMSSD', 'SDSD',\n",
              "       'SDRR_RMSSD', 'pNN25', 'pNN50', 'KURT', 'SKEW', 'MEAN_REL_RR',\n",
              "       'MEDIAN_REL_RR', 'SDRR_REL_RR', 'RMSSD_REL_RR', 'SDRR_RMSSD_REL_RR',\n",
              "       'SD1', 'SD2', 'sampen', 'higuci', 'condition'],\n",
              "      dtype='object')"
            ]
          },
          "metadata": {
            "tags": []
          },
          "execution_count": 21
        }
      ]
    },
    {
      "cell_type": "code",
      "metadata": {
        "colab": {
          "base_uri": "https://localhost:8080/"
        },
        "id": "hzm-zWmQxRGo",
        "outputId": "369e8ad8-4188-4ba9-d5ec-cb496b6d10f5"
      },
      "source": [
        "import statsmodels.api as sm\n",
        "\n",
        "cols = ['VLF', 'VLF_PCT', 'LF', 'LF_PCT', 'LF_NU', 'HF', 'HF_PCT', 'HF_NU',\n",
        "       'TP', 'LF_HF', 'HF_LF', 'MEAN_RR', 'MEDIAN_RR', 'SDRR', 'RMSSD', 'SDSD',\n",
        "       'SDRR_RMSSD', 'pNN25', 'pNN50', 'KURT', 'SKEW', 'MEAN_REL_RR',\n",
        "       'MEDIAN_REL_RR', 'SDRR_REL_RR', 'RMSSD_REL_RR', 'SDRR_RMSSD_REL_RR',\n",
        "       'SD1', 'SD2', 'sampen', 'higuci']\n",
        "\n",
        "from sklearn.linear_model import Lasso\n",
        "\n",
        "model = Lasso()\n",
        "\n",
        "model.fit(X_train[cols], y_train)\n"
      ],
      "execution_count": 22,
      "outputs": [
        {
          "output_type": "execute_result",
          "data": {
            "text/plain": [
              "Lasso(alpha=1.0, copy_X=True, fit_intercept=True, max_iter=1000,\n",
              "      normalize=False, positive=False, precompute=False, random_state=None,\n",
              "      selection='cyclic', tol=0.0001, warm_start=False)"
            ]
          },
          "metadata": {
            "tags": []
          },
          "execution_count": 22
        }
      ]
    },
    {
      "cell_type": "code",
      "metadata": {
        "colab": {
          "base_uri": "https://localhost:8080/"
        },
        "id": "PI3OEqmO7r3Y",
        "outputId": "08cfb378-18a8-40e2-baf8-113a3a2d2ea8"
      },
      "source": [
        "model.coef_ * 10000"
      ],
      "execution_count": 40,
      "outputs": [
        {
          "output_type": "execute_result",
          "data": {
            "text/plain": [
              "array([-7.30171992e-01, -8.23186587e+01, -7.63112782e+00,  0.00000000e+00,\n",
              "       -0.00000000e+00,  1.51556375e+02,  0.00000000e+00,  0.00000000e+00,\n",
              "       -0.00000000e+00,  2.28945225e+01,  0.00000000e+00, -1.02400215e+03,\n",
              "        1.27110537e+02,  0.00000000e+00, -0.00000000e+00, -0.00000000e+00,\n",
              "        0.00000000e+00,  0.00000000e+00,  0.00000000e+00,  0.00000000e+00,\n",
              "        0.00000000e+00, -0.00000000e+00,  0.00000000e+00, -0.00000000e+00,\n",
              "        0.00000000e+00,  0.00000000e+00, -0.00000000e+00,  3.09092461e+02,\n",
              "       -0.00000000e+00, -0.00000000e+00])"
            ]
          },
          "metadata": {
            "tags": []
          },
          "execution_count": 40
        }
      ]
    },
    {
      "cell_type": "code",
      "metadata": {
        "id": "AIaNpdeR6D4Z"
      },
      "source": [
        "col2 = pd.DataFrame(model.coef_ * 10000,np.array(cols))\n",
        "col2.columns = ['val']"
      ],
      "execution_count": 43,
      "outputs": []
    },
    {
      "cell_type": "code",
      "metadata": {
        "id": "DWpSQCi88Fu6"
      },
      "source": [
        "final_cols = col2[col2['val']!=0].index"
      ],
      "execution_count": 50,
      "outputs": []
    },
    {
      "cell_type": "code",
      "metadata": {
        "id": "KpVwtf6EExpn"
      },
      "source": [
        "X_train[final_cols].head()\n",
        "\n",
        "X_train = X_train[final_cols]\n",
        "X_test = X_test[final_cols]"
      ],
      "execution_count": 54,
      "outputs": []
    },
    {
      "cell_type": "code",
      "metadata": {
        "id": "l3Yt9BKp9YBJ"
      },
      "source": [
        "X_train['condition'] = hr_train['condition']\n",
        "X_test['condition'] = hr_test['condition']"
      ],
      "execution_count": 59,
      "outputs": []
    },
    {
      "cell_type": "markdown",
      "metadata": {
        "id": "xtlvgF1EFCsV"
      },
      "source": [
        "# Heat Map"
      ]
    },
    {
      "cell_type": "code",
      "metadata": {
        "colab": {
          "base_uri": "https://localhost:8080/",
          "height": 888
        },
        "id": "hYqaayeSEzvN",
        "outputId": "7dae214a-7d1d-4f67-9c10-ccf45fd0c0e0"
      },
      "source": [
        "plt.figure(figsize=(15,15))\n",
        "sns.heatmap(X_train.corr(), annot=True, vmin = -1, vmax = 1)\n"
      ],
      "execution_count": 55,
      "outputs": [
        {
          "output_type": "execute_result",
          "data": {
            "text/plain": [
              "<matplotlib.axes._subplots.AxesSubplot at 0x7f8fdcc7df28>"
            ]
          },
          "metadata": {
            "tags": []
          },
          "execution_count": 55
        },
        {
          "output_type": "display_data",
          "data": {
            "image/png": "[encoded data removed]",
            "text/plain": [
              "<Figure size 1080x1080 with 2 Axes>"
            ]
          },
          "metadata": {
            "tags": [],
            "needs_background": "light"
          }
        }
      ]
    },
    {
      "cell_type": "markdown",
      "metadata": {
        "id": "jJpAMBjFFVLd"
      },
      "source": [
        "# Pair Plot"
      ]
    },
    {
      "cell_type": "code",
      "metadata": {
        "id": "7gjaI-3jFIwY"
      },
      "source": [
        "# sns.pairplot(df_train, corner=True)"
      ],
      "execution_count": null,
      "outputs": []
    },
    {
      "cell_type": "code",
      "metadata": {
        "colab": {
          "base_uri": "https://localhost:8080/"
        },
        "id": "jWjyUkRLFT-4",
        "outputId": "026d3f33-05c7-4b62-df89-49477e00658e"
      },
      "source": [
        "X_train.columns"
      ],
      "execution_count": 60,
      "outputs": [
        {
          "output_type": "execute_result",
          "data": {
            "text/plain": [
              "Index(['VLF', 'VLF_PCT', 'LF', 'HF', 'LF_HF', 'MEAN_RR', 'MEDIAN_RR', 'SD2',\n",
              "       'condition'],\n",
              "      dtype='object')"
            ]
          },
          "metadata": {
            "tags": []
          },
          "execution_count": 60
        }
      ]
    },
    {
      "cell_type": "code",
      "metadata": {
        "id": "yblYY2bYHiTL"
      },
      "source": [
        "categorical_columns = X_train.describe(include = ['O']).columns\n",
        "numerical_columns = X_train.describe().columns"
      ],
      "execution_count": 61,
      "outputs": []
    },
    {
      "cell_type": "code",
      "metadata": {
        "colab": {
          "base_uri": "https://localhost:8080/"
        },
        "id": "TKf1-Qy3HlMp",
        "outputId": "bd888e53-3d12-46d7-e8bb-d663b3961263"
      },
      "source": [
        "X_train.columns.size, X_test.columns.size"
      ],
      "execution_count": 63,
      "outputs": [
        {
          "output_type": "execute_result",
          "data": {
            "text/plain": [
              "(9, 9)"
            ]
          },
          "metadata": {
            "tags": []
          },
          "execution_count": 63
        }
      ]
    },
    {
      "cell_type": "code",
      "metadata": {
        "colab": {
          "base_uri": "https://localhost:8080/"
        },
        "id": "r61dqlauHv3J",
        "outputId": "004b1c0a-e032-4dc2-86c4-d9de9b29a5fa"
      },
      "source": [
        "categorical_columns.size +  numerical_columns.size"
      ],
      "execution_count": 64,
      "outputs": [
        {
          "output_type": "execute_result",
          "data": {
            "text/plain": [
              "9"
            ]
          },
          "metadata": {
            "tags": []
          },
          "execution_count": 64
        }
      ]
    },
    {
      "cell_type": "markdown",
      "metadata": {
        "id": "W-DklZqkH9Ky"
      },
      "source": [
        "# Pipeline"
      ]
    },
    {
      "cell_type": "code",
      "metadata": {
        "id": "C9XjOQxCHzmn"
      },
      "source": [
        "from sklearn.model_selection import GridSearchCV, RandomizedSearchCV\n",
        "\n",
        "from sklearn.pipeline import Pipeline\n",
        "from sklearn.impute import SimpleImputer, KNNImputer\n",
        "from sklearn.preprocessing import StandardScaler\n",
        "from sklearn.preprocessing import OneHotEncoder\n",
        "from sklearn.preprocessing import PowerTransformer\n",
        "from sklearn.decomposition import PCA\n",
        "\n",
        "pl_n = Pipeline([\n",
        "                #  ('imputerNaN', SimpleImputer(missing_values=np.nan, strategy='median')),\n",
        "                #  ('imputer0', SimpleImputer(missing_values=0, strategy='median')),\n",
        "                 ('std', StandardScaler()),\n",
        "                 ('power', PowerTransformer())\n",
        "])\n",
        "\n",
        "pl_c = Pipeline([\n",
        "                #  ('imputer', SimpleImputer(missing_values=np.nan, strategy='most_frequent')),\n",
        "                 ('std', OneHotEncoder(handle_unknown='ignore'))\n",
        "])\n",
        "\n",
        "from sklearn.compose import ColumnTransformer\n",
        "\n",
        "ct = ColumnTransformer([\n",
        "                        ('num', pl_n, numerical_columns),\n",
        "                        ('cat', pl_c, categorical_columns)\n",
        "])"
      ],
      "execution_count": 65,
      "outputs": []
    },
    {
      "cell_type": "code",
      "metadata": {
        "colab": {
          "base_uri": "https://localhost:8080/"
        },
        "id": "VUurRMrcvAHM",
        "outputId": "6f423d35-4eca-4fc1-ecbd-ddff992ae9c7"
      },
      "source": [
        "! pip install catboost"
      ],
      "execution_count": null,
      "outputs": [
        {
          "output_type": "stream",
          "text": [
            "Collecting catboost\n",
            "\u001b[?25l  Downloading https://files.pythonhosted.org/packages/7e/c1/c1c4707013f9e2f8a96899dd3a87f66c9167d6d776a6dc8fe7ec8678d446/catboost-0.24.3-cp36-none-manylinux1_x86_64.whl (66.3MB)\n",
            "\u001b[K     |████████████████████████████████| 66.3MB 57kB/s \n",
            "\u001b[?25hRequirement already satisfied: matplotlib in /usr/local/lib/python3.6/dist-packages (from catboost) (3.2.2)\n",
            "Requirement already satisfied: scipy in /usr/local/lib/python3.6/dist-packages (from catboost) (1.4.1)\n",
            "Requirement already satisfied: graphviz in /usr/local/lib/python3.6/dist-packages (from catboost) (0.10.1)\n",
            "Requirement already satisfied: pandas>=0.24.0 in /usr/local/lib/python3.6/dist-packages (from catboost) (1.1.4)\n",
            "Requirement already satisfied: numpy>=1.16.0 in /usr/local/lib/python3.6/dist-packages (from catboost) (1.18.5)\n",
            "Requirement already satisfied: six in /usr/local/lib/python3.6/dist-packages (from catboost) (1.15.0)\n",
            "Requirement already satisfied: plotly in /usr/local/lib/python3.6/dist-packages (from catboost) (4.4.1)\n",
            "Requirement already satisfied: cycler>=0.10 in /usr/local/lib/python3.6/dist-packages (from matplotlib->catboost) (0.10.0)\n",
            "Requirement already satisfied: python-dateutil>=2.1 in /usr/local/lib/python3.6/dist-packages (from matplotlib->catboost) (2.8.1)\n",
            "Requirement already satisfied: pyparsing!=2.0.4,!=2.1.2,!=2.1.6,>=2.0.1 in /usr/local/lib/python3.6/dist-packages (from matplotlib->catboost) (2.4.7)\n",
            "Requirement already satisfied: kiwisolver>=1.0.1 in /usr/local/lib/python3.6/dist-packages (from matplotlib->catboost) (1.3.1)\n",
            "Requirement already satisfied: pytz>=2017.2 in /usr/local/lib/python3.6/dist-packages (from pandas>=0.24.0->catboost) (2018.9)\n",
            "Requirement already satisfied: retrying>=1.3.3 in /usr/local/lib/python3.6/dist-packages (from plotly->catboost) (1.3.3)\n",
            "Installing collected packages: catboost\n",
            "Successfully installed catboost-0.24.3\n"
          ],
          "name": "stdout"
        }
      ]
    },
    {
      "cell_type": "code",
      "metadata": {
        "id": "9K3a3Br5vGbr"
      },
      "source": [
        ""
      ],
      "execution_count": null,
      "outputs": []
    },
    {
      "cell_type": "code",
      "metadata": {
        "id": "kSwDW3tV-Ebl"
      },
      "source": [
        "from sklearn.metrics import mean_absolute_error"
      ],
      "execution_count": 66,
      "outputs": []
    },
    {
      "cell_type": "markdown",
      "metadata": {
        "id": "DwAiSvlNIati"
      },
      "source": [
        "# Decision Regression"
      ]
    },
    {
      "cell_type": "code",
      "metadata": {
        "colab": {
          "base_uri": "https://localhost:8080/"
        },
        "id": "-OkqMlfTReU0",
        "outputId": "061683b9-c5f8-43ed-a10a-36b22c438239"
      },
      "source": [
        "!pip install xgboost"
      ],
      "execution_count": null,
      "outputs": [
        {
          "output_type": "stream",
          "text": [
            "Requirement already satisfied: xgboost in /usr/local/lib/python3.6/dist-packages (0.90)\n",
            "Requirement already satisfied: numpy in /usr/local/lib/python3.6/dist-packages (from xgboost) (1.18.5)\n",
            "Requirement already satisfied: scipy in /usr/local/lib/python3.6/dist-packages (from xgboost) (1.4.1)\n"
          ],
          "name": "stdout"
        }
      ]
    },
    {
      "cell_type": "code",
      "metadata": {
        "id": "HuIWEPMKSxqd",
        "colab": {
          "base_uri": "https://localhost:8080/"
        },
        "outputId": "4a411712-aa86-4300-de5d-c74a3083561c"
      },
      "source": [
        "from sklearn.tree import DecisionTreeRegressor\n",
        "\n",
        "model = Pipeline([\n",
        "               ('ct', ct),\n",
        "               ('lr', DecisionTreeRegressor(random_state=1))\n",
        "])\n",
        "\n",
        "model.fit(X_train, y_train)\n",
        "\n",
        "y_test_predict = model.predict(X_test)\n",
        "y_train_predict = model.predict(X_train)\n",
        "\n",
        "\n",
        "print('Training Score: ', '%0.8f'%mean_absolute_error(y_train, y_train_predict))\n"
      ],
      "execution_count": 69,
      "outputs": [
        {
          "output_type": "stream",
          "text": [
            "Training Score:  0.00005083\n"
          ],
          "name": "stdout"
        }
      ]
    },
    {
      "cell_type": "markdown",
      "metadata": {
        "id": "u1ENStdzAKwo"
      },
      "source": [
        "# Catboost"
      ]
    },
    {
      "cell_type": "code",
      "metadata": {
        "colab": {
          "base_uri": "https://localhost:8080/"
        },
        "id": "8sU6OXPIAZ8n",
        "outputId": "5c563f80-b058-4306-8e54-6032e54e6380"
      },
      "source": [
        "!pip install catboost"
      ],
      "execution_count": 73,
      "outputs": [
        {
          "output_type": "stream",
          "text": [
            "Collecting catboost\n",
            "\u001b[?25l  Downloading https://files.pythonhosted.org/packages/7e/c1/c1c4707013f9e2f8a96899dd3a87f66c9167d6d776a6dc8fe7ec8678d446/catboost-0.24.3-cp36-none-manylinux1_x86_64.whl (66.3MB)\n",
            "\u001b[K     |████████████████████████████████| 66.3MB 54kB/s \n",
            "\u001b[?25hRequirement already satisfied: matplotlib in /usr/local/lib/python3.6/dist-packages (from catboost) (3.2.2)\n",
            "Requirement already satisfied: pandas>=0.24.0 in /usr/local/lib/python3.6/dist-packages (from catboost) (1.1.4)\n",
            "Requirement already satisfied: plotly in /usr/local/lib/python3.6/dist-packages (from catboost) (4.4.1)\n",
            "Requirement already satisfied: scipy in /usr/local/lib/python3.6/dist-packages (from catboost) (1.4.1)\n",
            "Requirement already satisfied: six in /usr/local/lib/python3.6/dist-packages (from catboost) (1.15.0)\n",
            "Requirement already satisfied: graphviz in /usr/local/lib/python3.6/dist-packages (from catboost) (0.10.1)\n",
            "Requirement already satisfied: numpy>=1.16.0 in /usr/local/lib/python3.6/dist-packages (from catboost) (1.18.5)\n",
            "Requirement already satisfied: python-dateutil>=2.1 in /usr/local/lib/python3.6/dist-packages (from matplotlib->catboost) (2.8.1)\n",
            "Requirement already satisfied: cycler>=0.10 in /usr/local/lib/python3.6/dist-packages (from matplotlib->catboost) (0.10.0)\n",
            "Requirement already satisfied: pyparsing!=2.0.4,!=2.1.2,!=2.1.6,>=2.0.1 in /usr/local/lib/python3.6/dist-packages (from matplotlib->catboost) (2.4.7)\n",
            "Requirement already satisfied: kiwisolver>=1.0.1 in /usr/local/lib/python3.6/dist-packages (from matplotlib->catboost) (1.3.1)\n",
            "Requirement already satisfied: pytz>=2017.2 in /usr/local/lib/python3.6/dist-packages (from pandas>=0.24.0->catboost) (2018.9)\n",
            "Requirement already satisfied: retrying>=1.3.3 in /usr/local/lib/python3.6/dist-packages (from plotly->catboost) (1.3.3)\n",
            "Installing collected packages: catboost\n",
            "Successfully installed catboost-0.24.3\n"
          ],
          "name": "stdout"
        }
      ]
    },
    {
      "cell_type": "code",
      "metadata": {
        "colab": {
          "base_uri": "https://localhost:8080/"
        },
        "id": "abVm4ysYAJ-4",
        "outputId": "5b5211b0-f69b-4358-9a45-877481a858cf"
      },
      "source": [
        "from catboost import CatBoostRegressor\n",
        "\n",
        "model = Pipeline([\n",
        "               ('ct', ct),\n",
        "               ('lr', CatBoostRegressor(verbose = False))\n",
        "])\n",
        "\n",
        "model.fit(X_train, y_train)\n",
        "\n",
        "y_test_predict = model.predict(X_test)\n",
        "y_train_predict = model.predict(X_train)\n",
        "\n",
        "\n",
        "print('Training Score: ', '%0.8f'%mean_absolute_error(y_train, y_train_predict))\n"
      ],
      "execution_count": 74,
      "outputs": [
        {
          "output_type": "stream",
          "text": [
            "Training Score:  0.08749473\n"
          ],
          "name": "stdout"
        }
      ]
    },
    {
      "cell_type": "code",
      "metadata": {
        "colab": {
          "base_uri": "https://localhost:8080/"
        },
        "id": "WVrCkIU-BBop",
        "outputId": "6600cdcb-050d-4339-e01e-dbd75a4df8a1"
      },
      "source": [
        "from sklearn.neighbors import KNeighborsRegressor\n",
        "\n",
        "model = Pipeline([\n",
        "               ('ct', ct),\n",
        "               ('lr', KNeighborsRegressor(n_neighbors = 3 , weights = 'distance'))\n",
        "])\n",
        "\n",
        "model.fit(X_train, y_train)\n",
        "\n",
        "y_test_predict = model.predict(X_test)\n",
        "y_train_predict = model.predict(X_train)\n",
        "\n",
        "\n",
        "print('Training Score: ', '%0.8f'%mean_absolute_error(y_train, y_train_predict))\n"
      ],
      "execution_count": 77,
      "outputs": [
        {
          "output_type": "stream",
          "text": [
            "Training Score:  0.00000000\n"
          ],
          "name": "stdout"
        }
      ]
    },
    {
      "cell_type": "code",
      "metadata": {
        "colab": {
          "base_uri": "https://localhost:8080/"
        },
        "id": "XT5rFV36B8uv",
        "outputId": "8aa4b6ce-bc28-4bff-f7c6-a19b9eb0ddee"
      },
      "source": [
        "from sklearn.ensemble import RandomForestRegressor\n",
        "\n",
        "model = Pipeline([\n",
        "               ('ct', ct),\n",
        "               ('lr', RandomForestRegressor(n_estimators = 50, random_state=1))\n",
        "])\n",
        "\n",
        "model.fit(X_train, y_train)\n",
        "\n",
        "y_test_predict = model.predict(X_test)\n",
        "y_train_predict = model.predict(X_train)\n",
        "\n",
        "\n",
        "print('Training Score: ', '%0.8f'%mean_absolute_error(y_train, y_train_predict))\n",
        "\n"
      ],
      "execution_count": 79,
      "outputs": [
        {
          "output_type": "stream",
          "text": [
            "Training Score:  0.00264765\n"
          ],
          "name": "stdout"
        }
      ]
    },
    {
      "cell_type": "code",
      "metadata": {
        "colab": {
          "base_uri": "https://localhost:8080/"
        },
        "id": "0i6l8cDtc38A",
        "outputId": "3dff3fbd-236d-4bee-cf11-dd0e6745fae3"
      },
      "source": [
        "y_test_predict"
      ],
      "execution_count": 70,
      "outputs": [
        {
          "output_type": "execute_result",
          "data": {
            "text/plain": [
              "array([64.70793676, 73.78044802, 69.19700677, ..., 60.96336854,\n",
              "       77.41383485, 76.61011118])"
            ]
          },
          "metadata": {
            "tags": []
          },
          "execution_count": 70
        }
      ]
    },
    {
      "cell_type": "code",
      "metadata": {
        "id": "gqgArw28NdfV"
      },
      "source": [
        "df = pd.concat([pd.DataFrame(y_id),pd.DataFrame(y_test_predict)], axis=1, ignore_index=True)\n",
        "df.columns = ['uuid','HR']\n",
        "df.to_csv('/content/drive/MyDrive/Colab Notebooks/GL_Hackathon/Submission1.csv', index=False)\n"
      ],
      "execution_count": 80,
      "outputs": []
    },
    {
      "cell_type": "code",
      "metadata": {
        "id": "y7pO0Q77CyPQ"
      },
      "source": [
        ""
      ],
      "execution_count": null,
      "outputs": []
    }
  ]
}