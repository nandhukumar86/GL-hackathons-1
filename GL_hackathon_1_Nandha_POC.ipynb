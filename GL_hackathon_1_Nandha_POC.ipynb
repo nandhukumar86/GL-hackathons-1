{
  "nbformat": 4,
  "nbformat_minor": 0,
  "metadata": {
    "colab": {
      "name": "GL_hackathon_1_Nandha_POC.ipynb",
      "provenance": [],
      "collapsed_sections": [],
      "mount_file_id": "18DX5mlKZrKfUFLvAr7lXdDwBhlKJa1BJ",
      "authorship_tag": "ABX9TyOdGKLGHej7HWe4xVo20+2S",
      "include_colab_link": true
    },
    "kernelspec": {
      "name": "python3",
      "display_name": "Python 3"
    }
  },
  "cells": [
    {
      "cell_type": "markdown",
      "metadata": {
        "id": "view-in-github",
        "colab_type": "text"
      },
      "source": [
        "<a href=\"https://colab.research.google.com/github/nandhukumar86/GL-hackathons-1/blob/main/GL_hackathon_1_Nandha_POC.ipynb\" target=\"_parent\"><img src=\"https://colab.research.google.com/assets/colab-badge.svg\" alt=\"Open In Colab\"/></a>"
      ]
    },
    {
      "cell_type": "markdown",
      "metadata": {
        "id": "eP60ILKc2Sn1"
      },
      "source": [
        "# Load Basic Imports"
      ]
    },
    {
      "cell_type": "code",
      "metadata": {
        "id": "YamzLjWDzIbz"
      },
      "source": [
        "import pandas as pd\n",
        "import numpy as np\n",
        "\n",
        "import seaborn as sns\n",
        "import matplotlib.pyplot as plt\n",
        "sns.set(color_codes=True)\n",
        "%matplotlib inline\n"
      ],
      "execution_count": 2,
      "outputs": []
    },
    {
      "cell_type": "markdown",
      "metadata": {
        "id": "A7PElCkH2aKm"
      },
      "source": [
        "# Load the dataset"
      ]
    },
    {
      "cell_type": "code",
      "metadata": {
        "id": "Nc4gMHEP00Ph"
      },
      "source": [
        "fd_train = pd.read_csv('/content/drive/MyDrive/Colab Notebooks/GL_Hackathon/frequency_domain_features_train.csv')\n",
        "fd_test = pd.read_csv('/content/drive/MyDrive/Colab Notebooks/GL_Hackathon/frequency_domain_features_test.csv')\n",
        "td_train = pd.read_csv('/content/drive/MyDrive/Colab Notebooks/GL_Hackathon/time_domain_features_train.csv')\n",
        "td_test = pd.read_csv('/content/drive/MyDrive/Colab Notebooks/GL_Hackathon/time_domain_features_test.csv')\n",
        "hr_train = pd.read_csv('/content/drive/MyDrive/Colab Notebooks/GL_Hackathon/heart_rate_non_linear_features_train.csv')\n",
        "hr_test = pd.read_csv('/content/drive/MyDrive/Colab Notebooks/GL_Hackathon/heart_rate_non_linear_features_test.csv')"
      ],
      "execution_count": 3,
      "outputs": []
    },
    {
      "cell_type": "code",
      "metadata": {
        "colab": {
          "base_uri": "https://localhost:8080/"
        },
        "id": "hL8VW7Un1vYu",
        "outputId": "60e0e98c-8a54-4ac4-9420-3cb6539f3e96"
      },
      "source": [
        "fd_train.shape, fd_test.shape"
      ],
      "execution_count": 4,
      "outputs": [
        {
          "output_type": "execute_result",
          "data": {
            "text/plain": [
              "((369289, 12), (41033, 12))"
            ]
          },
          "metadata": {
            "tags": []
          },
          "execution_count": 4
        }
      ]
    },
    {
      "cell_type": "code",
      "metadata": {
        "colab": {
          "base_uri": "https://localhost:8080/"
        },
        "id": "SKOTDR7w3Sup",
        "outputId": "7d5efda1-273e-442b-f438-896e9ccb74a8"
      },
      "source": [
        "fd_train.columns, fd_test.columns"
      ],
      "execution_count": 5,
      "outputs": [
        {
          "output_type": "execute_result",
          "data": {
            "text/plain": [
              "(Index(['uuid', 'VLF', 'VLF_PCT', 'LF', 'LF_PCT', 'LF_NU', 'HF', 'HF_PCT',\n",
              "        'HF_NU', 'TP', 'LF_HF', 'HF_LF'],\n",
              "       dtype='object'),\n",
              " Index(['uuid', 'VLF', 'VLF_PCT', 'LF', 'LF_PCT', 'LF_NU', 'HF', 'HF_PCT',\n",
              "        'HF_NU', 'TP', 'LF_HF', 'HF_LF'],\n",
              "       dtype='object'))"
            ]
          },
          "metadata": {
            "tags": []
          },
          "execution_count": 5
        }
      ]
    },
    {
      "cell_type": "code",
      "metadata": {
        "colab": {
          "base_uri": "https://localhost:8080/"
        },
        "id": "wsKmL6ip2A6i",
        "outputId": "155c973e-83b3-4a9c-84ef-a52c3952d4d1"
      },
      "source": [
        "td_train.shape, td_test.shape"
      ],
      "execution_count": 6,
      "outputs": [
        {
          "output_type": "execute_result",
          "data": {
            "text/plain": [
              "((369289, 20), (41033, 19))"
            ]
          },
          "metadata": {
            "tags": []
          },
          "execution_count": 6
        }
      ]
    },
    {
      "cell_type": "code",
      "metadata": {
        "colab": {
          "base_uri": "https://localhost:8080/"
        },
        "id": "4BlixtNc3Zxw",
        "outputId": "273d798e-b08a-48a6-e863-d347d450b364"
      },
      "source": [
        "td_train.columns, td_test.columns"
      ],
      "execution_count": 7,
      "outputs": [
        {
          "output_type": "execute_result",
          "data": {
            "text/plain": [
              "(Index(['MEAN_RR', 'MEDIAN_RR', 'SDRR', 'RMSSD', 'SDSD', 'SDRR_RMSSD', 'HR',\n",
              "        'pNN25', 'pNN50', 'KURT', 'SKEW', 'MEAN_REL_RR', 'MEDIAN_REL_RR',\n",
              "        'SDRR_REL_RR', 'RMSSD_REL_RR', 'SDSD_REL_RR', 'SDRR_RMSSD_REL_RR',\n",
              "        'KURT_REL_RR', 'SKEW_REL_RR', 'uuid'],\n",
              "       dtype='object'),\n",
              " Index(['MEAN_RR', 'MEDIAN_RR', 'SDRR', 'RMSSD', 'SDSD', 'SDRR_RMSSD', 'pNN25',\n",
              "        'pNN50', 'KURT', 'SKEW', 'MEAN_REL_RR', 'MEDIAN_REL_RR', 'SDRR_REL_RR',\n",
              "        'RMSSD_REL_RR', 'SDSD_REL_RR', 'SDRR_RMSSD_REL_RR', 'KURT_REL_RR',\n",
              "        'SKEW_REL_RR', 'uuid'],\n",
              "       dtype='object'))"
            ]
          },
          "metadata": {
            "tags": []
          },
          "execution_count": 7
        }
      ]
    },
    {
      "cell_type": "markdown",
      "metadata": {
        "id": "BkUBtD-H3CP_"
      },
      "source": [
        "HR is the the column to be predicted"
      ]
    },
    {
      "cell_type": "code",
      "metadata": {
        "colab": {
          "base_uri": "https://localhost:8080/"
        },
        "id": "bgKBac872qXz",
        "outputId": "7e68a71f-1c21-480b-f09d-98cd4f5926cc"
      },
      "source": [
        "hr_train.shape, hr_test.shape"
      ],
      "execution_count": 8,
      "outputs": [
        {
          "output_type": "execute_result",
          "data": {
            "text/plain": [
              "((369289, 7), (41033, 7))"
            ]
          },
          "metadata": {
            "tags": []
          },
          "execution_count": 8
        }
      ]
    },
    {
      "cell_type": "code",
      "metadata": {
        "colab": {
          "base_uri": "https://localhost:8080/"
        },
        "id": "2SWP49Ej3kli",
        "outputId": "5bffbe47-0904-4faf-fd33-79da1d8fbcaf"
      },
      "source": [
        "hr_train.columns, hr_test.columns"
      ],
      "execution_count": 9,
      "outputs": [
        {
          "output_type": "execute_result",
          "data": {
            "text/plain": [
              "(Index(['uuid', 'SD1', 'SD2', 'sampen', 'higuci', 'datasetId', 'condition'], dtype='object'),\n",
              " Index(['uuid', 'SD1', 'SD2', 'sampen', 'higuci', 'datasetId', 'condition'], dtype='object'))"
            ]
          },
          "metadata": {
            "tags": []
          },
          "execution_count": 9
        }
      ]
    },
    {
      "cell_type": "markdown",
      "metadata": {
        "id": "AFG3EdwX5Vte"
      },
      "source": [
        "#Check of distinct uuid"
      ]
    },
    {
      "cell_type": "code",
      "metadata": {
        "colab": {
          "base_uri": "https://localhost:8080/"
        },
        "id": "o9C-t_Az3QpD",
        "outputId": "8bce3872-a429-4f68-a752-7c6ffd179216"
      },
      "source": [
        "fd_train['uuid'].value_counts().size, td_train['uuid'].value_counts().size, hr_train['uuid'].value_counts().size"
      ],
      "execution_count": 10,
      "outputs": [
        {
          "output_type": "execute_result",
          "data": {
            "text/plain": [
              "(369289, 369289, 369289)"
            ]
          },
          "metadata": {
            "tags": []
          },
          "execution_count": 10
        }
      ]
    },
    {
      "cell_type": "code",
      "metadata": {
        "colab": {
          "base_uri": "https://localhost:8080/"
        },
        "id": "E-ST6FGV6_9A",
        "outputId": "03a3c4fd-7fed-4b6a-d5df-4c3b4b499e4e"
      },
      "source": [
        "fd_test['uuid'].value_counts().size, td_test['uuid'].value_counts().size, hr_test['uuid'].value_counts().size"
      ],
      "execution_count": 11,
      "outputs": [
        {
          "output_type": "execute_result",
          "data": {
            "text/plain": [
              "(41033, 41033, 41033)"
            ]
          },
          "metadata": {
            "tags": []
          },
          "execution_count": 11
        }
      ]
    },
    {
      "cell_type": "markdown",
      "metadata": {
        "id": "aslzY66p6a6k"
      },
      "source": [
        "This shows all has unique values"
      ]
    },
    {
      "cell_type": "code",
      "metadata": {
        "colab": {
          "base_uri": "https://localhost:8080/",
          "height": 142
        },
        "id": "28ZNcdgv5kkI",
        "outputId": "0ff23931-ccad-4dcd-9a48-f600e3a474ff"
      },
      "source": [
        "fd_train.head(3)"
      ],
      "execution_count": 12,
      "outputs": [
        {
          "output_type": "execute_result",
          "data": {
            "text/html": [
              "<div>\n",
              "<style scoped>\n",
              "    .dataframe tbody tr th:only-of-type {\n",
              "        vertical-align: middle;\n",
              "    }\n",
              "\n",
              "    .dataframe tbody tr th {\n",
              "        vertical-align: top;\n",
              "    }\n",
              "\n",
              "    .dataframe thead th {\n",
              "        text-align: right;\n",
              "    }\n",
              "</style>\n",
              "<table border=\"1\" class=\"dataframe\">\n",
              "  <thead>\n",
              "    <tr style=\"text-align: right;\">\n",
              "      <th></th>\n",
              "      <th>uuid</th>\n",
              "      <th>VLF</th>\n",
              "      <th>VLF_PCT</th>\n",
              "      <th>LF</th>\n",
              "      <th>LF_PCT</th>\n",
              "      <th>LF_NU</th>\n",
              "      <th>HF</th>\n",
              "      <th>HF_PCT</th>\n",
              "      <th>HF_NU</th>\n",
              "      <th>TP</th>\n",
              "      <th>LF_HF</th>\n",
              "      <th>HF_LF</th>\n",
              "    </tr>\n",
              "  </thead>\n",
              "  <tbody>\n",
              "    <tr>\n",
              "      <th>0</th>\n",
              "      <td>89df2855-56eb-4706-a23b-b39363dd605a</td>\n",
              "      <td>2661.894136</td>\n",
              "      <td>72.203287</td>\n",
              "      <td>1009.249419</td>\n",
              "      <td>27.375666</td>\n",
              "      <td>98.485263</td>\n",
              "      <td>15.522603</td>\n",
              "      <td>0.421047</td>\n",
              "      <td>1.514737</td>\n",
              "      <td>3686.666157</td>\n",
              "      <td>65.018055</td>\n",
              "      <td>0.015380</td>\n",
              "    </tr>\n",
              "    <tr>\n",
              "      <th>1</th>\n",
              "      <td>80c795e4-aa56-4cc0-939c-19634b89cbb2</td>\n",
              "      <td>2314.265450</td>\n",
              "      <td>76.975728</td>\n",
              "      <td>690.113275</td>\n",
              "      <td>22.954139</td>\n",
              "      <td>99.695397</td>\n",
              "      <td>2.108525</td>\n",
              "      <td>0.070133</td>\n",
              "      <td>0.304603</td>\n",
              "      <td>3006.487251</td>\n",
              "      <td>327.296635</td>\n",
              "      <td>0.003055</td>\n",
              "    </tr>\n",
              "    <tr>\n",
              "      <th>2</th>\n",
              "      <td>c2d5d102-967c-487d-88f2-8b005a449f3e</td>\n",
              "      <td>1373.887112</td>\n",
              "      <td>51.152225</td>\n",
              "      <td>1298.222619</td>\n",
              "      <td>48.335104</td>\n",
              "      <td>98.950472</td>\n",
              "      <td>13.769729</td>\n",
              "      <td>0.512671</td>\n",
              "      <td>1.049528</td>\n",
              "      <td>2685.879461</td>\n",
              "      <td>94.280910</td>\n",
              "      <td>0.010607</td>\n",
              "    </tr>\n",
              "  </tbody>\n",
              "</table>\n",
              "</div>"
            ],
            "text/plain": [
              "                                   uuid          VLF  ...       LF_HF     HF_LF\n",
              "0  89df2855-56eb-4706-a23b-b39363dd605a  2661.894136  ...   65.018055  0.015380\n",
              "1  80c795e4-aa56-4cc0-939c-19634b89cbb2  2314.265450  ...  327.296635  0.003055\n",
              "2  c2d5d102-967c-487d-88f2-8b005a449f3e  1373.887112  ...   94.280910  0.010607\n",
              "\n",
              "[3 rows x 12 columns]"
            ]
          },
          "metadata": {
            "tags": []
          },
          "execution_count": 12
        }
      ]
    },
    {
      "cell_type": "code",
      "metadata": {
        "colab": {
          "base_uri": "https://localhost:8080/",
          "height": 315
        },
        "id": "t696W59764Jw",
        "outputId": "b851a837-811c-4fbf-dea5-638fdc96f5c4"
      },
      "source": [
        "td_train.head(3)"
      ],
      "execution_count": 13,
      "outputs": [
        {
          "output_type": "execute_result",
          "data": {
            "text/html": [
              "<div>\n",
              "<style scoped>\n",
              "    .dataframe tbody tr th:only-of-type {\n",
              "        vertical-align: middle;\n",
              "    }\n",
              "\n",
              "    .dataframe tbody tr th {\n",
              "        vertical-align: top;\n",
              "    }\n",
              "\n",
              "    .dataframe thead th {\n",
              "        text-align: right;\n",
              "    }\n",
              "</style>\n",
              "<table border=\"1\" class=\"dataframe\">\n",
              "  <thead>\n",
              "    <tr style=\"text-align: right;\">\n",
              "      <th></th>\n",
              "      <th>MEAN_RR</th>\n",
              "      <th>MEDIAN_RR</th>\n",
              "      <th>SDRR</th>\n",
              "      <th>RMSSD</th>\n",
              "      <th>SDSD</th>\n",
              "      <th>SDRR_RMSSD</th>\n",
              "      <th>HR</th>\n",
              "      <th>pNN25</th>\n",
              "      <th>pNN50</th>\n",
              "      <th>KURT</th>\n",
              "      <th>SKEW</th>\n",
              "      <th>MEAN_REL_RR</th>\n",
              "      <th>MEDIAN_REL_RR</th>\n",
              "      <th>SDRR_REL_RR</th>\n",
              "      <th>RMSSD_REL_RR</th>\n",
              "      <th>SDSD_REL_RR</th>\n",
              "      <th>SDRR_RMSSD_REL_RR</th>\n",
              "      <th>KURT_REL_RR</th>\n",
              "      <th>SKEW_REL_RR</th>\n",
              "      <th>uuid</th>\n",
              "    </tr>\n",
              "  </thead>\n",
              "  <tbody>\n",
              "    <tr>\n",
              "      <th>0</th>\n",
              "      <td>885.157845</td>\n",
              "      <td>853.763730</td>\n",
              "      <td>140.972741</td>\n",
              "      <td>15.554505</td>\n",
              "      <td>15.553371</td>\n",
              "      <td>9.063146</td>\n",
              "      <td>69.499952</td>\n",
              "      <td>11.133333</td>\n",
              "      <td>0.533333</td>\n",
              "      <td>-0.856554</td>\n",
              "      <td>0.335218</td>\n",
              "      <td>-0.000203</td>\n",
              "      <td>-0.000179</td>\n",
              "      <td>0.017080</td>\n",
              "      <td>0.007969</td>\n",
              "      <td>0.007969</td>\n",
              "      <td>2.143342</td>\n",
              "      <td>-0.856554</td>\n",
              "      <td>0.335218</td>\n",
              "      <td>89df2855-56eb-4706-a23b-b39363dd605a</td>\n",
              "    </tr>\n",
              "    <tr>\n",
              "      <th>1</th>\n",
              "      <td>939.425371</td>\n",
              "      <td>948.357865</td>\n",
              "      <td>81.317742</td>\n",
              "      <td>12.964439</td>\n",
              "      <td>12.964195</td>\n",
              "      <td>6.272369</td>\n",
              "      <td>64.363150</td>\n",
              "      <td>5.600000</td>\n",
              "      <td>0.000000</td>\n",
              "      <td>-0.408190</td>\n",
              "      <td>-0.155286</td>\n",
              "      <td>-0.000059</td>\n",
              "      <td>0.000611</td>\n",
              "      <td>0.013978</td>\n",
              "      <td>0.004769</td>\n",
              "      <td>0.004769</td>\n",
              "      <td>2.930855</td>\n",
              "      <td>-0.408190</td>\n",
              "      <td>-0.155286</td>\n",
              "      <td>80c795e4-aa56-4cc0-939c-19634b89cbb2</td>\n",
              "    </tr>\n",
              "    <tr>\n",
              "      <th>2</th>\n",
              "      <td>898.186047</td>\n",
              "      <td>907.006860</td>\n",
              "      <td>84.497236</td>\n",
              "      <td>16.305279</td>\n",
              "      <td>16.305274</td>\n",
              "      <td>5.182201</td>\n",
              "      <td>67.450066</td>\n",
              "      <td>13.066667</td>\n",
              "      <td>0.200000</td>\n",
              "      <td>0.351789</td>\n",
              "      <td>-0.656813</td>\n",
              "      <td>-0.000011</td>\n",
              "      <td>-0.000263</td>\n",
              "      <td>0.018539</td>\n",
              "      <td>0.008716</td>\n",
              "      <td>0.008716</td>\n",
              "      <td>2.127053</td>\n",
              "      <td>0.351789</td>\n",
              "      <td>-0.656813</td>\n",
              "      <td>c2d5d102-967c-487d-88f2-8b005a449f3e</td>\n",
              "    </tr>\n",
              "  </tbody>\n",
              "</table>\n",
              "</div>"
            ],
            "text/plain": [
              "      MEAN_RR   MEDIAN_RR  ...  SKEW_REL_RR                                  uuid\n",
              "0  885.157845  853.763730  ...     0.335218  89df2855-56eb-4706-a23b-b39363dd605a\n",
              "1  939.425371  948.357865  ...    -0.155286  80c795e4-aa56-4cc0-939c-19634b89cbb2\n",
              "2  898.186047  907.006860  ...    -0.656813  c2d5d102-967c-487d-88f2-8b005a449f3e\n",
              "\n",
              "[3 rows x 20 columns]"
            ]
          },
          "metadata": {
            "tags": []
          },
          "execution_count": 13
        }
      ]
    },
    {
      "cell_type": "code",
      "metadata": {
        "colab": {
          "base_uri": "https://localhost:8080/",
          "height": 142
        },
        "id": "Pqbh-LnE66sg",
        "outputId": "6502694c-f4c8-4c27-97ba-35e14762515d"
      },
      "source": [
        "hr_train.head(3)"
      ],
      "execution_count": 14,
      "outputs": [
        {
          "output_type": "execute_result",
          "data": {
            "text/html": [
              "<div>\n",
              "<style scoped>\n",
              "    .dataframe tbody tr th:only-of-type {\n",
              "        vertical-align: middle;\n",
              "    }\n",
              "\n",
              "    .dataframe tbody tr th {\n",
              "        vertical-align: top;\n",
              "    }\n",
              "\n",
              "    .dataframe thead th {\n",
              "        text-align: right;\n",
              "    }\n",
              "</style>\n",
              "<table border=\"1\" class=\"dataframe\">\n",
              "  <thead>\n",
              "    <tr style=\"text-align: right;\">\n",
              "      <th></th>\n",
              "      <th>uuid</th>\n",
              "      <th>SD1</th>\n",
              "      <th>SD2</th>\n",
              "      <th>sampen</th>\n",
              "      <th>higuci</th>\n",
              "      <th>datasetId</th>\n",
              "      <th>condition</th>\n",
              "    </tr>\n",
              "  </thead>\n",
              "  <tbody>\n",
              "    <tr>\n",
              "      <th>0</th>\n",
              "      <td>89df2855-56eb-4706-a23b-b39363dd605a</td>\n",
              "      <td>11.001565</td>\n",
              "      <td>199.061782</td>\n",
              "      <td>2.139754</td>\n",
              "      <td>1.163485</td>\n",
              "      <td>2</td>\n",
              "      <td>no stress</td>\n",
              "    </tr>\n",
              "    <tr>\n",
              "      <th>1</th>\n",
              "      <td>80c795e4-aa56-4cc0-939c-19634b89cbb2</td>\n",
              "      <td>9.170129</td>\n",
              "      <td>114.634458</td>\n",
              "      <td>2.174499</td>\n",
              "      <td>1.084711</td>\n",
              "      <td>2</td>\n",
              "      <td>interruption</td>\n",
              "    </tr>\n",
              "    <tr>\n",
              "      <th>2</th>\n",
              "      <td>c2d5d102-967c-487d-88f2-8b005a449f3e</td>\n",
              "      <td>11.533417</td>\n",
              "      <td>118.939253</td>\n",
              "      <td>2.135350</td>\n",
              "      <td>1.176315</td>\n",
              "      <td>2</td>\n",
              "      <td>interruption</td>\n",
              "    </tr>\n",
              "  </tbody>\n",
              "</table>\n",
              "</div>"
            ],
            "text/plain": [
              "                                   uuid        SD1  ...  datasetId     condition\n",
              "0  89df2855-56eb-4706-a23b-b39363dd605a  11.001565  ...          2     no stress\n",
              "1  80c795e4-aa56-4cc0-939c-19634b89cbb2   9.170129  ...          2  interruption\n",
              "2  c2d5d102-967c-487d-88f2-8b005a449f3e  11.533417  ...          2  interruption\n",
              "\n",
              "[3 rows x 7 columns]"
            ]
          },
          "metadata": {
            "tags": []
          },
          "execution_count": 14
        }
      ]
    },
    {
      "cell_type": "code",
      "metadata": {
        "id": "PdIfFnAJ7Wzw"
      },
      "source": [
        "df3 = pd.merge(fd_train, td_train, how='outer', on='uuid')\n",
        "df_train = pd.merge(df3, hr_train, how='outer', on='uuid')"
      ],
      "execution_count": 15,
      "outputs": []
    },
    {
      "cell_type": "code",
      "metadata": {
        "colab": {
          "base_uri": "https://localhost:8080/"
        },
        "id": "bmei_Qtv86Sg",
        "outputId": "656ad955-2c69-455a-ca99-baf82d0f1812"
      },
      "source": [
        "df_train.shape"
      ],
      "execution_count": 16,
      "outputs": [
        {
          "output_type": "execute_result",
          "data": {
            "text/plain": [
              "(369289, 37)"
            ]
          },
          "metadata": {
            "tags": []
          },
          "execution_count": 16
        }
      ]
    },
    {
      "cell_type": "code",
      "metadata": {
        "id": "hQLopFHF88se"
      },
      "source": [
        "df2 = pd.merge(fd_test, td_test, how='outer', on='uuid')\n",
        "df_test = pd.merge(df2, hr_test, how='outer', on='uuid')"
      ],
      "execution_count": 17,
      "outputs": []
    },
    {
      "cell_type": "code",
      "metadata": {
        "colab": {
          "base_uri": "https://localhost:8080/"
        },
        "id": "t-YWWN9X9cNR",
        "outputId": "3be209b1-d57e-4417-d312-b5ce197bb8ab"
      },
      "source": [
        "df_test.shape"
      ],
      "execution_count": 18,
      "outputs": [
        {
          "output_type": "execute_result",
          "data": {
            "text/plain": [
              "(41033, 36)"
            ]
          },
          "metadata": {
            "tags": []
          },
          "execution_count": 18
        }
      ]
    },
    {
      "cell_type": "code",
      "metadata": {
        "colab": {
          "base_uri": "https://localhost:8080/",
          "height": 315
        },
        "id": "DGnAuY8e9eht",
        "outputId": "42a133b6-fbe6-4b03-cb7d-26491f730b1d"
      },
      "source": [
        "df_train.head(3)"
      ],
      "execution_count": 19,
      "outputs": [
        {
          "output_type": "execute_result",
          "data": {
            "text/html": [
              "<div>\n",
              "<style scoped>\n",
              "    .dataframe tbody tr th:only-of-type {\n",
              "        vertical-align: middle;\n",
              "    }\n",
              "\n",
              "    .dataframe tbody tr th {\n",
              "        vertical-align: top;\n",
              "    }\n",
              "\n",
              "    .dataframe thead th {\n",
              "        text-align: right;\n",
              "    }\n",
              "</style>\n",
              "<table border=\"1\" class=\"dataframe\">\n",
              "  <thead>\n",
              "    <tr style=\"text-align: right;\">\n",
              "      <th></th>\n",
              "      <th>uuid</th>\n",
              "      <th>VLF</th>\n",
              "      <th>VLF_PCT</th>\n",
              "      <th>LF</th>\n",
              "      <th>LF_PCT</th>\n",
              "      <th>LF_NU</th>\n",
              "      <th>HF</th>\n",
              "      <th>HF_PCT</th>\n",
              "      <th>HF_NU</th>\n",
              "      <th>TP</th>\n",
              "      <th>LF_HF</th>\n",
              "      <th>HF_LF</th>\n",
              "      <th>MEAN_RR</th>\n",
              "      <th>MEDIAN_RR</th>\n",
              "      <th>SDRR</th>\n",
              "      <th>RMSSD</th>\n",
              "      <th>SDSD</th>\n",
              "      <th>SDRR_RMSSD</th>\n",
              "      <th>HR</th>\n",
              "      <th>pNN25</th>\n",
              "      <th>pNN50</th>\n",
              "      <th>KURT</th>\n",
              "      <th>SKEW</th>\n",
              "      <th>MEAN_REL_RR</th>\n",
              "      <th>MEDIAN_REL_RR</th>\n",
              "      <th>SDRR_REL_RR</th>\n",
              "      <th>RMSSD_REL_RR</th>\n",
              "      <th>SDSD_REL_RR</th>\n",
              "      <th>SDRR_RMSSD_REL_RR</th>\n",
              "      <th>KURT_REL_RR</th>\n",
              "      <th>SKEW_REL_RR</th>\n",
              "      <th>SD1</th>\n",
              "      <th>SD2</th>\n",
              "      <th>sampen</th>\n",
              "      <th>higuci</th>\n",
              "      <th>datasetId</th>\n",
              "      <th>condition</th>\n",
              "    </tr>\n",
              "  </thead>\n",
              "  <tbody>\n",
              "    <tr>\n",
              "      <th>0</th>\n",
              "      <td>89df2855-56eb-4706-a23b-b39363dd605a</td>\n",
              "      <td>2661.894136</td>\n",
              "      <td>72.203287</td>\n",
              "      <td>1009.249419</td>\n",
              "      <td>27.375666</td>\n",
              "      <td>98.485263</td>\n",
              "      <td>15.522603</td>\n",
              "      <td>0.421047</td>\n",
              "      <td>1.514737</td>\n",
              "      <td>3686.666157</td>\n",
              "      <td>65.018055</td>\n",
              "      <td>0.015380</td>\n",
              "      <td>885.157845</td>\n",
              "      <td>853.763730</td>\n",
              "      <td>140.972741</td>\n",
              "      <td>15.554505</td>\n",
              "      <td>15.553371</td>\n",
              "      <td>9.063146</td>\n",
              "      <td>69.499952</td>\n",
              "      <td>11.133333</td>\n",
              "      <td>0.533333</td>\n",
              "      <td>-0.856554</td>\n",
              "      <td>0.335218</td>\n",
              "      <td>-0.000203</td>\n",
              "      <td>-0.000179</td>\n",
              "      <td>0.017080</td>\n",
              "      <td>0.007969</td>\n",
              "      <td>0.007969</td>\n",
              "      <td>2.143342</td>\n",
              "      <td>-0.856554</td>\n",
              "      <td>0.335218</td>\n",
              "      <td>11.001565</td>\n",
              "      <td>199.061782</td>\n",
              "      <td>2.139754</td>\n",
              "      <td>1.163485</td>\n",
              "      <td>2</td>\n",
              "      <td>no stress</td>\n",
              "    </tr>\n",
              "    <tr>\n",
              "      <th>1</th>\n",
              "      <td>80c795e4-aa56-4cc0-939c-19634b89cbb2</td>\n",
              "      <td>2314.265450</td>\n",
              "      <td>76.975728</td>\n",
              "      <td>690.113275</td>\n",
              "      <td>22.954139</td>\n",
              "      <td>99.695397</td>\n",
              "      <td>2.108525</td>\n",
              "      <td>0.070133</td>\n",
              "      <td>0.304603</td>\n",
              "      <td>3006.487251</td>\n",
              "      <td>327.296635</td>\n",
              "      <td>0.003055</td>\n",
              "      <td>939.425371</td>\n",
              "      <td>948.357865</td>\n",
              "      <td>81.317742</td>\n",
              "      <td>12.964439</td>\n",
              "      <td>12.964195</td>\n",
              "      <td>6.272369</td>\n",
              "      <td>64.363150</td>\n",
              "      <td>5.600000</td>\n",
              "      <td>0.000000</td>\n",
              "      <td>-0.408190</td>\n",
              "      <td>-0.155286</td>\n",
              "      <td>-0.000059</td>\n",
              "      <td>0.000611</td>\n",
              "      <td>0.013978</td>\n",
              "      <td>0.004769</td>\n",
              "      <td>0.004769</td>\n",
              "      <td>2.930855</td>\n",
              "      <td>-0.408190</td>\n",
              "      <td>-0.155286</td>\n",
              "      <td>9.170129</td>\n",
              "      <td>114.634458</td>\n",
              "      <td>2.174499</td>\n",
              "      <td>1.084711</td>\n",
              "      <td>2</td>\n",
              "      <td>interruption</td>\n",
              "    </tr>\n",
              "    <tr>\n",
              "      <th>2</th>\n",
              "      <td>c2d5d102-967c-487d-88f2-8b005a449f3e</td>\n",
              "      <td>1373.887112</td>\n",
              "      <td>51.152225</td>\n",
              "      <td>1298.222619</td>\n",
              "      <td>48.335104</td>\n",
              "      <td>98.950472</td>\n",
              "      <td>13.769729</td>\n",
              "      <td>0.512671</td>\n",
              "      <td>1.049528</td>\n",
              "      <td>2685.879461</td>\n",
              "      <td>94.280910</td>\n",
              "      <td>0.010607</td>\n",
              "      <td>898.186047</td>\n",
              "      <td>907.006860</td>\n",
              "      <td>84.497236</td>\n",
              "      <td>16.305279</td>\n",
              "      <td>16.305274</td>\n",
              "      <td>5.182201</td>\n",
              "      <td>67.450066</td>\n",
              "      <td>13.066667</td>\n",
              "      <td>0.200000</td>\n",
              "      <td>0.351789</td>\n",
              "      <td>-0.656813</td>\n",
              "      <td>-0.000011</td>\n",
              "      <td>-0.000263</td>\n",
              "      <td>0.018539</td>\n",
              "      <td>0.008716</td>\n",
              "      <td>0.008716</td>\n",
              "      <td>2.127053</td>\n",
              "      <td>0.351789</td>\n",
              "      <td>-0.656813</td>\n",
              "      <td>11.533417</td>\n",
              "      <td>118.939253</td>\n",
              "      <td>2.135350</td>\n",
              "      <td>1.176315</td>\n",
              "      <td>2</td>\n",
              "      <td>interruption</td>\n",
              "    </tr>\n",
              "  </tbody>\n",
              "</table>\n",
              "</div>"
            ],
            "text/plain": [
              "                                   uuid          VLF  ...  datasetId     condition\n",
              "0  89df2855-56eb-4706-a23b-b39363dd605a  2661.894136  ...          2     no stress\n",
              "1  80c795e4-aa56-4cc0-939c-19634b89cbb2  2314.265450  ...          2  interruption\n",
              "2  c2d5d102-967c-487d-88f2-8b005a449f3e  1373.887112  ...          2  interruption\n",
              "\n",
              "[3 rows x 37 columns]"
            ]
          },
          "metadata": {
            "tags": []
          },
          "execution_count": 19
        }
      ]
    },
    {
      "cell_type": "code",
      "metadata": {
        "colab": {
          "base_uri": "https://localhost:8080/",
          "height": 315
        },
        "id": "ITaaQgGl9jZO",
        "outputId": "25270fa2-625e-4695-b865-c188fc0a71b5"
      },
      "source": [
        "df_test.head(3)"
      ],
      "execution_count": 20,
      "outputs": [
        {
          "output_type": "execute_result",
          "data": {
            "text/html": [
              "<div>\n",
              "<style scoped>\n",
              "    .dataframe tbody tr th:only-of-type {\n",
              "        vertical-align: middle;\n",
              "    }\n",
              "\n",
              "    .dataframe tbody tr th {\n",
              "        vertical-align: top;\n",
              "    }\n",
              "\n",
              "    .dataframe thead th {\n",
              "        text-align: right;\n",
              "    }\n",
              "</style>\n",
              "<table border=\"1\" class=\"dataframe\">\n",
              "  <thead>\n",
              "    <tr style=\"text-align: right;\">\n",
              "      <th></th>\n",
              "      <th>uuid</th>\n",
              "      <th>VLF</th>\n",
              "      <th>VLF_PCT</th>\n",
              "      <th>LF</th>\n",
              "      <th>LF_PCT</th>\n",
              "      <th>LF_NU</th>\n",
              "      <th>HF</th>\n",
              "      <th>HF_PCT</th>\n",
              "      <th>HF_NU</th>\n",
              "      <th>TP</th>\n",
              "      <th>LF_HF</th>\n",
              "      <th>HF_LF</th>\n",
              "      <th>MEAN_RR</th>\n",
              "      <th>MEDIAN_RR</th>\n",
              "      <th>SDRR</th>\n",
              "      <th>RMSSD</th>\n",
              "      <th>SDSD</th>\n",
              "      <th>SDRR_RMSSD</th>\n",
              "      <th>pNN25</th>\n",
              "      <th>pNN50</th>\n",
              "      <th>KURT</th>\n",
              "      <th>SKEW</th>\n",
              "      <th>MEAN_REL_RR</th>\n",
              "      <th>MEDIAN_REL_RR</th>\n",
              "      <th>SDRR_REL_RR</th>\n",
              "      <th>RMSSD_REL_RR</th>\n",
              "      <th>SDSD_REL_RR</th>\n",
              "      <th>SDRR_RMSSD_REL_RR</th>\n",
              "      <th>KURT_REL_RR</th>\n",
              "      <th>SKEW_REL_RR</th>\n",
              "      <th>SD1</th>\n",
              "      <th>SD2</th>\n",
              "      <th>sampen</th>\n",
              "      <th>higuci</th>\n",
              "      <th>datasetId</th>\n",
              "      <th>condition</th>\n",
              "    </tr>\n",
              "  </thead>\n",
              "  <tbody>\n",
              "    <tr>\n",
              "      <th>0</th>\n",
              "      <td>62b75db5-bc40-4c8f-9166-daf0efcab4c2</td>\n",
              "      <td>1868.532278</td>\n",
              "      <td>76.511189</td>\n",
              "      <td>570.643114</td>\n",
              "      <td>23.366245</td>\n",
              "      <td>99.478197</td>\n",
              "      <td>2.993254</td>\n",
              "      <td>0.122565</td>\n",
              "      <td>0.521803</td>\n",
              "      <td>2442.168645</td>\n",
              "      <td>190.643094</td>\n",
              "      <td>0.005245</td>\n",
              "      <td>934.665288</td>\n",
              "      <td>939.03173</td>\n",
              "      <td>82.139495</td>\n",
              "      <td>11.801781</td>\n",
              "      <td>11.801772</td>\n",
              "      <td>6.959924</td>\n",
              "      <td>3.933333</td>\n",
              "      <td>0.133333</td>\n",
              "      <td>-0.680262</td>\n",
              "      <td>-0.233075</td>\n",
              "      <td>0.000016</td>\n",
              "      <td>0.000288</td>\n",
              "      <td>0.012933</td>\n",
              "      <td>0.004578</td>\n",
              "      <td>0.004578</td>\n",
              "      <td>2.825038</td>\n",
              "      <td>-0.680262</td>\n",
              "      <td>-0.233075</td>\n",
              "      <td>8.347898</td>\n",
              "      <td>115.862444</td>\n",
              "      <td>2.209659</td>\n",
              "      <td>1.100715</td>\n",
              "      <td>2</td>\n",
              "      <td>time pressure</td>\n",
              "    </tr>\n",
              "    <tr>\n",
              "      <th>1</th>\n",
              "      <td>a99549ad-3eb6-4413-bc90-9053e7f7e684</td>\n",
              "      <td>568.742845</td>\n",
              "      <td>26.301350</td>\n",
              "      <td>1553.971621</td>\n",
              "      <td>71.862973</td>\n",
              "      <td>97.509212</td>\n",
              "      <td>39.694850</td>\n",
              "      <td>1.835677</td>\n",
              "      <td>2.490788</td>\n",
              "      <td>2162.409316</td>\n",
              "      <td>39.147940</td>\n",
              "      <td>0.025544</td>\n",
              "      <td>817.062380</td>\n",
              "      <td>816.33879</td>\n",
              "      <td>55.492332</td>\n",
              "      <td>20.558810</td>\n",
              "      <td>20.558768</td>\n",
              "      <td>2.699200</td>\n",
              "      <td>24.600000</td>\n",
              "      <td>0.533333</td>\n",
              "      <td>-0.034454</td>\n",
              "      <td>-0.051689</td>\n",
              "      <td>0.000040</td>\n",
              "      <td>-0.002749</td>\n",
              "      <td>0.025148</td>\n",
              "      <td>0.013921</td>\n",
              "      <td>0.013921</td>\n",
              "      <td>1.806517</td>\n",
              "      <td>-0.034454</td>\n",
              "      <td>-0.051689</td>\n",
              "      <td>14.542096</td>\n",
              "      <td>77.118903</td>\n",
              "      <td>2.186132</td>\n",
              "      <td>1.290615</td>\n",
              "      <td>2</td>\n",
              "      <td>no stress</td>\n",
              "    </tr>\n",
              "    <tr>\n",
              "      <th>2</th>\n",
              "      <td>cb573d3a-c767-4556-b32e-ad8c08ded214</td>\n",
              "      <td>2101.871207</td>\n",
              "      <td>75.836461</td>\n",
              "      <td>655.175895</td>\n",
              "      <td>23.639042</td>\n",
              "      <td>97.829386</td>\n",
              "      <td>14.536877</td>\n",
              "      <td>0.524497</td>\n",
              "      <td>2.170614</td>\n",
              "      <td>2771.583978</td>\n",
              "      <td>45.069921</td>\n",
              "      <td>0.022188</td>\n",
              "      <td>876.762022</td>\n",
              "      <td>894.19889</td>\n",
              "      <td>88.690820</td>\n",
              "      <td>13.853737</td>\n",
              "      <td>13.853730</td>\n",
              "      <td>6.401942</td>\n",
              "      <td>7.066667</td>\n",
              "      <td>0.533333</td>\n",
              "      <td>-0.206953</td>\n",
              "      <td>-0.589940</td>\n",
              "      <td>0.000010</td>\n",
              "      <td>-0.000172</td>\n",
              "      <td>0.015533</td>\n",
              "      <td>0.008149</td>\n",
              "      <td>0.008149</td>\n",
              "      <td>1.906180</td>\n",
              "      <td>-0.206953</td>\n",
              "      <td>-0.589940</td>\n",
              "      <td>9.799336</td>\n",
              "      <td>125.044377</td>\n",
              "      <td>2.051571</td>\n",
              "      <td>1.226663</td>\n",
              "      <td>2</td>\n",
              "      <td>no stress</td>\n",
              "    </tr>\n",
              "  </tbody>\n",
              "</table>\n",
              "</div>"
            ],
            "text/plain": [
              "                                   uuid          VLF  ...  datasetId      condition\n",
              "0  62b75db5-bc40-4c8f-9166-daf0efcab4c2  1868.532278  ...          2  time pressure\n",
              "1  a99549ad-3eb6-4413-bc90-9053e7f7e684   568.742845  ...          2      no stress\n",
              "2  cb573d3a-c767-4556-b32e-ad8c08ded214  2101.871207  ...          2      no stress\n",
              "\n",
              "[3 rows x 36 columns]"
            ]
          },
          "metadata": {
            "tags": []
          },
          "execution_count": 20
        }
      ]
    },
    {
      "cell_type": "code",
      "metadata": {
        "id": "kpTufcRe9oLu"
      },
      "source": [
        "y_train = df_train.pop('HR')"
      ],
      "execution_count": 21,
      "outputs": []
    },
    {
      "cell_type": "code",
      "metadata": {
        "id": "sGAOpJRr-MFt"
      },
      "source": [
        "X_train = df_train.copy(deep = True)\n",
        "X_test = df_test.copy(deep = True)"
      ],
      "execution_count": 22,
      "outputs": []
    },
    {
      "cell_type": "code",
      "metadata": {
        "colab": {
          "base_uri": "https://localhost:8080/"
        },
        "id": "XabjnOCt-WRP",
        "outputId": "26edddf6-18a7-458a-d550-493bbf7afd59"
      },
      "source": [
        "X_train.shape, X_test.shape"
      ],
      "execution_count": 23,
      "outputs": [
        {
          "output_type": "execute_result",
          "data": {
            "text/plain": [
              "((369289, 36), (41033, 36))"
            ]
          },
          "metadata": {
            "tags": []
          },
          "execution_count": 23
        }
      ]
    },
    {
      "cell_type": "markdown",
      "metadata": {
        "id": "2DoXDZZT_Rh-"
      },
      "source": [
        "#Checking the distribution of heartrate"
      ]
    },
    {
      "cell_type": "code",
      "metadata": {
        "colab": {
          "base_uri": "https://localhost:8080/",
          "height": 369
        },
        "id": "T85Gyr0t-bdf",
        "outputId": "5c41fc25-d76d-4294-cfeb-7f8084e792b7"
      },
      "source": [
        "sns.displot(y_train, kde=False, rug=True);"
      ],
      "execution_count": 24,
      "outputs": [
        {
          "output_type": "display_data",
          "data": {
            "image/png": "[encoded data removed]",
            "text/plain": [
              "<Figure size 360x360 with 1 Axes>"
            ]
          },
          "metadata": {
            "tags": [],
            "needs_background": "light"
          }
        }
      ]
    },
    {
      "cell_type": "code",
      "metadata": {
        "colab": {
          "base_uri": "https://localhost:8080/"
        },
        "id": "AqF2vvbI_Bg-",
        "outputId": "088e397c-783f-416b-adc0-251699b6def9"
      },
      "source": [
        "y_train.describe()"
      ],
      "execution_count": 25,
      "outputs": [
        {
          "output_type": "execute_result",
          "data": {
            "text/plain": [
              "count    369289.000000\n",
              "mean         73.941824\n",
              "std          10.337453\n",
              "min          48.737243\n",
              "25%          66.715776\n",
              "50%          74.217809\n",
              "75%          80.334937\n",
              "max         113.752309\n",
              "Name: HR, dtype: float64"
            ]
          },
          "metadata": {
            "tags": []
          },
          "execution_count": 25
        }
      ]
    },
    {
      "cell_type": "markdown",
      "metadata": {
        "id": "eXnp58ar_ecc"
      },
      "source": [
        "1. All HR are positive values.\n",
        "2. Right Sckewed, can bring in log transform to make normalized. Will check that.\n"
      ]
    },
    {
      "cell_type": "code",
      "metadata": {
        "colab": {
          "base_uri": "https://localhost:8080/",
          "height": 369
        },
        "id": "BKp70Nyz_aqd",
        "outputId": "e82960f2-445d-404c-da51-02a3010cc6e6"
      },
      "source": [
        "sns.displot(np.log(y_train), kde=False, rug=True);"
      ],
      "execution_count": 26,
      "outputs": [
        {
          "output_type": "display_data",
          "data": {
            "image/png": "[encoded data removed]",
            "text/plain": [
              "<Figure size 360x360 with 1 Axes>"
            ]
          },
          "metadata": {
            "tags": [],
            "needs_background": "light"
          }
        }
      ]
    },
    {
      "cell_type": "markdown",
      "metadata": {
        "id": "2J1a3z5uAHnz"
      },
      "source": [
        "## Why log?\n",
        "\n",
        "  y = exp(log(y))\n",
        "\n",
        "A model will perform better if the data is normally distributed. Since our HR is not normal we will make it normal by log, and say y_norm [check the values]. Train the model with y_norm, predict the y_norm for test data, then during submit take the expo of y_norm to get the yhat.\n"
      ]
    },
    {
      "cell_type": "markdown",
      "metadata": {
        "id": "Rgu8NwSeCWSv"
      },
      "source": [
        "# Some basic EDA"
      ]
    },
    {
      "cell_type": "markdown",
      "metadata": {
        "id": "hlanjlAvDCcS"
      },
      "source": [
        "## Drop datasetId"
      ]
    },
    {
      "cell_type": "code",
      "metadata": {
        "colab": {
          "base_uri": "https://localhost:8080/"
        },
        "id": "MG_ixHlU_t3d",
        "outputId": "39d60acc-3a10-46ed-856e-b421ae67a680"
      },
      "source": [
        "df_train['datasetId'].value_counts()"
      ],
      "execution_count": 27,
      "outputs": [
        {
          "output_type": "execute_result",
          "data": {
            "text/plain": [
              "2    369289\n",
              "Name: datasetId, dtype: int64"
            ]
          },
          "metadata": {
            "tags": []
          },
          "execution_count": 27
        }
      ]
    },
    {
      "cell_type": "code",
      "metadata": {
        "colab": {
          "base_uri": "https://localhost:8080/"
        },
        "id": "yOtT_j6LCJOE",
        "outputId": "e506fd0d-9c78-426e-c57d-17d35b5e71ac"
      },
      "source": [
        "df_test['datasetId'].value_counts()"
      ],
      "execution_count": 28,
      "outputs": [
        {
          "output_type": "execute_result",
          "data": {
            "text/plain": [
              "2    41033\n",
              "Name: datasetId, dtype: int64"
            ]
          },
          "metadata": {
            "tags": []
          },
          "execution_count": 28
        }
      ]
    },
    {
      "cell_type": "markdown",
      "metadata": {
        "id": "jA6fPv5SDNRI"
      },
      "source": [
        "datasetId contains same values and it doesnot provide any additional information to the model. Hence we will drop the column in both test and train dataset."
      ]
    },
    {
      "cell_type": "code",
      "metadata": {
        "id": "YBr1uwmPC_i9"
      },
      "source": [
        "df_train.drop(columns= ['datasetId'], inplace=True)\n",
        "df_test.drop(columns= ['datasetId'], inplace=True)"
      ],
      "execution_count": 29,
      "outputs": []
    },
    {
      "cell_type": "code",
      "metadata": {
        "colab": {
          "base_uri": "https://localhost:8080/"
        },
        "id": "qMMacFzwDe-Z",
        "outputId": "91e68acc-828f-48f1-ef7a-123e3eab6841"
      },
      "source": [
        "df_train.condition.value_counts()"
      ],
      "execution_count": 30,
      "outputs": [
        {
          "output_type": "execute_result",
          "data": {
            "text/plain": [
              "no stress        200082\n",
              "interruption     105150\n",
              "time pressure     64057\n",
              "Name: condition, dtype: int64"
            ]
          },
          "metadata": {
            "tags": []
          },
          "execution_count": 30
        }
      ]
    },
    {
      "cell_type": "code",
      "metadata": {
        "colab": {
          "base_uri": "https://localhost:8080/"
        },
        "id": "G70qUm1dEbGg",
        "outputId": "0fef5b29-05d4-4a71-c710-84ff7a90118f"
      },
      "source": [
        "df_test.condition.value_counts()"
      ],
      "execution_count": 31,
      "outputs": [
        {
          "output_type": "execute_result",
          "data": {
            "text/plain": [
              "no stress        22158\n",
              "interruption     11782\n",
              "time pressure     7093\n",
              "Name: condition, dtype: int64"
            ]
          },
          "metadata": {
            "tags": []
          },
          "execution_count": 31
        }
      ]
    },
    {
      "cell_type": "code",
      "metadata": {
        "id": "mzcE0JxJF9wM"
      },
      "source": [
        "df_train.drop(columns= ['uuid'], inplace=True)"
      ],
      "execution_count": 32,
      "outputs": []
    },
    {
      "cell_type": "code",
      "metadata": {
        "id": "UVhXZmA2GOH7"
      },
      "source": [
        "y_id = df_test.pop('uuid')"
      ],
      "execution_count": 33,
      "outputs": []
    },
    {
      "cell_type": "code",
      "metadata": {
        "colab": {
          "base_uri": "https://localhost:8080/",
          "height": 224
        },
        "id": "K4gDZln3GfwN",
        "outputId": "9106ae4e-0dd8-4554-d8b3-d3df4bdb6f19"
      },
      "source": [
        "df_train.head(5)"
      ],
      "execution_count": 34,
      "outputs": [
        {
          "output_type": "execute_result",
          "data": {
            "text/html": [
              "<div>\n",
              "<style scoped>\n",
              "    .dataframe tbody tr th:only-of-type {\n",
              "        vertical-align: middle;\n",
              "    }\n",
              "\n",
              "    .dataframe tbody tr th {\n",
              "        vertical-align: top;\n",
              "    }\n",
              "\n",
              "    .dataframe thead th {\n",
              "        text-align: right;\n",
              "    }\n",
              "</style>\n",
              "<table border=\"1\" class=\"dataframe\">\n",
              "  <thead>\n",
              "    <tr style=\"text-align: right;\">\n",
              "      <th></th>\n",
              "      <th>VLF</th>\n",
              "      <th>VLF_PCT</th>\n",
              "      <th>LF</th>\n",
              "      <th>LF_PCT</th>\n",
              "      <th>LF_NU</th>\n",
              "      <th>HF</th>\n",
              "      <th>HF_PCT</th>\n",
              "      <th>HF_NU</th>\n",
              "      <th>TP</th>\n",
              "      <th>LF_HF</th>\n",
              "      <th>HF_LF</th>\n",
              "      <th>MEAN_RR</th>\n",
              "      <th>MEDIAN_RR</th>\n",
              "      <th>SDRR</th>\n",
              "      <th>RMSSD</th>\n",
              "      <th>SDSD</th>\n",
              "      <th>SDRR_RMSSD</th>\n",
              "      <th>pNN25</th>\n",
              "      <th>pNN50</th>\n",
              "      <th>KURT</th>\n",
              "      <th>SKEW</th>\n",
              "      <th>MEAN_REL_RR</th>\n",
              "      <th>MEDIAN_REL_RR</th>\n",
              "      <th>SDRR_REL_RR</th>\n",
              "      <th>RMSSD_REL_RR</th>\n",
              "      <th>SDSD_REL_RR</th>\n",
              "      <th>SDRR_RMSSD_REL_RR</th>\n",
              "      <th>KURT_REL_RR</th>\n",
              "      <th>SKEW_REL_RR</th>\n",
              "      <th>SD1</th>\n",
              "      <th>SD2</th>\n",
              "      <th>sampen</th>\n",
              "      <th>higuci</th>\n",
              "      <th>condition</th>\n",
              "    </tr>\n",
              "  </thead>\n",
              "  <tbody>\n",
              "    <tr>\n",
              "      <th>0</th>\n",
              "      <td>2661.894136</td>\n",
              "      <td>72.203287</td>\n",
              "      <td>1009.249419</td>\n",
              "      <td>27.375666</td>\n",
              "      <td>98.485263</td>\n",
              "      <td>15.522603</td>\n",
              "      <td>0.421047</td>\n",
              "      <td>1.514737</td>\n",
              "      <td>3686.666157</td>\n",
              "      <td>65.018055</td>\n",
              "      <td>0.015380</td>\n",
              "      <td>885.157845</td>\n",
              "      <td>853.763730</td>\n",
              "      <td>140.972741</td>\n",
              "      <td>15.554505</td>\n",
              "      <td>15.553371</td>\n",
              "      <td>9.063146</td>\n",
              "      <td>11.133333</td>\n",
              "      <td>0.533333</td>\n",
              "      <td>-0.856554</td>\n",
              "      <td>0.335218</td>\n",
              "      <td>-0.000203</td>\n",
              "      <td>-0.000179</td>\n",
              "      <td>0.017080</td>\n",
              "      <td>0.007969</td>\n",
              "      <td>0.007969</td>\n",
              "      <td>2.143342</td>\n",
              "      <td>-0.856554</td>\n",
              "      <td>0.335218</td>\n",
              "      <td>11.001565</td>\n",
              "      <td>199.061782</td>\n",
              "      <td>2.139754</td>\n",
              "      <td>1.163485</td>\n",
              "      <td>no stress</td>\n",
              "    </tr>\n",
              "    <tr>\n",
              "      <th>1</th>\n",
              "      <td>2314.265450</td>\n",
              "      <td>76.975728</td>\n",
              "      <td>690.113275</td>\n",
              "      <td>22.954139</td>\n",
              "      <td>99.695397</td>\n",
              "      <td>2.108525</td>\n",
              "      <td>0.070133</td>\n",
              "      <td>0.304603</td>\n",
              "      <td>3006.487251</td>\n",
              "      <td>327.296635</td>\n",
              "      <td>0.003055</td>\n",
              "      <td>939.425371</td>\n",
              "      <td>948.357865</td>\n",
              "      <td>81.317742</td>\n",
              "      <td>12.964439</td>\n",
              "      <td>12.964195</td>\n",
              "      <td>6.272369</td>\n",
              "      <td>5.600000</td>\n",
              "      <td>0.000000</td>\n",
              "      <td>-0.408190</td>\n",
              "      <td>-0.155286</td>\n",
              "      <td>-0.000059</td>\n",
              "      <td>0.000611</td>\n",
              "      <td>0.013978</td>\n",
              "      <td>0.004769</td>\n",
              "      <td>0.004769</td>\n",
              "      <td>2.930855</td>\n",
              "      <td>-0.408190</td>\n",
              "      <td>-0.155286</td>\n",
              "      <td>9.170129</td>\n",
              "      <td>114.634458</td>\n",
              "      <td>2.174499</td>\n",
              "      <td>1.084711</td>\n",
              "      <td>interruption</td>\n",
              "    </tr>\n",
              "    <tr>\n",
              "      <th>2</th>\n",
              "      <td>1373.887112</td>\n",
              "      <td>51.152225</td>\n",
              "      <td>1298.222619</td>\n",
              "      <td>48.335104</td>\n",
              "      <td>98.950472</td>\n",
              "      <td>13.769729</td>\n",
              "      <td>0.512671</td>\n",
              "      <td>1.049528</td>\n",
              "      <td>2685.879461</td>\n",
              "      <td>94.280910</td>\n",
              "      <td>0.010607</td>\n",
              "      <td>898.186047</td>\n",
              "      <td>907.006860</td>\n",
              "      <td>84.497236</td>\n",
              "      <td>16.305279</td>\n",
              "      <td>16.305274</td>\n",
              "      <td>5.182201</td>\n",
              "      <td>13.066667</td>\n",
              "      <td>0.200000</td>\n",
              "      <td>0.351789</td>\n",
              "      <td>-0.656813</td>\n",
              "      <td>-0.000011</td>\n",
              "      <td>-0.000263</td>\n",
              "      <td>0.018539</td>\n",
              "      <td>0.008716</td>\n",
              "      <td>0.008716</td>\n",
              "      <td>2.127053</td>\n",
              "      <td>0.351789</td>\n",
              "      <td>-0.656813</td>\n",
              "      <td>11.533417</td>\n",
              "      <td>118.939253</td>\n",
              "      <td>2.135350</td>\n",
              "      <td>1.176315</td>\n",
              "      <td>interruption</td>\n",
              "    </tr>\n",
              "    <tr>\n",
              "      <th>3</th>\n",
              "      <td>2410.357408</td>\n",
              "      <td>70.180308</td>\n",
              "      <td>1005.981659</td>\n",
              "      <td>29.290305</td>\n",
              "      <td>98.224706</td>\n",
              "      <td>18.181913</td>\n",
              "      <td>0.529387</td>\n",
              "      <td>1.775294</td>\n",
              "      <td>3434.520980</td>\n",
              "      <td>55.328701</td>\n",
              "      <td>0.018074</td>\n",
              "      <td>881.757865</td>\n",
              "      <td>893.460030</td>\n",
              "      <td>90.370537</td>\n",
              "      <td>15.720468</td>\n",
              "      <td>15.720068</td>\n",
              "      <td>5.748591</td>\n",
              "      <td>11.800000</td>\n",
              "      <td>0.133333</td>\n",
              "      <td>-0.504947</td>\n",
              "      <td>-0.386138</td>\n",
              "      <td>0.000112</td>\n",
              "      <td>0.000494</td>\n",
              "      <td>0.017761</td>\n",
              "      <td>0.008660</td>\n",
              "      <td>0.008660</td>\n",
              "      <td>2.050988</td>\n",
              "      <td>-0.504947</td>\n",
              "      <td>-0.386138</td>\n",
              "      <td>11.119476</td>\n",
              "      <td>127.318597</td>\n",
              "      <td>2.178341</td>\n",
              "      <td>1.179688</td>\n",
              "      <td>no stress</td>\n",
              "    </tr>\n",
              "    <tr>\n",
              "      <th>4</th>\n",
              "      <td>1151.177330</td>\n",
              "      <td>43.918366</td>\n",
              "      <td>1421.782051</td>\n",
              "      <td>54.242160</td>\n",
              "      <td>96.720007</td>\n",
              "      <td>48.215822</td>\n",
              "      <td>1.839473</td>\n",
              "      <td>3.279993</td>\n",
              "      <td>2621.175204</td>\n",
              "      <td>29.487873</td>\n",
              "      <td>0.033912</td>\n",
              "      <td>809.625331</td>\n",
              "      <td>811.184865</td>\n",
              "      <td>62.766242</td>\n",
              "      <td>19.213819</td>\n",
              "      <td>19.213657</td>\n",
              "      <td>3.266724</td>\n",
              "      <td>20.200000</td>\n",
              "      <td>0.200000</td>\n",
              "      <td>-0.548408</td>\n",
              "      <td>-0.154252</td>\n",
              "      <td>-0.000100</td>\n",
              "      <td>-0.002736</td>\n",
              "      <td>0.023715</td>\n",
              "      <td>0.013055</td>\n",
              "      <td>0.013055</td>\n",
              "      <td>1.816544</td>\n",
              "      <td>-0.548408</td>\n",
              "      <td>-0.154252</td>\n",
              "      <td>13.590641</td>\n",
              "      <td>87.718281</td>\n",
              "      <td>2.221121</td>\n",
              "      <td>1.249612</td>\n",
              "      <td>no stress</td>\n",
              "    </tr>\n",
              "  </tbody>\n",
              "</table>\n",
              "</div>"
            ],
            "text/plain": [
              "           VLF    VLF_PCT           LF  ...    sampen    higuci     condition\n",
              "0  2661.894136  72.203287  1009.249419  ...  2.139754  1.163485     no stress\n",
              "1  2314.265450  76.975728   690.113275  ...  2.174499  1.084711  interruption\n",
              "2  1373.887112  51.152225  1298.222619  ...  2.135350  1.176315  interruption\n",
              "3  2410.357408  70.180308  1005.981659  ...  2.178341  1.179688     no stress\n",
              "4  1151.177330  43.918366  1421.782051  ...  2.221121  1.249612     no stress\n",
              "\n",
              "[5 rows x 34 columns]"
            ]
          },
          "metadata": {
            "tags": []
          },
          "execution_count": 34
        }
      ]
    },
    {
      "cell_type": "code",
      "metadata": {
        "colab": {
          "base_uri": "https://localhost:8080/",
          "height": 258
        },
        "id": "PYhwMyvEGiMr",
        "outputId": "ac6f4dd2-3ed7-4693-edb8-dee55200a49d"
      },
      "source": [
        "df_test.head(5)"
      ],
      "execution_count": 35,
      "outputs": [
        {
          "output_type": "execute_result",
          "data": {
            "text/html": [
              "<div>\n",
              "<style scoped>\n",
              "    .dataframe tbody tr th:only-of-type {\n",
              "        vertical-align: middle;\n",
              "    }\n",
              "\n",
              "    .dataframe tbody tr th {\n",
              "        vertical-align: top;\n",
              "    }\n",
              "\n",
              "    .dataframe thead th {\n",
              "        text-align: right;\n",
              "    }\n",
              "</style>\n",
              "<table border=\"1\" class=\"dataframe\">\n",
              "  <thead>\n",
              "    <tr style=\"text-align: right;\">\n",
              "      <th></th>\n",
              "      <th>VLF</th>\n",
              "      <th>VLF_PCT</th>\n",
              "      <th>LF</th>\n",
              "      <th>LF_PCT</th>\n",
              "      <th>LF_NU</th>\n",
              "      <th>HF</th>\n",
              "      <th>HF_PCT</th>\n",
              "      <th>HF_NU</th>\n",
              "      <th>TP</th>\n",
              "      <th>LF_HF</th>\n",
              "      <th>HF_LF</th>\n",
              "      <th>MEAN_RR</th>\n",
              "      <th>MEDIAN_RR</th>\n",
              "      <th>SDRR</th>\n",
              "      <th>RMSSD</th>\n",
              "      <th>SDSD</th>\n",
              "      <th>SDRR_RMSSD</th>\n",
              "      <th>pNN25</th>\n",
              "      <th>pNN50</th>\n",
              "      <th>KURT</th>\n",
              "      <th>SKEW</th>\n",
              "      <th>MEAN_REL_RR</th>\n",
              "      <th>MEDIAN_REL_RR</th>\n",
              "      <th>SDRR_REL_RR</th>\n",
              "      <th>RMSSD_REL_RR</th>\n",
              "      <th>SDSD_REL_RR</th>\n",
              "      <th>SDRR_RMSSD_REL_RR</th>\n",
              "      <th>KURT_REL_RR</th>\n",
              "      <th>SKEW_REL_RR</th>\n",
              "      <th>SD1</th>\n",
              "      <th>SD2</th>\n",
              "      <th>sampen</th>\n",
              "      <th>higuci</th>\n",
              "      <th>condition</th>\n",
              "    </tr>\n",
              "  </thead>\n",
              "  <tbody>\n",
              "    <tr>\n",
              "      <th>0</th>\n",
              "      <td>1868.532278</td>\n",
              "      <td>76.511189</td>\n",
              "      <td>570.643114</td>\n",
              "      <td>23.366245</td>\n",
              "      <td>99.478197</td>\n",
              "      <td>2.993254</td>\n",
              "      <td>0.122565</td>\n",
              "      <td>0.521803</td>\n",
              "      <td>2442.168645</td>\n",
              "      <td>190.643094</td>\n",
              "      <td>0.005245</td>\n",
              "      <td>934.665288</td>\n",
              "      <td>939.03173</td>\n",
              "      <td>82.139495</td>\n",
              "      <td>11.801781</td>\n",
              "      <td>11.801772</td>\n",
              "      <td>6.959924</td>\n",
              "      <td>3.933333</td>\n",
              "      <td>0.133333</td>\n",
              "      <td>-0.680262</td>\n",
              "      <td>-0.233075</td>\n",
              "      <td>0.000016</td>\n",
              "      <td>0.000288</td>\n",
              "      <td>0.012933</td>\n",
              "      <td>0.004578</td>\n",
              "      <td>0.004578</td>\n",
              "      <td>2.825038</td>\n",
              "      <td>-0.680262</td>\n",
              "      <td>-0.233075</td>\n",
              "      <td>8.347898</td>\n",
              "      <td>115.862444</td>\n",
              "      <td>2.209659</td>\n",
              "      <td>1.100715</td>\n",
              "      <td>time pressure</td>\n",
              "    </tr>\n",
              "    <tr>\n",
              "      <th>1</th>\n",
              "      <td>568.742845</td>\n",
              "      <td>26.301350</td>\n",
              "      <td>1553.971621</td>\n",
              "      <td>71.862973</td>\n",
              "      <td>97.509212</td>\n",
              "      <td>39.694850</td>\n",
              "      <td>1.835677</td>\n",
              "      <td>2.490788</td>\n",
              "      <td>2162.409316</td>\n",
              "      <td>39.147940</td>\n",
              "      <td>0.025544</td>\n",
              "      <td>817.062380</td>\n",
              "      <td>816.33879</td>\n",
              "      <td>55.492332</td>\n",
              "      <td>20.558810</td>\n",
              "      <td>20.558768</td>\n",
              "      <td>2.699200</td>\n",
              "      <td>24.600000</td>\n",
              "      <td>0.533333</td>\n",
              "      <td>-0.034454</td>\n",
              "      <td>-0.051689</td>\n",
              "      <td>0.000040</td>\n",
              "      <td>-0.002749</td>\n",
              "      <td>0.025148</td>\n",
              "      <td>0.013921</td>\n",
              "      <td>0.013921</td>\n",
              "      <td>1.806517</td>\n",
              "      <td>-0.034454</td>\n",
              "      <td>-0.051689</td>\n",
              "      <td>14.542096</td>\n",
              "      <td>77.118903</td>\n",
              "      <td>2.186132</td>\n",
              "      <td>1.290615</td>\n",
              "      <td>no stress</td>\n",
              "    </tr>\n",
              "    <tr>\n",
              "      <th>2</th>\n",
              "      <td>2101.871207</td>\n",
              "      <td>75.836461</td>\n",
              "      <td>655.175895</td>\n",
              "      <td>23.639042</td>\n",
              "      <td>97.829386</td>\n",
              "      <td>14.536877</td>\n",
              "      <td>0.524497</td>\n",
              "      <td>2.170614</td>\n",
              "      <td>2771.583978</td>\n",
              "      <td>45.069921</td>\n",
              "      <td>0.022188</td>\n",
              "      <td>876.762022</td>\n",
              "      <td>894.19889</td>\n",
              "      <td>88.690820</td>\n",
              "      <td>13.853737</td>\n",
              "      <td>13.853730</td>\n",
              "      <td>6.401942</td>\n",
              "      <td>7.066667</td>\n",
              "      <td>0.533333</td>\n",
              "      <td>-0.206953</td>\n",
              "      <td>-0.589940</td>\n",
              "      <td>0.000010</td>\n",
              "      <td>-0.000172</td>\n",
              "      <td>0.015533</td>\n",
              "      <td>0.008149</td>\n",
              "      <td>0.008149</td>\n",
              "      <td>1.906180</td>\n",
              "      <td>-0.206953</td>\n",
              "      <td>-0.589940</td>\n",
              "      <td>9.799336</td>\n",
              "      <td>125.044377</td>\n",
              "      <td>2.051571</td>\n",
              "      <td>1.226663</td>\n",
              "      <td>no stress</td>\n",
              "    </tr>\n",
              "    <tr>\n",
              "      <th>3</th>\n",
              "      <td>5757.544433</td>\n",
              "      <td>90.562305</td>\n",
              "      <td>592.913021</td>\n",
              "      <td>9.326123</td>\n",
              "      <td>98.817806</td>\n",
              "      <td>7.093235</td>\n",
              "      <td>0.111572</td>\n",
              "      <td>1.182194</td>\n",
              "      <td>6357.550689</td>\n",
              "      <td>83.588517</td>\n",
              "      <td>0.011963</td>\n",
              "      <td>1038.640693</td>\n",
              "      <td>998.91429</td>\n",
              "      <td>213.725850</td>\n",
              "      <td>16.457194</td>\n",
              "      <td>16.454801</td>\n",
              "      <td>12.986774</td>\n",
              "      <td>10.800000</td>\n",
              "      <td>1.866667</td>\n",
              "      <td>-0.820407</td>\n",
              "      <td>0.487198</td>\n",
              "      <td>-0.000238</td>\n",
              "      <td>-0.000464</td>\n",
              "      <td>0.016882</td>\n",
              "      <td>0.007587</td>\n",
              "      <td>0.007587</td>\n",
              "      <td>2.225116</td>\n",
              "      <td>-0.820407</td>\n",
              "      <td>0.487198</td>\n",
              "      <td>11.639185</td>\n",
              "      <td>302.029812</td>\n",
              "      <td>2.080910</td>\n",
              "      <td>1.085143</td>\n",
              "      <td>time pressure</td>\n",
              "    </tr>\n",
              "    <tr>\n",
              "      <th>4</th>\n",
              "      <td>964.696325</td>\n",
              "      <td>70.256575</td>\n",
              "      <td>374.939530</td>\n",
              "      <td>27.305968</td>\n",
              "      <td>91.805057</td>\n",
              "      <td>33.468834</td>\n",
              "      <td>2.437457</td>\n",
              "      <td>8.194943</td>\n",
              "      <td>1373.104689</td>\n",
              "      <td>11.202647</td>\n",
              "      <td>0.089265</td>\n",
              "      <td>774.548508</td>\n",
              "      <td>778.90508</td>\n",
              "      <td>51.577855</td>\n",
              "      <td>10.273114</td>\n",
              "      <td>10.273049</td>\n",
              "      <td>5.020664</td>\n",
              "      <td>2.000000</td>\n",
              "      <td>0.066667</td>\n",
              "      <td>1.738453</td>\n",
              "      <td>-0.005082</td>\n",
              "      <td>0.000054</td>\n",
              "      <td>-0.000006</td>\n",
              "      <td>0.013479</td>\n",
              "      <td>0.007811</td>\n",
              "      <td>0.007811</td>\n",
              "      <td>1.725606</td>\n",
              "      <td>1.738453</td>\n",
              "      <td>-0.005082</td>\n",
              "      <td>7.266567</td>\n",
              "      <td>72.579248</td>\n",
              "      <td>2.068728</td>\n",
              "      <td>1.252547</td>\n",
              "      <td>interruption</td>\n",
              "    </tr>\n",
              "  </tbody>\n",
              "</table>\n",
              "</div>"
            ],
            "text/plain": [
              "           VLF    VLF_PCT           LF  ...    sampen    higuci      condition\n",
              "0  1868.532278  76.511189   570.643114  ...  2.209659  1.100715  time pressure\n",
              "1   568.742845  26.301350  1553.971621  ...  2.186132  1.290615      no stress\n",
              "2  2101.871207  75.836461   655.175895  ...  2.051571  1.226663      no stress\n",
              "3  5757.544433  90.562305   592.913021  ...  2.080910  1.085143  time pressure\n",
              "4   964.696325  70.256575   374.939530  ...  2.068728  1.252547   interruption\n",
              "\n",
              "[5 rows x 34 columns]"
            ]
          },
          "metadata": {
            "tags": []
          },
          "execution_count": 35
        }
      ]
    },
    {
      "cell_type": "code",
      "metadata": {
        "colab": {
          "base_uri": "https://localhost:8080/",
          "height": 204
        },
        "id": "NPzllDPXHXdr",
        "outputId": "1a76d153-c933-446c-a89a-ed788b14c43b"
      },
      "source": [
        "fd_train.head()"
      ],
      "execution_count": 36,
      "outputs": [
        {
          "output_type": "execute_result",
          "data": {
            "text/html": [
              "<div>\n",
              "<style scoped>\n",
              "    .dataframe tbody tr th:only-of-type {\n",
              "        vertical-align: middle;\n",
              "    }\n",
              "\n",
              "    .dataframe tbody tr th {\n",
              "        vertical-align: top;\n",
              "    }\n",
              "\n",
              "    .dataframe thead th {\n",
              "        text-align: right;\n",
              "    }\n",
              "</style>\n",
              "<table border=\"1\" class=\"dataframe\">\n",
              "  <thead>\n",
              "    <tr style=\"text-align: right;\">\n",
              "      <th></th>\n",
              "      <th>uuid</th>\n",
              "      <th>VLF</th>\n",
              "      <th>VLF_PCT</th>\n",
              "      <th>LF</th>\n",
              "      <th>LF_PCT</th>\n",
              "      <th>LF_NU</th>\n",
              "      <th>HF</th>\n",
              "      <th>HF_PCT</th>\n",
              "      <th>HF_NU</th>\n",
              "      <th>TP</th>\n",
              "      <th>LF_HF</th>\n",
              "      <th>HF_LF</th>\n",
              "    </tr>\n",
              "  </thead>\n",
              "  <tbody>\n",
              "    <tr>\n",
              "      <th>0</th>\n",
              "      <td>89df2855-56eb-4706-a23b-b39363dd605a</td>\n",
              "      <td>2661.894136</td>\n",
              "      <td>72.203287</td>\n",
              "      <td>1009.249419</td>\n",
              "      <td>27.375666</td>\n",
              "      <td>98.485263</td>\n",
              "      <td>15.522603</td>\n",
              "      <td>0.421047</td>\n",
              "      <td>1.514737</td>\n",
              "      <td>3686.666157</td>\n",
              "      <td>65.018055</td>\n",
              "      <td>0.015380</td>\n",
              "    </tr>\n",
              "    <tr>\n",
              "      <th>1</th>\n",
              "      <td>80c795e4-aa56-4cc0-939c-19634b89cbb2</td>\n",
              "      <td>2314.265450</td>\n",
              "      <td>76.975728</td>\n",
              "      <td>690.113275</td>\n",
              "      <td>22.954139</td>\n",
              "      <td>99.695397</td>\n",
              "      <td>2.108525</td>\n",
              "      <td>0.070133</td>\n",
              "      <td>0.304603</td>\n",
              "      <td>3006.487251</td>\n",
              "      <td>327.296635</td>\n",
              "      <td>0.003055</td>\n",
              "    </tr>\n",
              "    <tr>\n",
              "      <th>2</th>\n",
              "      <td>c2d5d102-967c-487d-88f2-8b005a449f3e</td>\n",
              "      <td>1373.887112</td>\n",
              "      <td>51.152225</td>\n",
              "      <td>1298.222619</td>\n",
              "      <td>48.335104</td>\n",
              "      <td>98.950472</td>\n",
              "      <td>13.769729</td>\n",
              "      <td>0.512671</td>\n",
              "      <td>1.049528</td>\n",
              "      <td>2685.879461</td>\n",
              "      <td>94.280910</td>\n",
              "      <td>0.010607</td>\n",
              "    </tr>\n",
              "    <tr>\n",
              "      <th>3</th>\n",
              "      <td>37eabc44-1349-4040-8896-0d113ad4811f</td>\n",
              "      <td>2410.357408</td>\n",
              "      <td>70.180308</td>\n",
              "      <td>1005.981659</td>\n",
              "      <td>29.290305</td>\n",
              "      <td>98.224706</td>\n",
              "      <td>18.181913</td>\n",
              "      <td>0.529387</td>\n",
              "      <td>1.775294</td>\n",
              "      <td>3434.520980</td>\n",
              "      <td>55.328701</td>\n",
              "      <td>0.018074</td>\n",
              "    </tr>\n",
              "    <tr>\n",
              "      <th>4</th>\n",
              "      <td>aa777a6a-7aa3-4f6e-aced-70f8691dd2b7</td>\n",
              "      <td>1151.177330</td>\n",
              "      <td>43.918366</td>\n",
              "      <td>1421.782051</td>\n",
              "      <td>54.242160</td>\n",
              "      <td>96.720007</td>\n",
              "      <td>48.215822</td>\n",
              "      <td>1.839473</td>\n",
              "      <td>3.279993</td>\n",
              "      <td>2621.175204</td>\n",
              "      <td>29.487873</td>\n",
              "      <td>0.033912</td>\n",
              "    </tr>\n",
              "  </tbody>\n",
              "</table>\n",
              "</div>"
            ],
            "text/plain": [
              "                                   uuid          VLF  ...       LF_HF     HF_LF\n",
              "0  89df2855-56eb-4706-a23b-b39363dd605a  2661.894136  ...   65.018055  0.015380\n",
              "1  80c795e4-aa56-4cc0-939c-19634b89cbb2  2314.265450  ...  327.296635  0.003055\n",
              "2  c2d5d102-967c-487d-88f2-8b005a449f3e  1373.887112  ...   94.280910  0.010607\n",
              "3  37eabc44-1349-4040-8896-0d113ad4811f  2410.357408  ...   55.328701  0.018074\n",
              "4  aa777a6a-7aa3-4f6e-aced-70f8691dd2b7  1151.177330  ...   29.487873  0.033912\n",
              "\n",
              "[5 rows x 12 columns]"
            ]
          },
          "metadata": {
            "tags": []
          },
          "execution_count": 36
        }
      ]
    },
    {
      "cell_type": "code",
      "metadata": {
        "colab": {
          "base_uri": "https://localhost:8080/",
          "height": 479
        },
        "id": "TMVD91xPLXBe",
        "outputId": "c6d895ff-34c8-4c36-a02a-aac6f63769b6"
      },
      "source": [
        "td_train.head()"
      ],
      "execution_count": 37,
      "outputs": [
        {
          "output_type": "execute_result",
          "data": {
            "text/html": [
              "<div>\n",
              "<style scoped>\n",
              "    .dataframe tbody tr th:only-of-type {\n",
              "        vertical-align: middle;\n",
              "    }\n",
              "\n",
              "    .dataframe tbody tr th {\n",
              "        vertical-align: top;\n",
              "    }\n",
              "\n",
              "    .dataframe thead th {\n",
              "        text-align: right;\n",
              "    }\n",
              "</style>\n",
              "<table border=\"1\" class=\"dataframe\">\n",
              "  <thead>\n",
              "    <tr style=\"text-align: right;\">\n",
              "      <th></th>\n",
              "      <th>MEAN_RR</th>\n",
              "      <th>MEDIAN_RR</th>\n",
              "      <th>SDRR</th>\n",
              "      <th>RMSSD</th>\n",
              "      <th>SDSD</th>\n",
              "      <th>SDRR_RMSSD</th>\n",
              "      <th>HR</th>\n",
              "      <th>pNN25</th>\n",
              "      <th>pNN50</th>\n",
              "      <th>KURT</th>\n",
              "      <th>SKEW</th>\n",
              "      <th>MEAN_REL_RR</th>\n",
              "      <th>MEDIAN_REL_RR</th>\n",
              "      <th>SDRR_REL_RR</th>\n",
              "      <th>RMSSD_REL_RR</th>\n",
              "      <th>SDSD_REL_RR</th>\n",
              "      <th>SDRR_RMSSD_REL_RR</th>\n",
              "      <th>KURT_REL_RR</th>\n",
              "      <th>SKEW_REL_RR</th>\n",
              "      <th>uuid</th>\n",
              "    </tr>\n",
              "  </thead>\n",
              "  <tbody>\n",
              "    <tr>\n",
              "      <th>0</th>\n",
              "      <td>885.157845</td>\n",
              "      <td>853.763730</td>\n",
              "      <td>140.972741</td>\n",
              "      <td>15.554505</td>\n",
              "      <td>15.553371</td>\n",
              "      <td>9.063146</td>\n",
              "      <td>69.499952</td>\n",
              "      <td>11.133333</td>\n",
              "      <td>0.533333</td>\n",
              "      <td>-0.856554</td>\n",
              "      <td>0.335218</td>\n",
              "      <td>-0.000203</td>\n",
              "      <td>-0.000179</td>\n",
              "      <td>0.017080</td>\n",
              "      <td>0.007969</td>\n",
              "      <td>0.007969</td>\n",
              "      <td>2.143342</td>\n",
              "      <td>-0.856554</td>\n",
              "      <td>0.335218</td>\n",
              "      <td>89df2855-56eb-4706-a23b-b39363dd605a</td>\n",
              "    </tr>\n",
              "    <tr>\n",
              "      <th>1</th>\n",
              "      <td>939.425371</td>\n",
              "      <td>948.357865</td>\n",
              "      <td>81.317742</td>\n",
              "      <td>12.964439</td>\n",
              "      <td>12.964195</td>\n",
              "      <td>6.272369</td>\n",
              "      <td>64.363150</td>\n",
              "      <td>5.600000</td>\n",
              "      <td>0.000000</td>\n",
              "      <td>-0.408190</td>\n",
              "      <td>-0.155286</td>\n",
              "      <td>-0.000059</td>\n",
              "      <td>0.000611</td>\n",
              "      <td>0.013978</td>\n",
              "      <td>0.004769</td>\n",
              "      <td>0.004769</td>\n",
              "      <td>2.930855</td>\n",
              "      <td>-0.408190</td>\n",
              "      <td>-0.155286</td>\n",
              "      <td>80c795e4-aa56-4cc0-939c-19634b89cbb2</td>\n",
              "    </tr>\n",
              "    <tr>\n",
              "      <th>2</th>\n",
              "      <td>898.186047</td>\n",
              "      <td>907.006860</td>\n",
              "      <td>84.497236</td>\n",
              "      <td>16.305279</td>\n",
              "      <td>16.305274</td>\n",
              "      <td>5.182201</td>\n",
              "      <td>67.450066</td>\n",
              "      <td>13.066667</td>\n",
              "      <td>0.200000</td>\n",
              "      <td>0.351789</td>\n",
              "      <td>-0.656813</td>\n",
              "      <td>-0.000011</td>\n",
              "      <td>-0.000263</td>\n",
              "      <td>0.018539</td>\n",
              "      <td>0.008716</td>\n",
              "      <td>0.008716</td>\n",
              "      <td>2.127053</td>\n",
              "      <td>0.351789</td>\n",
              "      <td>-0.656813</td>\n",
              "      <td>c2d5d102-967c-487d-88f2-8b005a449f3e</td>\n",
              "    </tr>\n",
              "    <tr>\n",
              "      <th>3</th>\n",
              "      <td>881.757865</td>\n",
              "      <td>893.460030</td>\n",
              "      <td>90.370537</td>\n",
              "      <td>15.720468</td>\n",
              "      <td>15.720068</td>\n",
              "      <td>5.748591</td>\n",
              "      <td>68.809562</td>\n",
              "      <td>11.800000</td>\n",
              "      <td>0.133333</td>\n",
              "      <td>-0.504947</td>\n",
              "      <td>-0.386138</td>\n",
              "      <td>0.000112</td>\n",
              "      <td>0.000494</td>\n",
              "      <td>0.017761</td>\n",
              "      <td>0.008660</td>\n",
              "      <td>0.008660</td>\n",
              "      <td>2.050988</td>\n",
              "      <td>-0.504947</td>\n",
              "      <td>-0.386138</td>\n",
              "      <td>37eabc44-1349-4040-8896-0d113ad4811f</td>\n",
              "    </tr>\n",
              "    <tr>\n",
              "      <th>4</th>\n",
              "      <td>809.625331</td>\n",
              "      <td>811.184865</td>\n",
              "      <td>62.766242</td>\n",
              "      <td>19.213819</td>\n",
              "      <td>19.213657</td>\n",
              "      <td>3.266724</td>\n",
              "      <td>74.565728</td>\n",
              "      <td>20.200000</td>\n",
              "      <td>0.200000</td>\n",
              "      <td>-0.548408</td>\n",
              "      <td>-0.154252</td>\n",
              "      <td>-0.000100</td>\n",
              "      <td>-0.002736</td>\n",
              "      <td>0.023715</td>\n",
              "      <td>0.013055</td>\n",
              "      <td>0.013055</td>\n",
              "      <td>1.816544</td>\n",
              "      <td>-0.548408</td>\n",
              "      <td>-0.154252</td>\n",
              "      <td>aa777a6a-7aa3-4f6e-aced-70f8691dd2b7</td>\n",
              "    </tr>\n",
              "  </tbody>\n",
              "</table>\n",
              "</div>"
            ],
            "text/plain": [
              "      MEAN_RR   MEDIAN_RR  ...  SKEW_REL_RR                                  uuid\n",
              "0  885.157845  853.763730  ...     0.335218  89df2855-56eb-4706-a23b-b39363dd605a\n",
              "1  939.425371  948.357865  ...    -0.155286  80c795e4-aa56-4cc0-939c-19634b89cbb2\n",
              "2  898.186047  907.006860  ...    -0.656813  c2d5d102-967c-487d-88f2-8b005a449f3e\n",
              "3  881.757865  893.460030  ...    -0.386138  37eabc44-1349-4040-8896-0d113ad4811f\n",
              "4  809.625331  811.184865  ...    -0.154252  aa777a6a-7aa3-4f6e-aced-70f8691dd2b7\n",
              "\n",
              "[5 rows x 20 columns]"
            ]
          },
          "metadata": {
            "tags": []
          },
          "execution_count": 37
        }
      ]
    },
    {
      "cell_type": "code",
      "metadata": {
        "colab": {
          "base_uri": "https://localhost:8080/",
          "height": 204
        },
        "id": "gUBmarIJLhD6",
        "outputId": "84d55087-d96d-4f83-f084-f87efc226349"
      },
      "source": [
        "hr_train.head(5)"
      ],
      "execution_count": 38,
      "outputs": [
        {
          "output_type": "execute_result",
          "data": {
            "text/html": [
              "<div>\n",
              "<style scoped>\n",
              "    .dataframe tbody tr th:only-of-type {\n",
              "        vertical-align: middle;\n",
              "    }\n",
              "\n",
              "    .dataframe tbody tr th {\n",
              "        vertical-align: top;\n",
              "    }\n",
              "\n",
              "    .dataframe thead th {\n",
              "        text-align: right;\n",
              "    }\n",
              "</style>\n",
              "<table border=\"1\" class=\"dataframe\">\n",
              "  <thead>\n",
              "    <tr style=\"text-align: right;\">\n",
              "      <th></th>\n",
              "      <th>uuid</th>\n",
              "      <th>SD1</th>\n",
              "      <th>SD2</th>\n",
              "      <th>sampen</th>\n",
              "      <th>higuci</th>\n",
              "      <th>datasetId</th>\n",
              "      <th>condition</th>\n",
              "    </tr>\n",
              "  </thead>\n",
              "  <tbody>\n",
              "    <tr>\n",
              "      <th>0</th>\n",
              "      <td>89df2855-56eb-4706-a23b-b39363dd605a</td>\n",
              "      <td>11.001565</td>\n",
              "      <td>199.061782</td>\n",
              "      <td>2.139754</td>\n",
              "      <td>1.163485</td>\n",
              "      <td>2</td>\n",
              "      <td>no stress</td>\n",
              "    </tr>\n",
              "    <tr>\n",
              "      <th>1</th>\n",
              "      <td>80c795e4-aa56-4cc0-939c-19634b89cbb2</td>\n",
              "      <td>9.170129</td>\n",
              "      <td>114.634458</td>\n",
              "      <td>2.174499</td>\n",
              "      <td>1.084711</td>\n",
              "      <td>2</td>\n",
              "      <td>interruption</td>\n",
              "    </tr>\n",
              "    <tr>\n",
              "      <th>2</th>\n",
              "      <td>c2d5d102-967c-487d-88f2-8b005a449f3e</td>\n",
              "      <td>11.533417</td>\n",
              "      <td>118.939253</td>\n",
              "      <td>2.135350</td>\n",
              "      <td>1.176315</td>\n",
              "      <td>2</td>\n",
              "      <td>interruption</td>\n",
              "    </tr>\n",
              "    <tr>\n",
              "      <th>3</th>\n",
              "      <td>37eabc44-1349-4040-8896-0d113ad4811f</td>\n",
              "      <td>11.119476</td>\n",
              "      <td>127.318597</td>\n",
              "      <td>2.178341</td>\n",
              "      <td>1.179688</td>\n",
              "      <td>2</td>\n",
              "      <td>no stress</td>\n",
              "    </tr>\n",
              "    <tr>\n",
              "      <th>4</th>\n",
              "      <td>aa777a6a-7aa3-4f6e-aced-70f8691dd2b7</td>\n",
              "      <td>13.590641</td>\n",
              "      <td>87.718281</td>\n",
              "      <td>2.221121</td>\n",
              "      <td>1.249612</td>\n",
              "      <td>2</td>\n",
              "      <td>no stress</td>\n",
              "    </tr>\n",
              "  </tbody>\n",
              "</table>\n",
              "</div>"
            ],
            "text/plain": [
              "                                   uuid        SD1  ...  datasetId     condition\n",
              "0  89df2855-56eb-4706-a23b-b39363dd605a  11.001565  ...          2     no stress\n",
              "1  80c795e4-aa56-4cc0-939c-19634b89cbb2   9.170129  ...          2  interruption\n",
              "2  c2d5d102-967c-487d-88f2-8b005a449f3e  11.533417  ...          2  interruption\n",
              "3  37eabc44-1349-4040-8896-0d113ad4811f  11.119476  ...          2     no stress\n",
              "4  aa777a6a-7aa3-4f6e-aced-70f8691dd2b7  13.590641  ...          2     no stress\n",
              "\n",
              "[5 rows x 7 columns]"
            ]
          },
          "metadata": {
            "tags": []
          },
          "execution_count": 38
        }
      ]
    },
    {
      "cell_type": "markdown",
      "metadata": {
        "id": "SUx7hHMNdCpq"
      },
      "source": [
        "#Frequency domain Analysis"
      ]
    },
    {
      "cell_type": "code",
      "metadata": {
        "colab": {
          "base_uri": "https://localhost:8080/",
          "height": 302
        },
        "id": "tOlHu9ABLpfh",
        "outputId": "5e52e2d5-0d8b-4968-ca59-40282d1ad5b0"
      },
      "source": [
        "sns.scatterplot(x = 'VLF', y = 'VLF_PCT', data = df_train)"
      ],
      "execution_count": 39,
      "outputs": [
        {
          "output_type": "execute_result",
          "data": {
            "text/plain": [
              "<matplotlib.axes._subplots.AxesSubplot at 0x7f856e670d68>"
            ]
          },
          "metadata": {
            "tags": []
          },
          "execution_count": 39
        },
        {
          "output_type": "display_data",
          "data": {
            "image/png": "[encoded data removed]",
            "text/plain": [
              "<Figure size 432x288 with 1 Axes>"
            ]
          },
          "metadata": {
            "tags": [],
            "needs_background": "light"
          }
        }
      ]
    },
    {
      "cell_type": "markdown",
      "metadata": {
        "id": "8OJXqtfxNsAs"
      },
      "source": [
        "Some kind of transformtion is applied on VLF to get VLF_PCT "
      ]
    },
    {
      "cell_type": "code",
      "metadata": {
        "colab": {
          "base_uri": "https://localhost:8080/",
          "height": 302
        },
        "id": "yOHORZXaMg52",
        "outputId": "35bd7124-a5b8-4562-d070-349448ae4c99"
      },
      "source": [
        "sns.scatterplot(x = 'LF', y = 'LF_NU', data = df_train)"
      ],
      "execution_count": 40,
      "outputs": [
        {
          "output_type": "execute_result",
          "data": {
            "text/plain": [
              "<matplotlib.axes._subplots.AxesSubplot at 0x7f85782dce80>"
            ]
          },
          "metadata": {
            "tags": []
          },
          "execution_count": 40
        },
        {
          "output_type": "display_data",
          "data": {
            "image/png": "[encoded data removed]",
            "text/plain": [
              "<Figure size 432x288 with 1 Axes>"
            ]
          },
          "metadata": {
            "tags": [],
            "needs_background": "light"
          }
        }
      ]
    },
    {
      "cell_type": "code",
      "metadata": {
        "colab": {
          "base_uri": "https://localhost:8080/",
          "height": 356
        },
        "id": "RrbUYrIsMv8O",
        "outputId": "36f8a9e2-6ef8-4728-f8c0-745cdd478302"
      },
      "source": [
        "sns.scatterplot(df_train['LF'], np.log(df_train['LF']))"
      ],
      "execution_count": 41,
      "outputs": [
        {
          "output_type": "stream",
          "text": [
            "/usr/local/lib/python3.6/dist-packages/seaborn/_decorators.py:43: FutureWarning: Pass the following variables as keyword args: x, y. From version 0.12, the only valid positional argument will be `data`, and passing other arguments without an explicit keyword will result in an error or misinterpretation.\n",
            "  FutureWarning\n"
          ],
          "name": "stderr"
        },
        {
          "output_type": "execute_result",
          "data": {
            "text/plain": [
              "<matplotlib.axes._subplots.AxesSubplot at 0x7f856f3a4b38>"
            ]
          },
          "metadata": {
            "tags": []
          },
          "execution_count": 41
        },
        {
          "output_type": "display_data",
          "data": {
            "image/png": "[encoded data removed]",
            "text/plain": [
              "<Figure size 432x288 with 1 Axes>"
            ]
          },
          "metadata": {
            "tags": [],
            "needs_background": "light"
          }
        }
      ]
    },
    {
      "cell_type": "code",
      "metadata": {
        "colab": {
          "base_uri": "https://localhost:8080/",
          "height": 204
        },
        "id": "sHtCi-22RqYM",
        "outputId": "fc66413f-1e65-4f15-f925-00adf8d73ec3"
      },
      "source": [
        "fd_train[['VLF_PCT','LF_PCT', 'HF_PCT']].head()"
      ],
      "execution_count": 42,
      "outputs": [
        {
          "output_type": "execute_result",
          "data": {
            "text/html": [
              "<div>\n",
              "<style scoped>\n",
              "    .dataframe tbody tr th:only-of-type {\n",
              "        vertical-align: middle;\n",
              "    }\n",
              "\n",
              "    .dataframe tbody tr th {\n",
              "        vertical-align: top;\n",
              "    }\n",
              "\n",
              "    .dataframe thead th {\n",
              "        text-align: right;\n",
              "    }\n",
              "</style>\n",
              "<table border=\"1\" class=\"dataframe\">\n",
              "  <thead>\n",
              "    <tr style=\"text-align: right;\">\n",
              "      <th></th>\n",
              "      <th>VLF_PCT</th>\n",
              "      <th>LF_PCT</th>\n",
              "      <th>HF_PCT</th>\n",
              "    </tr>\n",
              "  </thead>\n",
              "  <tbody>\n",
              "    <tr>\n",
              "      <th>0</th>\n",
              "      <td>72.203287</td>\n",
              "      <td>27.375666</td>\n",
              "      <td>0.421047</td>\n",
              "    </tr>\n",
              "    <tr>\n",
              "      <th>1</th>\n",
              "      <td>76.975728</td>\n",
              "      <td>22.954139</td>\n",
              "      <td>0.070133</td>\n",
              "    </tr>\n",
              "    <tr>\n",
              "      <th>2</th>\n",
              "      <td>51.152225</td>\n",
              "      <td>48.335104</td>\n",
              "      <td>0.512671</td>\n",
              "    </tr>\n",
              "    <tr>\n",
              "      <th>3</th>\n",
              "      <td>70.180308</td>\n",
              "      <td>29.290305</td>\n",
              "      <td>0.529387</td>\n",
              "    </tr>\n",
              "    <tr>\n",
              "      <th>4</th>\n",
              "      <td>43.918366</td>\n",
              "      <td>54.242160</td>\n",
              "      <td>1.839473</td>\n",
              "    </tr>\n",
              "  </tbody>\n",
              "</table>\n",
              "</div>"
            ],
            "text/plain": [
              "     VLF_PCT     LF_PCT    HF_PCT\n",
              "0  72.203287  27.375666  0.421047\n",
              "1  76.975728  22.954139  0.070133\n",
              "2  51.152225  48.335104  0.512671\n",
              "3  70.180308  29.290305  0.529387\n",
              "4  43.918366  54.242160  1.839473"
            ]
          },
          "metadata": {
            "tags": []
          },
          "execution_count": 42
        }
      ]
    },
    {
      "cell_type": "code",
      "metadata": {
        "id": "SEkfIGh2Vgav"
      },
      "source": [
        "x = fd_train['VLF_PCT'] + fd_train['LF_PCT'] + fd_train['HF_PCT']"
      ],
      "execution_count": 43,
      "outputs": []
    },
    {
      "cell_type": "code",
      "metadata": {
        "colab": {
          "base_uri": "https://localhost:8080/"
        },
        "id": "AVhlMKRPVsz-",
        "outputId": "87b22fb5-e1c5-4e02-d6bd-a197f7f051ca"
      },
      "source": [
        "x.mean()"
      ],
      "execution_count": 44,
      "outputs": [
        {
          "output_type": "execute_result",
          "data": {
            "text/plain": [
              "100.0"
            ]
          },
          "metadata": {
            "tags": []
          },
          "execution_count": 44
        }
      ]
    },
    {
      "cell_type": "code",
      "metadata": {
        "colab": {
          "base_uri": "https://localhost:8080/",
          "height": 204
        },
        "id": "gMxoHCUsWpmG",
        "outputId": "9ca4664a-8a3a-4ab1-a2c1-464a63209318"
      },
      "source": [
        "fd_train[['VLF','LF', 'HF']].head()"
      ],
      "execution_count": 45,
      "outputs": [
        {
          "output_type": "execute_result",
          "data": {
            "text/html": [
              "<div>\n",
              "<style scoped>\n",
              "    .dataframe tbody tr th:only-of-type {\n",
              "        vertical-align: middle;\n",
              "    }\n",
              "\n",
              "    .dataframe tbody tr th {\n",
              "        vertical-align: top;\n",
              "    }\n",
              "\n",
              "    .dataframe thead th {\n",
              "        text-align: right;\n",
              "    }\n",
              "</style>\n",
              "<table border=\"1\" class=\"dataframe\">\n",
              "  <thead>\n",
              "    <tr style=\"text-align: right;\">\n",
              "      <th></th>\n",
              "      <th>VLF</th>\n",
              "      <th>LF</th>\n",
              "      <th>HF</th>\n",
              "    </tr>\n",
              "  </thead>\n",
              "  <tbody>\n",
              "    <tr>\n",
              "      <th>0</th>\n",
              "      <td>2661.894136</td>\n",
              "      <td>1009.249419</td>\n",
              "      <td>15.522603</td>\n",
              "    </tr>\n",
              "    <tr>\n",
              "      <th>1</th>\n",
              "      <td>2314.265450</td>\n",
              "      <td>690.113275</td>\n",
              "      <td>2.108525</td>\n",
              "    </tr>\n",
              "    <tr>\n",
              "      <th>2</th>\n",
              "      <td>1373.887112</td>\n",
              "      <td>1298.222619</td>\n",
              "      <td>13.769729</td>\n",
              "    </tr>\n",
              "    <tr>\n",
              "      <th>3</th>\n",
              "      <td>2410.357408</td>\n",
              "      <td>1005.981659</td>\n",
              "      <td>18.181913</td>\n",
              "    </tr>\n",
              "    <tr>\n",
              "      <th>4</th>\n",
              "      <td>1151.177330</td>\n",
              "      <td>1421.782051</td>\n",
              "      <td>48.215822</td>\n",
              "    </tr>\n",
              "  </tbody>\n",
              "</table>\n",
              "</div>"
            ],
            "text/plain": [
              "           VLF           LF         HF\n",
              "0  2661.894136  1009.249419  15.522603\n",
              "1  2314.265450   690.113275   2.108525\n",
              "2  1373.887112  1298.222619  13.769729\n",
              "3  2410.357408  1005.981659  18.181913\n",
              "4  1151.177330  1421.782051  48.215822"
            ]
          },
          "metadata": {
            "tags": []
          },
          "execution_count": 45
        }
      ]
    },
    {
      "cell_type": "code",
      "metadata": {
        "id": "gv2qfWIsVw3C"
      },
      "source": [
        "x = fd_train['VLF'] + fd_train['LF'] + fd_train['HF']"
      ],
      "execution_count": 46,
      "outputs": []
    },
    {
      "cell_type": "code",
      "metadata": {
        "colab": {
          "base_uri": "https://localhost:8080/"
        },
        "id": "VvZYDPRaWiEa",
        "outputId": "ba4d7ecb-3098-4ab8-bae4-26a522b7eb31"
      },
      "source": [
        "x"
      ],
      "execution_count": 47,
      "outputs": [
        {
          "output_type": "execute_result",
          "data": {
            "text/plain": [
              "0         3686.666157\n",
              "1         3006.487251\n",
              "2         2685.879461\n",
              "3         3434.520980\n",
              "4         2621.175204\n",
              "             ...     \n",
              "369284     649.351702\n",
              "369285    2278.456746\n",
              "369286    4331.259564\n",
              "369287    2930.056129\n",
              "369288    3177.292709\n",
              "Length: 369289, dtype: float64"
            ]
          },
          "metadata": {
            "tags": []
          },
          "execution_count": 47
        }
      ]
    },
    {
      "cell_type": "markdown",
      "metadata": {
        "id": "Btnxh2ufV7Pj"
      },
      "source": [
        "### Some Interesting features, just forget about the high corr features.!! May be thats wrong."
      ]
    },
    {
      "cell_type": "markdown",
      "metadata": {
        "id": "Qm3kfs_wXuyR"
      },
      "source": [
        "1. VLF_PCT = (VLF)/(VLF+HF+LF)\n",
        "2. LF_PCT = (LF)/(VLF+HF+LF)\n",
        "3. HF_PCT = 100 - (VLF_PCT + LF_PCT)\n"
      ]
    },
    {
      "cell_type": "code",
      "metadata": {
        "id": "QuEc200XCpI9"
      },
      "source": [
        "df_train.drop(columns= ['VLF_PCT','LF_PCT','HF_PCT'], inplace=True)\n",
        "df_test.drop(columns= ['VLF_PCT','LF_PCT','HF_PCT'], inplace=True)"
      ],
      "execution_count": 48,
      "outputs": []
    },
    {
      "cell_type": "markdown",
      "metadata": {
        "id": "bB3XxN17YIn9"
      },
      "source": [
        "Are we going to process the raw data or computed data????"
      ]
    },
    {
      "cell_type": "code",
      "metadata": {
        "colab": {
          "base_uri": "https://localhost:8080/",
          "height": 419
        },
        "id": "z59hpZv0SqII",
        "outputId": "01bbcd39-b46f-4659-d6e9-c6ad9a656012"
      },
      "source": [
        "fd_train[['HF_NU','LF_NU']]"
      ],
      "execution_count": 49,
      "outputs": [
        {
          "output_type": "execute_result",
          "data": {
            "text/html": [
              "<div>\n",
              "<style scoped>\n",
              "    .dataframe tbody tr th:only-of-type {\n",
              "        vertical-align: middle;\n",
              "    }\n",
              "\n",
              "    .dataframe tbody tr th {\n",
              "        vertical-align: top;\n",
              "    }\n",
              "\n",
              "    .dataframe thead th {\n",
              "        text-align: right;\n",
              "    }\n",
              "</style>\n",
              "<table border=\"1\" class=\"dataframe\">\n",
              "  <thead>\n",
              "    <tr style=\"text-align: right;\">\n",
              "      <th></th>\n",
              "      <th>HF_NU</th>\n",
              "      <th>LF_NU</th>\n",
              "    </tr>\n",
              "  </thead>\n",
              "  <tbody>\n",
              "    <tr>\n",
              "      <th>0</th>\n",
              "      <td>1.514737</td>\n",
              "      <td>98.485263</td>\n",
              "    </tr>\n",
              "    <tr>\n",
              "      <th>1</th>\n",
              "      <td>0.304603</td>\n",
              "      <td>99.695397</td>\n",
              "    </tr>\n",
              "    <tr>\n",
              "      <th>2</th>\n",
              "      <td>1.049528</td>\n",
              "      <td>98.950472</td>\n",
              "    </tr>\n",
              "    <tr>\n",
              "      <th>3</th>\n",
              "      <td>1.775294</td>\n",
              "      <td>98.224706</td>\n",
              "    </tr>\n",
              "    <tr>\n",
              "      <th>4</th>\n",
              "      <td>3.279993</td>\n",
              "      <td>96.720007</td>\n",
              "    </tr>\n",
              "    <tr>\n",
              "      <th>...</th>\n",
              "      <td>...</td>\n",
              "      <td>...</td>\n",
              "    </tr>\n",
              "    <tr>\n",
              "      <th>369284</th>\n",
              "      <td>10.880317</td>\n",
              "      <td>89.119683</td>\n",
              "    </tr>\n",
              "    <tr>\n",
              "      <th>369285</th>\n",
              "      <td>0.357547</td>\n",
              "      <td>99.642453</td>\n",
              "    </tr>\n",
              "    <tr>\n",
              "      <th>369286</th>\n",
              "      <td>0.180070</td>\n",
              "      <td>99.819930</td>\n",
              "    </tr>\n",
              "    <tr>\n",
              "      <th>369287</th>\n",
              "      <td>3.522995</td>\n",
              "      <td>96.477005</td>\n",
              "    </tr>\n",
              "    <tr>\n",
              "      <th>369288</th>\n",
              "      <td>3.438658</td>\n",
              "      <td>96.561342</td>\n",
              "    </tr>\n",
              "  </tbody>\n",
              "</table>\n",
              "<p>369289 rows × 2 columns</p>\n",
              "</div>"
            ],
            "text/plain": [
              "            HF_NU      LF_NU\n",
              "0        1.514737  98.485263\n",
              "1        0.304603  99.695397\n",
              "2        1.049528  98.950472\n",
              "3        1.775294  98.224706\n",
              "4        3.279993  96.720007\n",
              "...           ...        ...\n",
              "369284  10.880317  89.119683\n",
              "369285   0.357547  99.642453\n",
              "369286   0.180070  99.819930\n",
              "369287   3.522995  96.477005\n",
              "369288   3.438658  96.561342\n",
              "\n",
              "[369289 rows x 2 columns]"
            ]
          },
          "metadata": {
            "tags": []
          },
          "execution_count": 49
        }
      ]
    },
    {
      "cell_type": "code",
      "metadata": {
        "id": "0mwdsRKmYher"
      },
      "source": [
        "x = fd_train['HF_NU'] + fd_train['LF_NU']"
      ],
      "execution_count": 50,
      "outputs": []
    },
    {
      "cell_type": "code",
      "metadata": {
        "colab": {
          "base_uri": "https://localhost:8080/"
        },
        "id": "gXvAGRLDZ6E9",
        "outputId": "16faab05-9ed6-45da-f66e-4cfb0dbe67c3"
      },
      "source": [
        "x.mean()"
      ],
      "execution_count": 51,
      "outputs": [
        {
          "output_type": "execute_result",
          "data": {
            "text/plain": [
              "100.0"
            ]
          },
          "metadata": {
            "tags": []
          },
          "execution_count": 51
        }
      ]
    },
    {
      "cell_type": "markdown",
      "metadata": {
        "id": "yl7ZW1PcZ-KZ"
      },
      "source": [
        "Interesting Formula and calculations!!!!!"
      ]
    },
    {
      "cell_type": "markdown",
      "metadata": {
        "id": "UYhTojEXb7TN"
      },
      "source": [
        "1. HF_NU = HF/(HF+LF)\n",
        "2. LF_NU = LF/(HF+LF)"
      ]
    },
    {
      "cell_type": "code",
      "metadata": {
        "id": "sv-_rB6HDGfv"
      },
      "source": [
        "df_train.drop(columns= ['HF_NU','LF_NU'], inplace=True)\n",
        "df_test.drop(columns= ['HF_NU','LF_NU'], inplace=True)"
      ],
      "execution_count": 52,
      "outputs": []
    },
    {
      "cell_type": "code",
      "metadata": {
        "colab": {
          "base_uri": "https://localhost:8080/",
          "height": 204
        },
        "id": "dqrYEKrGZ9wY",
        "outputId": "8ffd2eb9-4d0c-45a3-fd8d-38e22253a2d5"
      },
      "source": [
        "fd_train.head()"
      ],
      "execution_count": 53,
      "outputs": [
        {
          "output_type": "execute_result",
          "data": {
            "text/html": [
              "<div>\n",
              "<style scoped>\n",
              "    .dataframe tbody tr th:only-of-type {\n",
              "        vertical-align: middle;\n",
              "    }\n",
              "\n",
              "    .dataframe tbody tr th {\n",
              "        vertical-align: top;\n",
              "    }\n",
              "\n",
              "    .dataframe thead th {\n",
              "        text-align: right;\n",
              "    }\n",
              "</style>\n",
              "<table border=\"1\" class=\"dataframe\">\n",
              "  <thead>\n",
              "    <tr style=\"text-align: right;\">\n",
              "      <th></th>\n",
              "      <th>uuid</th>\n",
              "      <th>VLF</th>\n",
              "      <th>VLF_PCT</th>\n",
              "      <th>LF</th>\n",
              "      <th>LF_PCT</th>\n",
              "      <th>LF_NU</th>\n",
              "      <th>HF</th>\n",
              "      <th>HF_PCT</th>\n",
              "      <th>HF_NU</th>\n",
              "      <th>TP</th>\n",
              "      <th>LF_HF</th>\n",
              "      <th>HF_LF</th>\n",
              "    </tr>\n",
              "  </thead>\n",
              "  <tbody>\n",
              "    <tr>\n",
              "      <th>0</th>\n",
              "      <td>89df2855-56eb-4706-a23b-b39363dd605a</td>\n",
              "      <td>2661.894136</td>\n",
              "      <td>72.203287</td>\n",
              "      <td>1009.249419</td>\n",
              "      <td>27.375666</td>\n",
              "      <td>98.485263</td>\n",
              "      <td>15.522603</td>\n",
              "      <td>0.421047</td>\n",
              "      <td>1.514737</td>\n",
              "      <td>3686.666157</td>\n",
              "      <td>65.018055</td>\n",
              "      <td>0.015380</td>\n",
              "    </tr>\n",
              "    <tr>\n",
              "      <th>1</th>\n",
              "      <td>80c795e4-aa56-4cc0-939c-19634b89cbb2</td>\n",
              "      <td>2314.265450</td>\n",
              "      <td>76.975728</td>\n",
              "      <td>690.113275</td>\n",
              "      <td>22.954139</td>\n",
              "      <td>99.695397</td>\n",
              "      <td>2.108525</td>\n",
              "      <td>0.070133</td>\n",
              "      <td>0.304603</td>\n",
              "      <td>3006.487251</td>\n",
              "      <td>327.296635</td>\n",
              "      <td>0.003055</td>\n",
              "    </tr>\n",
              "    <tr>\n",
              "      <th>2</th>\n",
              "      <td>c2d5d102-967c-487d-88f2-8b005a449f3e</td>\n",
              "      <td>1373.887112</td>\n",
              "      <td>51.152225</td>\n",
              "      <td>1298.222619</td>\n",
              "      <td>48.335104</td>\n",
              "      <td>98.950472</td>\n",
              "      <td>13.769729</td>\n",
              "      <td>0.512671</td>\n",
              "      <td>1.049528</td>\n",
              "      <td>2685.879461</td>\n",
              "      <td>94.280910</td>\n",
              "      <td>0.010607</td>\n",
              "    </tr>\n",
              "    <tr>\n",
              "      <th>3</th>\n",
              "      <td>37eabc44-1349-4040-8896-0d113ad4811f</td>\n",
              "      <td>2410.357408</td>\n",
              "      <td>70.180308</td>\n",
              "      <td>1005.981659</td>\n",
              "      <td>29.290305</td>\n",
              "      <td>98.224706</td>\n",
              "      <td>18.181913</td>\n",
              "      <td>0.529387</td>\n",
              "      <td>1.775294</td>\n",
              "      <td>3434.520980</td>\n",
              "      <td>55.328701</td>\n",
              "      <td>0.018074</td>\n",
              "    </tr>\n",
              "    <tr>\n",
              "      <th>4</th>\n",
              "      <td>aa777a6a-7aa3-4f6e-aced-70f8691dd2b7</td>\n",
              "      <td>1151.177330</td>\n",
              "      <td>43.918366</td>\n",
              "      <td>1421.782051</td>\n",
              "      <td>54.242160</td>\n",
              "      <td>96.720007</td>\n",
              "      <td>48.215822</td>\n",
              "      <td>1.839473</td>\n",
              "      <td>3.279993</td>\n",
              "      <td>2621.175204</td>\n",
              "      <td>29.487873</td>\n",
              "      <td>0.033912</td>\n",
              "    </tr>\n",
              "  </tbody>\n",
              "</table>\n",
              "</div>"
            ],
            "text/plain": [
              "                                   uuid          VLF  ...       LF_HF     HF_LF\n",
              "0  89df2855-56eb-4706-a23b-b39363dd605a  2661.894136  ...   65.018055  0.015380\n",
              "1  80c795e4-aa56-4cc0-939c-19634b89cbb2  2314.265450  ...  327.296635  0.003055\n",
              "2  c2d5d102-967c-487d-88f2-8b005a449f3e  1373.887112  ...   94.280910  0.010607\n",
              "3  37eabc44-1349-4040-8896-0d113ad4811f  2410.357408  ...   55.328701  0.018074\n",
              "4  aa777a6a-7aa3-4f6e-aced-70f8691dd2b7  1151.177330  ...   29.487873  0.033912\n",
              "\n",
              "[5 rows x 12 columns]"
            ]
          },
          "metadata": {
            "tags": []
          },
          "execution_count": 53
        }
      ]
    },
    {
      "cell_type": "markdown",
      "metadata": {
        "id": "Ql0UjNxicf2E"
      },
      "source": [
        "And ofcource \n",
        "1. TP = VLF + LF + HF\n",
        "2. LF_HF = LF / HF\n",
        "3. HF_LF = HF / LF"
      ]
    },
    {
      "cell_type": "markdown",
      "metadata": {
        "id": "Eov5et5-dIcv"
      },
      "source": [
        "Raw data : VLF, LF, HF, all others are computed or derived data!!\n",
        "\n",
        "The question here is are we going to use raw data or computed data.\n"
      ]
    },
    {
      "cell_type": "code",
      "metadata": {
        "id": "qPM-mAypDSHG"
      },
      "source": [
        "df_train.drop(columns= ['TP','LF_HF', 'HF_LF'], inplace=True)\n",
        "df_test.drop(columns= ['TP','LF_HF', 'HF_LF'], inplace=True)"
      ],
      "execution_count": 54,
      "outputs": []
    },
    {
      "cell_type": "code",
      "metadata": {
        "id": "oyXHiWPTZ7DE",
        "colab": {
          "base_uri": "https://localhost:8080/",
          "height": 204
        },
        "outputId": "ed53e2c3-b771-4492-f2db-0063b34758ad"
      },
      "source": [
        "hr_train.head()"
      ],
      "execution_count": 55,
      "outputs": [
        {
          "output_type": "execute_result",
          "data": {
            "text/html": [
              "<div>\n",
              "<style scoped>\n",
              "    .dataframe tbody tr th:only-of-type {\n",
              "        vertical-align: middle;\n",
              "    }\n",
              "\n",
              "    .dataframe tbody tr th {\n",
              "        vertical-align: top;\n",
              "    }\n",
              "\n",
              "    .dataframe thead th {\n",
              "        text-align: right;\n",
              "    }\n",
              "</style>\n",
              "<table border=\"1\" class=\"dataframe\">\n",
              "  <thead>\n",
              "    <tr style=\"text-align: right;\">\n",
              "      <th></th>\n",
              "      <th>uuid</th>\n",
              "      <th>SD1</th>\n",
              "      <th>SD2</th>\n",
              "      <th>sampen</th>\n",
              "      <th>higuci</th>\n",
              "      <th>datasetId</th>\n",
              "      <th>condition</th>\n",
              "    </tr>\n",
              "  </thead>\n",
              "  <tbody>\n",
              "    <tr>\n",
              "      <th>0</th>\n",
              "      <td>89df2855-56eb-4706-a23b-b39363dd605a</td>\n",
              "      <td>11.001565</td>\n",
              "      <td>199.061782</td>\n",
              "      <td>2.139754</td>\n",
              "      <td>1.163485</td>\n",
              "      <td>2</td>\n",
              "      <td>no stress</td>\n",
              "    </tr>\n",
              "    <tr>\n",
              "      <th>1</th>\n",
              "      <td>80c795e4-aa56-4cc0-939c-19634b89cbb2</td>\n",
              "      <td>9.170129</td>\n",
              "      <td>114.634458</td>\n",
              "      <td>2.174499</td>\n",
              "      <td>1.084711</td>\n",
              "      <td>2</td>\n",
              "      <td>interruption</td>\n",
              "    </tr>\n",
              "    <tr>\n",
              "      <th>2</th>\n",
              "      <td>c2d5d102-967c-487d-88f2-8b005a449f3e</td>\n",
              "      <td>11.533417</td>\n",
              "      <td>118.939253</td>\n",
              "      <td>2.135350</td>\n",
              "      <td>1.176315</td>\n",
              "      <td>2</td>\n",
              "      <td>interruption</td>\n",
              "    </tr>\n",
              "    <tr>\n",
              "      <th>3</th>\n",
              "      <td>37eabc44-1349-4040-8896-0d113ad4811f</td>\n",
              "      <td>11.119476</td>\n",
              "      <td>127.318597</td>\n",
              "      <td>2.178341</td>\n",
              "      <td>1.179688</td>\n",
              "      <td>2</td>\n",
              "      <td>no stress</td>\n",
              "    </tr>\n",
              "    <tr>\n",
              "      <th>4</th>\n",
              "      <td>aa777a6a-7aa3-4f6e-aced-70f8691dd2b7</td>\n",
              "      <td>13.590641</td>\n",
              "      <td>87.718281</td>\n",
              "      <td>2.221121</td>\n",
              "      <td>1.249612</td>\n",
              "      <td>2</td>\n",
              "      <td>no stress</td>\n",
              "    </tr>\n",
              "  </tbody>\n",
              "</table>\n",
              "</div>"
            ],
            "text/plain": [
              "                                   uuid        SD1  ...  datasetId     condition\n",
              "0  89df2855-56eb-4706-a23b-b39363dd605a  11.001565  ...          2     no stress\n",
              "1  80c795e4-aa56-4cc0-939c-19634b89cbb2   9.170129  ...          2  interruption\n",
              "2  c2d5d102-967c-487d-88f2-8b005a449f3e  11.533417  ...          2  interruption\n",
              "3  37eabc44-1349-4040-8896-0d113ad4811f  11.119476  ...          2     no stress\n",
              "4  aa777a6a-7aa3-4f6e-aced-70f8691dd2b7  13.590641  ...          2     no stress\n",
              "\n",
              "[5 rows x 7 columns]"
            ]
          },
          "metadata": {
            "tags": []
          },
          "execution_count": 55
        }
      ]
    },
    {
      "cell_type": "markdown",
      "metadata": {
        "id": "lfGauzDps2ip"
      },
      "source": [
        "Poincare plot - RR(n) vs RR(n+1)  -> Used for time series analysis\n",
        "SD1 and SD2 : https://www.ncbi.nlm.nih.gov/pmc/articles/PMC2743693/\n",
        "Sample Entropy of Time Series : https://www.ncbi.nlm.nih.gov/pmc/articles/PMC5422060/\n",
        "may be from time domain!!"
      ]
    },
    {
      "cell_type": "code",
      "metadata": {
        "colab": {
          "base_uri": "https://localhost:8080/",
          "height": 315
        },
        "id": "sYPbo0GPqchH",
        "outputId": "e08e450b-f2fb-41ba-e750-1b25df1ab8ca"
      },
      "source": [
        "td_train.head(3)"
      ],
      "execution_count": 56,
      "outputs": [
        {
          "output_type": "execute_result",
          "data": {
            "text/html": [
              "<div>\n",
              "<style scoped>\n",
              "    .dataframe tbody tr th:only-of-type {\n",
              "        vertical-align: middle;\n",
              "    }\n",
              "\n",
              "    .dataframe tbody tr th {\n",
              "        vertical-align: top;\n",
              "    }\n",
              "\n",
              "    .dataframe thead th {\n",
              "        text-align: right;\n",
              "    }\n",
              "</style>\n",
              "<table border=\"1\" class=\"dataframe\">\n",
              "  <thead>\n",
              "    <tr style=\"text-align: right;\">\n",
              "      <th></th>\n",
              "      <th>MEAN_RR</th>\n",
              "      <th>MEDIAN_RR</th>\n",
              "      <th>SDRR</th>\n",
              "      <th>RMSSD</th>\n",
              "      <th>SDSD</th>\n",
              "      <th>SDRR_RMSSD</th>\n",
              "      <th>HR</th>\n",
              "      <th>pNN25</th>\n",
              "      <th>pNN50</th>\n",
              "      <th>KURT</th>\n",
              "      <th>SKEW</th>\n",
              "      <th>MEAN_REL_RR</th>\n",
              "      <th>MEDIAN_REL_RR</th>\n",
              "      <th>SDRR_REL_RR</th>\n",
              "      <th>RMSSD_REL_RR</th>\n",
              "      <th>SDSD_REL_RR</th>\n",
              "      <th>SDRR_RMSSD_REL_RR</th>\n",
              "      <th>KURT_REL_RR</th>\n",
              "      <th>SKEW_REL_RR</th>\n",
              "      <th>uuid</th>\n",
              "    </tr>\n",
              "  </thead>\n",
              "  <tbody>\n",
              "    <tr>\n",
              "      <th>0</th>\n",
              "      <td>885.157845</td>\n",
              "      <td>853.763730</td>\n",
              "      <td>140.972741</td>\n",
              "      <td>15.554505</td>\n",
              "      <td>15.553371</td>\n",
              "      <td>9.063146</td>\n",
              "      <td>69.499952</td>\n",
              "      <td>11.133333</td>\n",
              "      <td>0.533333</td>\n",
              "      <td>-0.856554</td>\n",
              "      <td>0.335218</td>\n",
              "      <td>-0.000203</td>\n",
              "      <td>-0.000179</td>\n",
              "      <td>0.017080</td>\n",
              "      <td>0.007969</td>\n",
              "      <td>0.007969</td>\n",
              "      <td>2.143342</td>\n",
              "      <td>-0.856554</td>\n",
              "      <td>0.335218</td>\n",
              "      <td>89df2855-56eb-4706-a23b-b39363dd605a</td>\n",
              "    </tr>\n",
              "    <tr>\n",
              "      <th>1</th>\n",
              "      <td>939.425371</td>\n",
              "      <td>948.357865</td>\n",
              "      <td>81.317742</td>\n",
              "      <td>12.964439</td>\n",
              "      <td>12.964195</td>\n",
              "      <td>6.272369</td>\n",
              "      <td>64.363150</td>\n",
              "      <td>5.600000</td>\n",
              "      <td>0.000000</td>\n",
              "      <td>-0.408190</td>\n",
              "      <td>-0.155286</td>\n",
              "      <td>-0.000059</td>\n",
              "      <td>0.000611</td>\n",
              "      <td>0.013978</td>\n",
              "      <td>0.004769</td>\n",
              "      <td>0.004769</td>\n",
              "      <td>2.930855</td>\n",
              "      <td>-0.408190</td>\n",
              "      <td>-0.155286</td>\n",
              "      <td>80c795e4-aa56-4cc0-939c-19634b89cbb2</td>\n",
              "    </tr>\n",
              "    <tr>\n",
              "      <th>2</th>\n",
              "      <td>898.186047</td>\n",
              "      <td>907.006860</td>\n",
              "      <td>84.497236</td>\n",
              "      <td>16.305279</td>\n",
              "      <td>16.305274</td>\n",
              "      <td>5.182201</td>\n",
              "      <td>67.450066</td>\n",
              "      <td>13.066667</td>\n",
              "      <td>0.200000</td>\n",
              "      <td>0.351789</td>\n",
              "      <td>-0.656813</td>\n",
              "      <td>-0.000011</td>\n",
              "      <td>-0.000263</td>\n",
              "      <td>0.018539</td>\n",
              "      <td>0.008716</td>\n",
              "      <td>0.008716</td>\n",
              "      <td>2.127053</td>\n",
              "      <td>0.351789</td>\n",
              "      <td>-0.656813</td>\n",
              "      <td>c2d5d102-967c-487d-88f2-8b005a449f3e</td>\n",
              "    </tr>\n",
              "  </tbody>\n",
              "</table>\n",
              "</div>"
            ],
            "text/plain": [
              "      MEAN_RR   MEDIAN_RR  ...  SKEW_REL_RR                                  uuid\n",
              "0  885.157845  853.763730  ...     0.335218  89df2855-56eb-4706-a23b-b39363dd605a\n",
              "1  939.425371  948.357865  ...    -0.155286  80c795e4-aa56-4cc0-939c-19634b89cbb2\n",
              "2  898.186047  907.006860  ...    -0.656813  c2d5d102-967c-487d-88f2-8b005a449f3e\n",
              "\n",
              "[3 rows x 20 columns]"
            ]
          },
          "metadata": {
            "tags": []
          },
          "execution_count": 56
        }
      ]
    },
    {
      "cell_type": "code",
      "metadata": {
        "colab": {
          "base_uri": "https://localhost:8080/",
          "height": 391
        },
        "id": "XJELcTGhuVZW",
        "outputId": "6192809d-cdd6-4212-889e-fbd7051476d5"
      },
      "source": [
        "sns.distplot(td_train.SDRR, kde=False, rug=True)"
      ],
      "execution_count": 57,
      "outputs": [
        {
          "output_type": "stream",
          "text": [
            "/usr/local/lib/python3.6/dist-packages/seaborn/distributions.py:2551: FutureWarning: `distplot` is a deprecated function and will be removed in a future version. Please adapt your code to use either `displot` (a figure-level function with similar flexibility) or `histplot` (an axes-level function for histograms).\n",
            "  warnings.warn(msg, FutureWarning)\n",
            "/usr/local/lib/python3.6/dist-packages/seaborn/distributions.py:2055: FutureWarning: The `axis` variable is no longer used and will be removed. Instead, assign variables directly to `x` or `y`.\n",
            "  warnings.warn(msg, FutureWarning)\n"
          ],
          "name": "stderr"
        },
        {
          "output_type": "execute_result",
          "data": {
            "text/plain": [
              "<matplotlib.axes._subplots.AxesSubplot at 0x7f8576a696d8>"
            ]
          },
          "metadata": {
            "tags": []
          },
          "execution_count": 57
        },
        {
          "output_type": "display_data",
          "data": {
            "image/png": "[encoded data removed]",
            "text/plain": [
              "<Figure size 432x288 with 1 Axes>"
            ]
          },
          "metadata": {
            "tags": [],
            "needs_background": "light"
          }
        }
      ]
    },
    {
      "cell_type": "code",
      "metadata": {
        "colab": {
          "base_uri": "https://localhost:8080/",
          "height": 302
        },
        "id": "HUbhfq0e187a",
        "outputId": "94944850-f2c5-4718-9e44-c16d532b2a8a"
      },
      "source": [
        "sns.scatterplot(x = 'SKEW', y = 'SKEW_REL_RR', data = td_train)"
      ],
      "execution_count": 58,
      "outputs": [
        {
          "output_type": "execute_result",
          "data": {
            "text/plain": [
              "<matplotlib.axes._subplots.AxesSubplot at 0x7f8576a95668>"
            ]
          },
          "metadata": {
            "tags": []
          },
          "execution_count": 58
        },
        {
          "output_type": "display_data",
          "data": {
            "image/png": "[encoded data removed]",
            "text/plain": [
              "<Figure size 432x288 with 1 Axes>"
            ]
          },
          "metadata": {
            "tags": [],
            "needs_background": "light"
          }
        }
      ]
    },
    {
      "cell_type": "code",
      "metadata": {
        "colab": {
          "base_uri": "https://localhost:8080/",
          "height": 302
        },
        "id": "47uWZW6O39Nj",
        "outputId": "91d193ec-8060-4fc0-80db-9225ee07b51c"
      },
      "source": [
        "sns.scatterplot(x = 'KURT', y = 'KURT_REL_RR', data = td_train)"
      ],
      "execution_count": 59,
      "outputs": [
        {
          "output_type": "execute_result",
          "data": {
            "text/plain": [
              "<matplotlib.axes._subplots.AxesSubplot at 0x7f8576a56550>"
            ]
          },
          "metadata": {
            "tags": []
          },
          "execution_count": 59
        },
        {
          "output_type": "display_data",
          "data": {
            "image/png": "[encoded data removed]",
            "text/plain": [
              "<Figure size 432x288 with 1 Axes>"
            ]
          },
          "metadata": {
            "tags": [],
            "needs_background": "light"
          }
        }
      ]
    },
    {
      "cell_type": "markdown",
      "metadata": {
        "id": "lvpTBIai44VD"
      },
      "source": [
        "Can drop SKEW_REL_RR and KURT_REL_RR"
      ]
    },
    {
      "cell_type": "code",
      "metadata": {
        "id": "lJn9GA5gDrrX"
      },
      "source": [
        "df_train.drop(columns= ['SKEW_REL_RR','KURT_REL_RR'], inplace=True)\n",
        "df_test.drop(columns= ['SKEW_REL_RR','KURT_REL_RR'], inplace=True)"
      ],
      "execution_count": 60,
      "outputs": []
    },
    {
      "cell_type": "code",
      "metadata": {
        "colab": {
          "base_uri": "https://localhost:8080/",
          "height": 302
        },
        "id": "h0R1ynLv6dps",
        "outputId": "2a8abad2-6783-4f5a-cf5b-b3fec366e995"
      },
      "source": [
        "sns.scatterplot(x = 'RMSSD_REL_RR', y = 'SDSD_REL_RR', data = td_train)"
      ],
      "execution_count": 61,
      "outputs": [
        {
          "output_type": "execute_result",
          "data": {
            "text/plain": [
              "<matplotlib.axes._subplots.AxesSubplot at 0x7f856cde4390>"
            ]
          },
          "metadata": {
            "tags": []
          },
          "execution_count": 61
        },
        {
          "output_type": "display_data",
          "data": {
            "image/png": "[encoded data removed]",
            "text/plain": [
              "<Figure size 432x288 with 1 Axes>"
            ]
          },
          "metadata": {
            "tags": [],
            "needs_background": "light"
          }
        }
      ]
    },
    {
      "cell_type": "code",
      "metadata": {
        "id": "2a20GlbSD1Rm"
      },
      "source": [
        "df_train.drop(columns= ['SDSD_REL_RR'], inplace=True) \n",
        "df_test.drop(columns= ['SDSD_REL_RR'], inplace=True) "
      ],
      "execution_count": 62,
      "outputs": []
    },
    {
      "cell_type": "code",
      "metadata": {
        "colab": {
          "base_uri": "https://localhost:8080/",
          "height": 162
        },
        "id": "efsk-1z3D8jO",
        "outputId": "22c2e03c-95a9-45ca-c765-ac0012fa0096"
      },
      "source": [
        "df_train.head(3)"
      ],
      "execution_count": 63,
      "outputs": [
        {
          "output_type": "execute_result",
          "data": {
            "text/html": [
              "<div>\n",
              "<style scoped>\n",
              "    .dataframe tbody tr th:only-of-type {\n",
              "        vertical-align: middle;\n",
              "    }\n",
              "\n",
              "    .dataframe tbody tr th {\n",
              "        vertical-align: top;\n",
              "    }\n",
              "\n",
              "    .dataframe thead th {\n",
              "        text-align: right;\n",
              "    }\n",
              "</style>\n",
              "<table border=\"1\" class=\"dataframe\">\n",
              "  <thead>\n",
              "    <tr style=\"text-align: right;\">\n",
              "      <th></th>\n",
              "      <th>VLF</th>\n",
              "      <th>LF</th>\n",
              "      <th>HF</th>\n",
              "      <th>MEAN_RR</th>\n",
              "      <th>MEDIAN_RR</th>\n",
              "      <th>SDRR</th>\n",
              "      <th>RMSSD</th>\n",
              "      <th>SDSD</th>\n",
              "      <th>SDRR_RMSSD</th>\n",
              "      <th>pNN25</th>\n",
              "      <th>pNN50</th>\n",
              "      <th>KURT</th>\n",
              "      <th>SKEW</th>\n",
              "      <th>MEAN_REL_RR</th>\n",
              "      <th>MEDIAN_REL_RR</th>\n",
              "      <th>SDRR_REL_RR</th>\n",
              "      <th>RMSSD_REL_RR</th>\n",
              "      <th>SDRR_RMSSD_REL_RR</th>\n",
              "      <th>SD1</th>\n",
              "      <th>SD2</th>\n",
              "      <th>sampen</th>\n",
              "      <th>higuci</th>\n",
              "      <th>condition</th>\n",
              "    </tr>\n",
              "  </thead>\n",
              "  <tbody>\n",
              "    <tr>\n",
              "      <th>0</th>\n",
              "      <td>2661.894136</td>\n",
              "      <td>1009.249419</td>\n",
              "      <td>15.522603</td>\n",
              "      <td>885.157845</td>\n",
              "      <td>853.763730</td>\n",
              "      <td>140.972741</td>\n",
              "      <td>15.554505</td>\n",
              "      <td>15.553371</td>\n",
              "      <td>9.063146</td>\n",
              "      <td>11.133333</td>\n",
              "      <td>0.533333</td>\n",
              "      <td>-0.856554</td>\n",
              "      <td>0.335218</td>\n",
              "      <td>-0.000203</td>\n",
              "      <td>-0.000179</td>\n",
              "      <td>0.017080</td>\n",
              "      <td>0.007969</td>\n",
              "      <td>2.143342</td>\n",
              "      <td>11.001565</td>\n",
              "      <td>199.061782</td>\n",
              "      <td>2.139754</td>\n",
              "      <td>1.163485</td>\n",
              "      <td>no stress</td>\n",
              "    </tr>\n",
              "    <tr>\n",
              "      <th>1</th>\n",
              "      <td>2314.265450</td>\n",
              "      <td>690.113275</td>\n",
              "      <td>2.108525</td>\n",
              "      <td>939.425371</td>\n",
              "      <td>948.357865</td>\n",
              "      <td>81.317742</td>\n",
              "      <td>12.964439</td>\n",
              "      <td>12.964195</td>\n",
              "      <td>6.272369</td>\n",
              "      <td>5.600000</td>\n",
              "      <td>0.000000</td>\n",
              "      <td>-0.408190</td>\n",
              "      <td>-0.155286</td>\n",
              "      <td>-0.000059</td>\n",
              "      <td>0.000611</td>\n",
              "      <td>0.013978</td>\n",
              "      <td>0.004769</td>\n",
              "      <td>2.930855</td>\n",
              "      <td>9.170129</td>\n",
              "      <td>114.634458</td>\n",
              "      <td>2.174499</td>\n",
              "      <td>1.084711</td>\n",
              "      <td>interruption</td>\n",
              "    </tr>\n",
              "    <tr>\n",
              "      <th>2</th>\n",
              "      <td>1373.887112</td>\n",
              "      <td>1298.222619</td>\n",
              "      <td>13.769729</td>\n",
              "      <td>898.186047</td>\n",
              "      <td>907.006860</td>\n",
              "      <td>84.497236</td>\n",
              "      <td>16.305279</td>\n",
              "      <td>16.305274</td>\n",
              "      <td>5.182201</td>\n",
              "      <td>13.066667</td>\n",
              "      <td>0.200000</td>\n",
              "      <td>0.351789</td>\n",
              "      <td>-0.656813</td>\n",
              "      <td>-0.000011</td>\n",
              "      <td>-0.000263</td>\n",
              "      <td>0.018539</td>\n",
              "      <td>0.008716</td>\n",
              "      <td>2.127053</td>\n",
              "      <td>11.533417</td>\n",
              "      <td>118.939253</td>\n",
              "      <td>2.135350</td>\n",
              "      <td>1.176315</td>\n",
              "      <td>interruption</td>\n",
              "    </tr>\n",
              "  </tbody>\n",
              "</table>\n",
              "</div>"
            ],
            "text/plain": [
              "           VLF           LF         HF  ...    sampen    higuci     condition\n",
              "0  2661.894136  1009.249419  15.522603  ...  2.139754  1.163485     no stress\n",
              "1  2314.265450   690.113275   2.108525  ...  2.174499  1.084711  interruption\n",
              "2  1373.887112  1298.222619  13.769729  ...  2.135350  1.176315  interruption\n",
              "\n",
              "[3 rows x 23 columns]"
            ]
          },
          "metadata": {
            "tags": []
          },
          "execution_count": 63
        }
      ]
    },
    {
      "cell_type": "code",
      "metadata": {
        "id": "9oaPl1AfECm6"
      },
      "source": [
        "corr_matrix = df_train.corr()            \n",
        "upper = corr_matrix.abs().where(np.triu(np.ones(corr_matrix.shape), k = 1).astype(np.bool))\n",
        "high_correlation_features = [column for column in upper.columns if any(upper[column] >= 0.75)]\n"
      ],
      "execution_count": 64,
      "outputs": []
    },
    {
      "cell_type": "code",
      "metadata": {
        "colab": {
          "base_uri": "https://localhost:8080/"
        },
        "id": "iVKdltaC6zUO",
        "outputId": "1f8b5e93-dbd4-4036-8c45-bb812da28051"
      },
      "source": [
        "high_correlation_features"
      ],
      "execution_count": 65,
      "outputs": [
        {
          "output_type": "execute_result",
          "data": {
            "text/plain": [
              "['MEDIAN_RR',\n",
              " 'SDRR',\n",
              " 'RMSSD',\n",
              " 'SDSD',\n",
              " 'SDRR_RMSSD',\n",
              " 'pNN25',\n",
              " 'pNN50',\n",
              " 'SDRR_REL_RR',\n",
              " 'RMSSD_REL_RR',\n",
              " 'SD1',\n",
              " 'SD2',\n",
              " 'higuci']"
            ]
          },
          "metadata": {
            "tags": []
          },
          "execution_count": 65
        }
      ]
    },
    {
      "cell_type": "code",
      "metadata": {
        "id": "Iha9T4rfEZ3I"
      },
      "source": [
        "df_train.drop(columns= high_correlation_features, inplace=True)\n",
        "df_test.drop(columns= high_correlation_features, inplace=True)"
      ],
      "execution_count": 66,
      "outputs": []
    },
    {
      "cell_type": "code",
      "metadata": {
        "colab": {
          "base_uri": "https://localhost:8080/",
          "height": 204
        },
        "id": "KpVwtf6EExpn",
        "outputId": "7ed647cb-1f98-4335-ff74-feeef264e67c"
      },
      "source": [
        "df_train.head()"
      ],
      "execution_count": 67,
      "outputs": [
        {
          "output_type": "execute_result",
          "data": {
            "text/html": [
              "<div>\n",
              "<style scoped>\n",
              "    .dataframe tbody tr th:only-of-type {\n",
              "        vertical-align: middle;\n",
              "    }\n",
              "\n",
              "    .dataframe tbody tr th {\n",
              "        vertical-align: top;\n",
              "    }\n",
              "\n",
              "    .dataframe thead th {\n",
              "        text-align: right;\n",
              "    }\n",
              "</style>\n",
              "<table border=\"1\" class=\"dataframe\">\n",
              "  <thead>\n",
              "    <tr style=\"text-align: right;\">\n",
              "      <th></th>\n",
              "      <th>VLF</th>\n",
              "      <th>LF</th>\n",
              "      <th>HF</th>\n",
              "      <th>MEAN_RR</th>\n",
              "      <th>KURT</th>\n",
              "      <th>SKEW</th>\n",
              "      <th>MEAN_REL_RR</th>\n",
              "      <th>MEDIAN_REL_RR</th>\n",
              "      <th>SDRR_RMSSD_REL_RR</th>\n",
              "      <th>sampen</th>\n",
              "      <th>condition</th>\n",
              "    </tr>\n",
              "  </thead>\n",
              "  <tbody>\n",
              "    <tr>\n",
              "      <th>0</th>\n",
              "      <td>2661.894136</td>\n",
              "      <td>1009.249419</td>\n",
              "      <td>15.522603</td>\n",
              "      <td>885.157845</td>\n",
              "      <td>-0.856554</td>\n",
              "      <td>0.335218</td>\n",
              "      <td>-0.000203</td>\n",
              "      <td>-0.000179</td>\n",
              "      <td>2.143342</td>\n",
              "      <td>2.139754</td>\n",
              "      <td>no stress</td>\n",
              "    </tr>\n",
              "    <tr>\n",
              "      <th>1</th>\n",
              "      <td>2314.265450</td>\n",
              "      <td>690.113275</td>\n",
              "      <td>2.108525</td>\n",
              "      <td>939.425371</td>\n",
              "      <td>-0.408190</td>\n",
              "      <td>-0.155286</td>\n",
              "      <td>-0.000059</td>\n",
              "      <td>0.000611</td>\n",
              "      <td>2.930855</td>\n",
              "      <td>2.174499</td>\n",
              "      <td>interruption</td>\n",
              "    </tr>\n",
              "    <tr>\n",
              "      <th>2</th>\n",
              "      <td>1373.887112</td>\n",
              "      <td>1298.222619</td>\n",
              "      <td>13.769729</td>\n",
              "      <td>898.186047</td>\n",
              "      <td>0.351789</td>\n",
              "      <td>-0.656813</td>\n",
              "      <td>-0.000011</td>\n",
              "      <td>-0.000263</td>\n",
              "      <td>2.127053</td>\n",
              "      <td>2.135350</td>\n",
              "      <td>interruption</td>\n",
              "    </tr>\n",
              "    <tr>\n",
              "      <th>3</th>\n",
              "      <td>2410.357408</td>\n",
              "      <td>1005.981659</td>\n",
              "      <td>18.181913</td>\n",
              "      <td>881.757865</td>\n",
              "      <td>-0.504947</td>\n",
              "      <td>-0.386138</td>\n",
              "      <td>0.000112</td>\n",
              "      <td>0.000494</td>\n",
              "      <td>2.050988</td>\n",
              "      <td>2.178341</td>\n",
              "      <td>no stress</td>\n",
              "    </tr>\n",
              "    <tr>\n",
              "      <th>4</th>\n",
              "      <td>1151.177330</td>\n",
              "      <td>1421.782051</td>\n",
              "      <td>48.215822</td>\n",
              "      <td>809.625331</td>\n",
              "      <td>-0.548408</td>\n",
              "      <td>-0.154252</td>\n",
              "      <td>-0.000100</td>\n",
              "      <td>-0.002736</td>\n",
              "      <td>1.816544</td>\n",
              "      <td>2.221121</td>\n",
              "      <td>no stress</td>\n",
              "    </tr>\n",
              "  </tbody>\n",
              "</table>\n",
              "</div>"
            ],
            "text/plain": [
              "           VLF           LF  ...    sampen     condition\n",
              "0  2661.894136  1009.249419  ...  2.139754     no stress\n",
              "1  2314.265450   690.113275  ...  2.174499  interruption\n",
              "2  1373.887112  1298.222619  ...  2.135350  interruption\n",
              "3  2410.357408  1005.981659  ...  2.178341     no stress\n",
              "4  1151.177330  1421.782051  ...  2.221121     no stress\n",
              "\n",
              "[5 rows x 11 columns]"
            ]
          },
          "metadata": {
            "tags": []
          },
          "execution_count": 67
        }
      ]
    },
    {
      "cell_type": "markdown",
      "metadata": {
        "id": "xtlvgF1EFCsV"
      },
      "source": [
        "# Heat Map"
      ]
    },
    {
      "cell_type": "code",
      "metadata": {
        "colab": {
          "base_uri": "https://localhost:8080/",
          "height": 1000
        },
        "id": "hYqaayeSEzvN",
        "outputId": "40fc6ce6-b33d-48b3-d384-255c9884adbd"
      },
      "source": [
        "plt.figure(figsize=(15,15))\n",
        "sns.heatmap(df_train.corr(), annot=True, vmin = -1, vmax = 1)\n"
      ],
      "execution_count": 68,
      "outputs": [
        {
          "output_type": "execute_result",
          "data": {
            "text/plain": [
              "<matplotlib.axes._subplots.AxesSubplot at 0x7f856cd949e8>"
            ]
          },
          "metadata": {
            "tags": []
          },
          "execution_count": 68
        },
        {
          "output_type": "display_data",
          "data": {
            "image/png": "[encoded data removed]",
            "text/plain": [
              "<Figure size 1080x1080 with 2 Axes>"
            ]
          },
          "metadata": {
            "tags": [],
            "needs_background": "light"
          }
        }
      ]
    },
    {
      "cell_type": "markdown",
      "metadata": {
        "id": "jJpAMBjFFVLd"
      },
      "source": [
        "# Pair Plot"
      ]
    },
    {
      "cell_type": "code",
      "metadata": {
        "id": "7gjaI-3jFIwY"
      },
      "source": [
        "# sns.pairplot(df_train, corner=True)"
      ],
      "execution_count": 69,
      "outputs": []
    },
    {
      "cell_type": "code",
      "metadata": {
        "colab": {
          "base_uri": "https://localhost:8080/"
        },
        "id": "jWjyUkRLFT-4",
        "outputId": "c8d271f2-c807-4be7-d2f9-db87805373a6"
      },
      "source": [
        "df_train.columns"
      ],
      "execution_count": 70,
      "outputs": [
        {
          "output_type": "execute_result",
          "data": {
            "text/plain": [
              "Index(['VLF', 'LF', 'HF', 'MEAN_RR', 'KURT', 'SKEW', 'MEAN_REL_RR',\n",
              "       'MEDIAN_REL_RR', 'SDRR_RMSSD_REL_RR', 'sampen', 'condition'],\n",
              "      dtype='object')"
            ]
          },
          "metadata": {
            "tags": []
          },
          "execution_count": 70
        }
      ]
    },
    {
      "cell_type": "code",
      "metadata": {
        "id": "yblYY2bYHiTL"
      },
      "source": [
        "categorical_columns = df_train.describe(include = ['O']).columns\n",
        "numerical_columns = df_train.describe().columns"
      ],
      "execution_count": 71,
      "outputs": []
    },
    {
      "cell_type": "code",
      "metadata": {
        "colab": {
          "base_uri": "https://localhost:8080/"
        },
        "id": "TKf1-Qy3HlMp",
        "outputId": "841fcf4f-4570-4ca5-cfba-97121fce0bb2"
      },
      "source": [
        "df_train.columns.size, df_test.columns.size"
      ],
      "execution_count": 72,
      "outputs": [
        {
          "output_type": "execute_result",
          "data": {
            "text/plain": [
              "(11, 11)"
            ]
          },
          "metadata": {
            "tags": []
          },
          "execution_count": 72
        }
      ]
    },
    {
      "cell_type": "code",
      "metadata": {
        "colab": {
          "base_uri": "https://localhost:8080/"
        },
        "id": "r61dqlauHv3J",
        "outputId": "39ee2922-9db7-4c5c-b149-2eb03060f2db"
      },
      "source": [
        "categorical_columns.size +  numerical_columns.size"
      ],
      "execution_count": 73,
      "outputs": [
        {
          "output_type": "execute_result",
          "data": {
            "text/plain": [
              "11"
            ]
          },
          "metadata": {
            "tags": []
          },
          "execution_count": 73
        }
      ]
    },
    {
      "cell_type": "code",
      "metadata": {
        "id": "Ja1h7MnMH8rk"
      },
      "source": [
        "X_train = df_train.copy(deep = True)\n",
        "X_test = df_test.copy(deep = True)"
      ],
      "execution_count": 74,
      "outputs": []
    },
    {
      "cell_type": "markdown",
      "metadata": {
        "id": "W-DklZqkH9Ky"
      },
      "source": [
        "# Pipeline"
      ]
    },
    {
      "cell_type": "code",
      "metadata": {
        "id": "C9XjOQxCHzmn"
      },
      "source": [
        "from sklearn.model_selection import GridSearchCV, RandomizedSearchCV\n",
        "\n",
        "from sklearn.pipeline import Pipeline\n",
        "from sklearn.impute import SimpleImputer, KNNImputer\n",
        "from sklearn.preprocessing import StandardScaler\n",
        "from sklearn.preprocessing import OneHotEncoder\n",
        "from sklearn.preprocessing import PowerTransformer\n",
        "from sklearn.decomposition import PCA\n",
        "\n",
        "pl_n = Pipeline([\n",
        "                #  ('imputerNaN', SimpleImputer(missing_values=np.nan, strategy='median')),\n",
        "                #  ('imputer0', SimpleImputer(missing_values=0, strategy='median')),\n",
        "                 ('std', StandardScaler()),\n",
        "                 ('power', PowerTransformer())\n",
        "])\n",
        "\n",
        "pl_c = Pipeline([\n",
        "                #  ('imputer', SimpleImputer(missing_values=np.nan, strategy='most_frequent')),\n",
        "                 ('std', OneHotEncoder(handle_unknown='ignore'))\n",
        "])\n",
        "\n",
        "from sklearn.compose import ColumnTransformer\n",
        "\n",
        "ct = ColumnTransformer([\n",
        "                        ('num', pl_n, numerical_columns),\n",
        "                        ('cat', pl_c, categorical_columns)\n",
        "])"
      ],
      "execution_count": 75,
      "outputs": []
    },
    {
      "cell_type": "markdown",
      "metadata": {
        "id": "DwAiSvlNIati"
      },
      "source": [
        "# Decision Regression"
      ]
    },
    {
      "cell_type": "code",
      "metadata": {
        "colab": {
          "base_uri": "https://localhost:8080/"
        },
        "id": "-OkqMlfTReU0",
        "outputId": "061683b9-c5f8-43ed-a10a-36b22c438239"
      },
      "source": [
        "!pip install xgboost"
      ],
      "execution_count": 76,
      "outputs": [
        {
          "output_type": "stream",
          "text": [
            "Requirement already satisfied: xgboost in /usr/local/lib/python3.6/dist-packages (0.90)\n",
            "Requirement already satisfied: numpy in /usr/local/lib/python3.6/dist-packages (from xgboost) (1.18.5)\n",
            "Requirement already satisfied: scipy in /usr/local/lib/python3.6/dist-packages (from xgboost) (1.4.1)\n"
          ],
          "name": "stdout"
        }
      ]
    },
    {
      "cell_type": "code",
      "metadata": {
        "id": "sgfW535PLu3S"
      },
      "source": [
        "# from xgboost import XGBRegressor\n",
        "\n",
        "# model = Pipeline([\n",
        "#                ('ct', ct),\n",
        "#                ('lr', XGBRegressor())\n",
        "# ])\n",
        "\n",
        "# model.fit(X_train, y_train)\n",
        "\n",
        "# y_test_predict = model.predict(X_test)\n",
        "# # y_train_predict = model.predict(X_train)\n",
        "\n",
        "# print('Training Score: ', model.score(X_train, y_train))\n",
        "# # print('Testing Score: ', model.score(X_test, y_test))\n",
        "\n",
        "\n",
        "\n",
        "\n"
      ],
      "execution_count": 77,
      "outputs": []
    },
    {
      "cell_type": "code",
      "metadata": {
        "id": "HuIWEPMKSxqd"
      },
      "source": [
        "# from sklearn.tree import DecisionTreeRegressor\n",
        "\n",
        "# model = Pipeline([\n",
        "#                ('ct', ct),\n",
        "#                ('lr', DecisionTreeRegressor(random_state=1, criterion='mae'))\n",
        "# ])\n",
        "\n",
        "# model.fit(X_train, np.log(y_train))\n",
        "\n",
        "# y_test_predict = model.predict(X_test)\n",
        "\n",
        "# print('Training Score: ', model.score(X_train, np.log(y_train)))\n"
      ],
      "execution_count": 78,
      "outputs": []
    },
    {
      "cell_type": "code",
      "metadata": {
        "id": "FyjZG9Bed4Tk"
      },
      "source": [
        "# from sklearn.linear_model import LassoCV\n",
        "\n",
        "# model = Pipeline([\n",
        "#                ('ct', ct),\n",
        "#                ('lr', LassoCV())\n",
        "# ])\n",
        "\n",
        "# model.fit(X_train, np.log(y_train))\n",
        "\n",
        "# y_test_predict = model.predict(X_test)\n",
        "\n",
        "# print('Training Score: ', model.score(X_train, np.log(y_train)))"
      ],
      "execution_count": 79,
      "outputs": []
    },
    {
      "cell_type": "code",
      "metadata": {
        "colab": {
          "base_uri": "https://localhost:8080/"
        },
        "id": "tZrsBrXDnqav",
        "outputId": "25610a2c-e8da-4b58-dcf7-0bbf9219de8a"
      },
      "source": [
        "from sklearn.ensemble import AdaBoostRegressor\n",
        "\n",
        "model = Pipeline([\n",
        "               ('ct', ct),\n",
        "               ('lr', AdaBoostRegressor())\n",
        "])\n",
        "\n",
        "model.fit(X_train, y_train)\n",
        "\n",
        "y_test_predict = model.predict(X_test)\n",
        "\n",
        "print('Training Score: ', model.score(X_train, y_train))"
      ],
      "execution_count": 92,
      "outputs": [
        {
          "output_type": "stream",
          "text": [
            "Training Score:  0.9452031446962447\n"
          ],
          "name": "stdout"
        }
      ]
    },
    {
      "cell_type": "code",
      "metadata": {
        "colab": {
          "base_uri": "https://localhost:8080/"
        },
        "id": "0i6l8cDtc38A",
        "outputId": "7bee5252-b959-499e-db52-b053ecccf423"
      },
      "source": [
        "y_test_predict"
      ],
      "execution_count": 93,
      "outputs": [
        {
          "output_type": "execute_result",
          "data": {
            "text/plain": [
              "array([67.85082704, 77.48301218, 71.29710927, ..., 63.76867934,\n",
              "       78.78389402, 78.00233755])"
            ]
          },
          "metadata": {
            "tags": []
          },
          "execution_count": 93
        }
      ]
    },
    {
      "cell_type": "code",
      "metadata": {
        "id": "gqgArw28NdfV"
      },
      "source": [
        "df = pd.concat([pd.DataFrame(y_id),pd.DataFrame(y_test_predict)], axis=1, ignore_index=True)\n",
        "df.columns = ['uuid','HR']\n",
        "df.to_csv('/content/drive/MyDrive/Colab Notebooks/GL_Hackathon/Submission1.csv', index=False)\n"
      ],
      "execution_count": 94,
      "outputs": []
    },
    {
      "cell_type": "code",
      "metadata": {
        "colab": {
          "base_uri": "https://localhost:8080/",
          "height": 204
        },
        "id": "OmQmvLJaOBWF",
        "outputId": "97d10848-235b-4035-b957-c41b475438c8"
      },
      "source": [
        "X_train.head()"
      ],
      "execution_count": 95,
      "outputs": [
        {
          "output_type": "execute_result",
          "data": {
            "text/html": [
              "<div>\n",
              "<style scoped>\n",
              "    .dataframe tbody tr th:only-of-type {\n",
              "        vertical-align: middle;\n",
              "    }\n",
              "\n",
              "    .dataframe tbody tr th {\n",
              "        vertical-align: top;\n",
              "    }\n",
              "\n",
              "    .dataframe thead th {\n",
              "        text-align: right;\n",
              "    }\n",
              "</style>\n",
              "<table border=\"1\" class=\"dataframe\">\n",
              "  <thead>\n",
              "    <tr style=\"text-align: right;\">\n",
              "      <th></th>\n",
              "      <th>VLF</th>\n",
              "      <th>LF</th>\n",
              "      <th>HF</th>\n",
              "      <th>MEAN_RR</th>\n",
              "      <th>KURT</th>\n",
              "      <th>SKEW</th>\n",
              "      <th>MEAN_REL_RR</th>\n",
              "      <th>MEDIAN_REL_RR</th>\n",
              "      <th>SDRR_RMSSD_REL_RR</th>\n",
              "      <th>sampen</th>\n",
              "      <th>condition</th>\n",
              "    </tr>\n",
              "  </thead>\n",
              "  <tbody>\n",
              "    <tr>\n",
              "      <th>0</th>\n",
              "      <td>2661.894136</td>\n",
              "      <td>1009.249419</td>\n",
              "      <td>15.522603</td>\n",
              "      <td>885.157845</td>\n",
              "      <td>-0.856554</td>\n",
              "      <td>0.335218</td>\n",
              "      <td>-0.000203</td>\n",
              "      <td>-0.000179</td>\n",
              "      <td>2.143342</td>\n",
              "      <td>2.139754</td>\n",
              "      <td>no stress</td>\n",
              "    </tr>\n",
              "    <tr>\n",
              "      <th>1</th>\n",
              "      <td>2314.265450</td>\n",
              "      <td>690.113275</td>\n",
              "      <td>2.108525</td>\n",
              "      <td>939.425371</td>\n",
              "      <td>-0.408190</td>\n",
              "      <td>-0.155286</td>\n",
              "      <td>-0.000059</td>\n",
              "      <td>0.000611</td>\n",
              "      <td>2.930855</td>\n",
              "      <td>2.174499</td>\n",
              "      <td>interruption</td>\n",
              "    </tr>\n",
              "    <tr>\n",
              "      <th>2</th>\n",
              "      <td>1373.887112</td>\n",
              "      <td>1298.222619</td>\n",
              "      <td>13.769729</td>\n",
              "      <td>898.186047</td>\n",
              "      <td>0.351789</td>\n",
              "      <td>-0.656813</td>\n",
              "      <td>-0.000011</td>\n",
              "      <td>-0.000263</td>\n",
              "      <td>2.127053</td>\n",
              "      <td>2.135350</td>\n",
              "      <td>interruption</td>\n",
              "    </tr>\n",
              "    <tr>\n",
              "      <th>3</th>\n",
              "      <td>2410.357408</td>\n",
              "      <td>1005.981659</td>\n",
              "      <td>18.181913</td>\n",
              "      <td>881.757865</td>\n",
              "      <td>-0.504947</td>\n",
              "      <td>-0.386138</td>\n",
              "      <td>0.000112</td>\n",
              "      <td>0.000494</td>\n",
              "      <td>2.050988</td>\n",
              "      <td>2.178341</td>\n",
              "      <td>no stress</td>\n",
              "    </tr>\n",
              "    <tr>\n",
              "      <th>4</th>\n",
              "      <td>1151.177330</td>\n",
              "      <td>1421.782051</td>\n",
              "      <td>48.215822</td>\n",
              "      <td>809.625331</td>\n",
              "      <td>-0.548408</td>\n",
              "      <td>-0.154252</td>\n",
              "      <td>-0.000100</td>\n",
              "      <td>-0.002736</td>\n",
              "      <td>1.816544</td>\n",
              "      <td>2.221121</td>\n",
              "      <td>no stress</td>\n",
              "    </tr>\n",
              "  </tbody>\n",
              "</table>\n",
              "</div>"
            ],
            "text/plain": [
              "           VLF           LF  ...    sampen     condition\n",
              "0  2661.894136  1009.249419  ...  2.139754     no stress\n",
              "1  2314.265450   690.113275  ...  2.174499  interruption\n",
              "2  1373.887112  1298.222619  ...  2.135350  interruption\n",
              "3  2410.357408  1005.981659  ...  2.178341     no stress\n",
              "4  1151.177330  1421.782051  ...  2.221121     no stress\n",
              "\n",
              "[5 rows x 11 columns]"
            ]
          },
          "metadata": {
            "tags": []
          },
          "execution_count": 95
        }
      ]
    },
    {
      "cell_type": "code",
      "metadata": {
        "id": "4Kr1ojAHqykb"
      },
      "source": [
        ""
      ],
      "execution_count": null,
      "outputs": []
    }
  ]
}