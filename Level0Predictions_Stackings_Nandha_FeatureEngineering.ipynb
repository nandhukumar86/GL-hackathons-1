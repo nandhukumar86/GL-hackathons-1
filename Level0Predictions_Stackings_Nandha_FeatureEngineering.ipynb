{
  "nbformat": 4,
  "nbformat_minor": 0,
  "metadata": {
    "colab": {
      "name": "Level0Predictions.ipynb",
      "provenance": [],
      "collapsed_sections": [],
      "mount_file_id": "1-3G_rHabZ9gDn3inRhKYed8s-mCF5K2w",
      "authorship_tag": "ABX9TyNB9V24nGPdeP47R+/m/yPz",
      "include_colab_link": true
    },
    "kernelspec": {
      "name": "python3",
      "display_name": "Python 3"
    }
  },
  "cells": [
    {
      "cell_type": "markdown",
      "metadata": {
        "id": "view-in-github",
        "colab_type": "text"
      },
      "source": [
        "<a href=\"https://colab.research.google.com/github/nandhukumar86/GL-hackathons-1/blob/main/Level0Predictions_Stackings_Nandha_FeatureEngineering.ipynb\" target=\"_parent\"><img src=\"https://colab.research.google.com/assets/colab-badge.svg\" alt=\"Open In Colab\"/></a>"
      ]
    },
    {
      "cell_type": "code",
      "metadata": {
        "id": "HmCMp6lzR_MC"
      },
      "source": [
        "import numpy as np\r\n",
        "import pandas as pd\r\n",
        "import seaborn as sns\r\n",
        "import matplotlib.pyplot as plt\r\n",
        "sns.set(color_codes=True)\r\n",
        "%matplotlib inline\r\n",
        " \r\n",
        "import os"
      ],
      "execution_count": 1,
      "outputs": []
    },
    {
      "cell_type": "code",
      "metadata": {
        "id": "HenGGMWySadQ"
      },
      "source": [
        "fd_train = pd.read_csv('/content/drive/MyDrive/Colab Notebooks/GL_Hackathon/frequency_domain_features_train.csv')\r\n",
        "fd_test = pd.read_csv('/content/drive/MyDrive/Colab Notebooks/GL_Hackathon/frequency_domain_features_test.csv')\r\n",
        "td_train = pd.read_csv('/content/drive/MyDrive/Colab Notebooks/GL_Hackathon/time_domain_features_train.csv')\r\n",
        "td_test = pd.read_csv('/content/drive/MyDrive/Colab Notebooks/GL_Hackathon/time_domain_features_test.csv')\r\n",
        "hr_train = pd.read_csv('/content/drive/MyDrive/Colab Notebooks/GL_Hackathon/heart_rate_non_linear_features_train.csv')\r\n",
        "hr_test = pd.read_csv('/content/drive/MyDrive/Colab Notebooks/GL_Hackathon/heart_rate_non_linear_features_test.csv')"
      ],
      "execution_count": 11,
      "outputs": []
    },
    {
      "cell_type": "code",
      "metadata": {
        "id": "DnLaNXx5SdHN"
      },
      "source": [
        "df3 = pd.merge(fd_train, td_train, how='outer', on='uuid')\r\n",
        "df_train = pd.merge(df3, hr_train, how='outer', on='uuid')\r\n",
        " \r\n",
        "df2 = pd.merge(fd_test, td_test, how='outer', on='uuid')\r\n",
        "df_test = pd.merge(df2, hr_test, how='outer', on='uuid')"
      ],
      "execution_count": 12,
      "outputs": []
    },
    {
      "cell_type": "code",
      "metadata": {
        "id": "R-x45ZHbShAH"
      },
      "source": [
        "X_train = df_train.copy(deep = True)\r\n",
        "X_test = df_test.copy(deep = True)\r\n",
        "y_train = X_train.pop('HR')"
      ],
      "execution_count": 13,
      "outputs": []
    },
    {
      "cell_type": "code",
      "metadata": {
        "id": "odxl7TKQSog_"
      },
      "source": [
        "X_train.drop(columns= ['datasetId'], inplace=True)\r\n",
        "X_test.drop(columns= ['datasetId'], inplace=True)\r\n",
        "X_train.drop(columns= ['uuid'], inplace=True)\r\n",
        "y_id = X_test.pop('uuid')\r\n",
        "X_train.drop(columns= ['SKEW_REL_RR','KURT_REL_RR'], inplace=True)\r\n",
        "X_test.drop(columns= ['SKEW_REL_RR','KURT_REL_RR'], inplace=True)\r\n",
        "X_train.drop(columns= ['SDSD_REL_RR'], inplace=True) \r\n",
        "X_test.drop(columns= ['SDSD_REL_RR'], inplace=True)"
      ],
      "execution_count": 14,
      "outputs": []
    },
    {
      "cell_type": "code",
      "metadata": {
        "colab": {
          "base_uri": "https://localhost:8080/"
        },
        "id": "GfgZHITlTEWb",
        "outputId": "c5ef5f99-1ca1-4969-c851-08684127d5c5"
      },
      "source": [
        "X_train.columns"
      ],
      "execution_count": 7,
      "outputs": [
        {
          "output_type": "execute_result",
          "data": {
            "text/plain": [
              "Index(['VLF', 'VLF_PCT', 'LF', 'LF_PCT', 'LF_NU', 'HF', 'HF_PCT', 'HF_NU',\n",
              "       'TP', 'LF_HF', 'HF_LF', 'MEAN_RR', 'MEDIAN_RR', 'SDRR', 'RMSSD', 'SDSD',\n",
              "       'SDRR_RMSSD', 'pNN25', 'pNN50', 'KURT', 'SKEW', 'MEAN_REL_RR',\n",
              "       'MEDIAN_REL_RR', 'SDRR_REL_RR', 'RMSSD_REL_RR', 'SDRR_RMSSD_REL_RR',\n",
              "       'SD1', 'SD2', 'sampen', 'higuci', 'condition'],\n",
              "      dtype='object')"
            ]
          },
          "metadata": {
            "tags": []
          },
          "execution_count": 7
        }
      ]
    },
    {
      "cell_type": "code",
      "metadata": {
        "id": "ObxIvuIOTGrX"
      },
      "source": [
        "X_train['VLF_t'] = X_train['VLF']/(0.04-0.0033)\r\n",
        "X_train['LF_t'] = X_train['LF']/(0.15-0.04)\r\n",
        "X_train['HF_t'] = X_train['HF']/(0.4-0.15)\r\n",
        "\r\n",
        "X_test['VLF_t'] = X_test['VLF']/(0.04-0.0033)\r\n",
        "X_test['LF_t'] = X_test['LF']/(0.15-0.04)\r\n",
        "X_test['HF_t'] = X_test['HF']/(0.4-0.15)\r\n"
      ],
      "execution_count": 8,
      "outputs": []
    },
    {
      "cell_type": "code",
      "metadata": {
        "colab": {
          "base_uri": "https://localhost:8080/",
          "height": 473
        },
        "id": "hr9pnjzDVPDe",
        "outputId": "229bfaf1-fdff-45fb-f03c-a3ecb9b8ce88"
      },
      "source": [
        "X_test[X_test['KURT']>3]"
      ],
      "execution_count": 9,
      "outputs": [
        {
          "output_type": "execute_result",
          "data": {
            "text/html": [
              "<div>\n",
              "<style scoped>\n",
              "    .dataframe tbody tr th:only-of-type {\n",
              "        vertical-align: middle;\n",
              "    }\n",
              "\n",
              "    .dataframe tbody tr th {\n",
              "        vertical-align: top;\n",
              "    }\n",
              "\n",
              "    .dataframe thead th {\n",
              "        text-align: right;\n",
              "    }\n",
              "</style>\n",
              "<table border=\"1\" class=\"dataframe\">\n",
              "  <thead>\n",
              "    <tr style=\"text-align: right;\">\n",
              "      <th></th>\n",
              "      <th>VLF</th>\n",
              "      <th>VLF_PCT</th>\n",
              "      <th>LF</th>\n",
              "      <th>LF_PCT</th>\n",
              "      <th>LF_NU</th>\n",
              "      <th>HF</th>\n",
              "      <th>HF_PCT</th>\n",
              "      <th>HF_NU</th>\n",
              "      <th>TP</th>\n",
              "      <th>LF_HF</th>\n",
              "      <th>HF_LF</th>\n",
              "      <th>MEAN_RR</th>\n",
              "      <th>MEDIAN_RR</th>\n",
              "      <th>SDRR</th>\n",
              "      <th>RMSSD</th>\n",
              "      <th>SDSD</th>\n",
              "      <th>SDRR_RMSSD</th>\n",
              "      <th>pNN25</th>\n",
              "      <th>pNN50</th>\n",
              "      <th>KURT</th>\n",
              "      <th>SKEW</th>\n",
              "      <th>MEAN_REL_RR</th>\n",
              "      <th>MEDIAN_REL_RR</th>\n",
              "      <th>SDRR_REL_RR</th>\n",
              "      <th>RMSSD_REL_RR</th>\n",
              "      <th>SDRR_RMSSD_REL_RR</th>\n",
              "      <th>SD1</th>\n",
              "      <th>SD2</th>\n",
              "      <th>sampen</th>\n",
              "      <th>higuci</th>\n",
              "      <th>condition</th>\n",
              "      <th>VLF_t</th>\n",
              "      <th>LF_t</th>\n",
              "      <th>HF_t</th>\n",
              "    </tr>\n",
              "  </thead>\n",
              "  <tbody>\n",
              "    <tr>\n",
              "      <th>15</th>\n",
              "      <td>2853.918080</td>\n",
              "      <td>79.699285</td>\n",
              "      <td>643.217856</td>\n",
              "      <td>17.962675</td>\n",
              "      <td>88.482967</td>\n",
              "      <td>83.721888</td>\n",
              "      <td>2.338040</td>\n",
              "      <td>11.517033</td>\n",
              "      <td>3580.857825</td>\n",
              "      <td>7.682792</td>\n",
              "      <td>0.130161</td>\n",
              "      <td>736.759900</td>\n",
              "      <td>723.838380</td>\n",
              "      <td>119.982161</td>\n",
              "      <td>14.016755</td>\n",
              "      <td>14.016711</td>\n",
              "      <td>8.559910</td>\n",
              "      <td>6.400000</td>\n",
              "      <td>0.600000</td>\n",
              "      <td>6.054456</td>\n",
              "      <td>2.022711</td>\n",
              "      <td>-0.000060</td>\n",
              "      <td>0.000381</td>\n",
              "      <td>0.020429</td>\n",
              "      <td>0.013110</td>\n",
              "      <td>1.558235</td>\n",
              "      <td>9.914619</td>\n",
              "      <td>169.390491</td>\n",
              "      <td>1.733126</td>\n",
              "      <td>1.209946</td>\n",
              "      <td>no stress</td>\n",
              "      <td>77763.435417</td>\n",
              "      <td>5847.435058</td>\n",
              "      <td>334.887554</td>\n",
              "    </tr>\n",
              "    <tr>\n",
              "      <th>19</th>\n",
              "      <td>7163.989622</td>\n",
              "      <td>83.960222</td>\n",
              "      <td>1250.595884</td>\n",
              "      <td>14.656681</td>\n",
              "      <td>91.377081</td>\n",
              "      <td>118.014128</td>\n",
              "      <td>1.383097</td>\n",
              "      <td>8.622919</td>\n",
              "      <td>8532.599635</td>\n",
              "      <td>10.597001</td>\n",
              "      <td>0.094366</td>\n",
              "      <td>855.991173</td>\n",
              "      <td>765.221410</td>\n",
              "      <td>296.763366</td>\n",
              "      <td>20.623727</td>\n",
              "      <td>20.610745</td>\n",
              "      <td>14.389415</td>\n",
              "      <td>15.733333</td>\n",
              "      <td>3.533333</td>\n",
              "      <td>3.644498</td>\n",
              "      <td>1.866897</td>\n",
              "      <td>0.000736</td>\n",
              "      <td>0.000847</td>\n",
              "      <td>0.028135</td>\n",
              "      <td>0.016151</td>\n",
              "      <td>1.742060</td>\n",
              "      <td>14.578861</td>\n",
              "      <td>419.433484</td>\n",
              "      <td>1.695327</td>\n",
              "      <td>1.154370</td>\n",
              "      <td>interruption</td>\n",
              "      <td>195204.076894</td>\n",
              "      <td>11369.053494</td>\n",
              "      <td>472.056513</td>\n",
              "    </tr>\n",
              "    <tr>\n",
              "      <th>33</th>\n",
              "      <td>3814.072675</td>\n",
              "      <td>67.023250</td>\n",
              "      <td>1858.012032</td>\n",
              "      <td>32.650140</td>\n",
              "      <td>99.009575</td>\n",
              "      <td>18.586291</td>\n",
              "      <td>0.326610</td>\n",
              "      <td>0.990425</td>\n",
              "      <td>5690.670997</td>\n",
              "      <td>99.966802</td>\n",
              "      <td>0.010003</td>\n",
              "      <td>990.326028</td>\n",
              "      <td>988.122720</td>\n",
              "      <td>178.813038</td>\n",
              "      <td>22.252692</td>\n",
              "      <td>22.241796</td>\n",
              "      <td>8.035569</td>\n",
              "      <td>20.933333</td>\n",
              "      <td>4.000000</td>\n",
              "      <td>4.417980</td>\n",
              "      <td>1.207575</td>\n",
              "      <td>0.000512</td>\n",
              "      <td>-0.000266</td>\n",
              "      <td>0.023283</td>\n",
              "      <td>0.011345</td>\n",
              "      <td>2.052329</td>\n",
              "      <td>15.732574</td>\n",
              "      <td>252.389958</td>\n",
              "      <td>2.071964</td>\n",
              "      <td>1.165748</td>\n",
              "      <td>time pressure</td>\n",
              "      <td>103925.685973</td>\n",
              "      <td>16891.018470</td>\n",
              "      <td>74.345162</td>\n",
              "    </tr>\n",
              "    <tr>\n",
              "      <th>61</th>\n",
              "      <td>1791.883651</td>\n",
              "      <td>72.220167</td>\n",
              "      <td>678.946549</td>\n",
              "      <td>27.364295</td>\n",
              "      <td>98.504172</td>\n",
              "      <td>10.310092</td>\n",
              "      <td>0.415538</td>\n",
              "      <td>1.495828</td>\n",
              "      <td>2481.140292</td>\n",
              "      <td>65.852618</td>\n",
              "      <td>0.015185</td>\n",
              "      <td>853.712877</td>\n",
              "      <td>843.872970</td>\n",
              "      <td>101.922021</td>\n",
              "      <td>12.916298</td>\n",
              "      <td>12.915606</td>\n",
              "      <td>7.890962</td>\n",
              "      <td>5.933333</td>\n",
              "      <td>1.266667</td>\n",
              "      <td>3.630952</td>\n",
              "      <td>-0.235943</td>\n",
              "      <td>0.000132</td>\n",
              "      <td>0.000063</td>\n",
              "      <td>0.015907</td>\n",
              "      <td>0.006681</td>\n",
              "      <td>2.381049</td>\n",
              "      <td>9.135760</td>\n",
              "      <td>143.849695</td>\n",
              "      <td>1.771525</td>\n",
              "      <td>1.153035</td>\n",
              "      <td>no stress</td>\n",
              "      <td>48825.167598</td>\n",
              "      <td>6172.241352</td>\n",
              "      <td>41.240368</td>\n",
              "    </tr>\n",
              "    <tr>\n",
              "      <th>66</th>\n",
              "      <td>3610.616315</td>\n",
              "      <td>81.916037</td>\n",
              "      <td>746.846482</td>\n",
              "      <td>16.944117</td>\n",
              "      <td>93.696923</td>\n",
              "      <td>50.241037</td>\n",
              "      <td>1.139846</td>\n",
              "      <td>6.303077</td>\n",
              "      <td>4407.703834</td>\n",
              "      <td>14.865268</td>\n",
              "      <td>0.067271</td>\n",
              "      <td>654.057867</td>\n",
              "      <td>606.314575</td>\n",
              "      <td>210.941748</td>\n",
              "      <td>12.400652</td>\n",
              "      <td>12.370545</td>\n",
              "      <td>17.010537</td>\n",
              "      <td>4.200000</td>\n",
              "      <td>1.200000</td>\n",
              "      <td>20.381821</td>\n",
              "      <td>4.567437</td>\n",
              "      <td>0.000764</td>\n",
              "      <td>-0.000015</td>\n",
              "      <td>0.017475</td>\n",
              "      <td>0.009776</td>\n",
              "      <td>1.787563</td>\n",
              "      <td>8.750216</td>\n",
              "      <td>298.188323</td>\n",
              "      <td>0.563330</td>\n",
              "      <td>1.199398</td>\n",
              "      <td>no stress</td>\n",
              "      <td>98381.915930</td>\n",
              "      <td>6789.513476</td>\n",
              "      <td>200.964149</td>\n",
              "    </tr>\n",
              "    <tr>\n",
              "      <th>...</th>\n",
              "      <td>...</td>\n",
              "      <td>...</td>\n",
              "      <td>...</td>\n",
              "      <td>...</td>\n",
              "      <td>...</td>\n",
              "      <td>...</td>\n",
              "      <td>...</td>\n",
              "      <td>...</td>\n",
              "      <td>...</td>\n",
              "      <td>...</td>\n",
              "      <td>...</td>\n",
              "      <td>...</td>\n",
              "      <td>...</td>\n",
              "      <td>...</td>\n",
              "      <td>...</td>\n",
              "      <td>...</td>\n",
              "      <td>...</td>\n",
              "      <td>...</td>\n",
              "      <td>...</td>\n",
              "      <td>...</td>\n",
              "      <td>...</td>\n",
              "      <td>...</td>\n",
              "      <td>...</td>\n",
              "      <td>...</td>\n",
              "      <td>...</td>\n",
              "      <td>...</td>\n",
              "      <td>...</td>\n",
              "      <td>...</td>\n",
              "      <td>...</td>\n",
              "      <td>...</td>\n",
              "      <td>...</td>\n",
              "      <td>...</td>\n",
              "      <td>...</td>\n",
              "      <td>...</td>\n",
              "    </tr>\n",
              "    <tr>\n",
              "      <th>40977</th>\n",
              "      <td>4169.432542</td>\n",
              "      <td>84.816068</td>\n",
              "      <td>702.393644</td>\n",
              "      <td>14.288339</td>\n",
              "      <td>94.101709</td>\n",
              "      <td>44.026005</td>\n",
              "      <td>0.895593</td>\n",
              "      <td>5.898291</td>\n",
              "      <td>4915.852191</td>\n",
              "      <td>15.954063</td>\n",
              "      <td>0.062680</td>\n",
              "      <td>826.872415</td>\n",
              "      <td>829.477250</td>\n",
              "      <td>115.956923</td>\n",
              "      <td>15.048662</td>\n",
              "      <td>15.048157</td>\n",
              "      <td>7.705464</td>\n",
              "      <td>6.066667</td>\n",
              "      <td>1.133333</td>\n",
              "      <td>5.911970</td>\n",
              "      <td>0.788227</td>\n",
              "      <td>0.000167</td>\n",
              "      <td>-0.000491</td>\n",
              "      <td>0.018837</td>\n",
              "      <td>0.011013</td>\n",
              "      <td>1.710483</td>\n",
              "      <td>10.644205</td>\n",
              "      <td>163.642038</td>\n",
              "      <td>1.665355</td>\n",
              "      <td>1.258397</td>\n",
              "      <td>time pressure</td>\n",
              "      <td>113608.516122</td>\n",
              "      <td>6385.396767</td>\n",
              "      <td>176.104019</td>\n",
              "    </tr>\n",
              "    <tr>\n",
              "      <th>40978</th>\n",
              "      <td>1214.833621</td>\n",
              "      <td>52.536319</td>\n",
              "      <td>1027.512253</td>\n",
              "      <td>44.435477</td>\n",
              "      <td>93.619957</td>\n",
              "      <td>70.023232</td>\n",
              "      <td>3.028203</td>\n",
              "      <td>6.380043</td>\n",
              "      <td>2312.369106</td>\n",
              "      <td>14.673876</td>\n",
              "      <td>0.068148</td>\n",
              "      <td>739.156564</td>\n",
              "      <td>758.186360</td>\n",
              "      <td>84.412367</td>\n",
              "      <td>14.114121</td>\n",
              "      <td>14.113997</td>\n",
              "      <td>5.980703</td>\n",
              "      <td>6.800000</td>\n",
              "      <td>0.866667</td>\n",
              "      <td>6.813410</td>\n",
              "      <td>-2.120601</td>\n",
              "      <td>0.000082</td>\n",
              "      <td>-0.001339</td>\n",
              "      <td>0.022737</td>\n",
              "      <td>0.012613</td>\n",
              "      <td>1.802605</td>\n",
              "      <td>9.983434</td>\n",
              "      <td>118.958928</td>\n",
              "      <td>1.768220</td>\n",
              "      <td>1.219917</td>\n",
              "      <td>no stress</td>\n",
              "      <td>33101.733550</td>\n",
              "      <td>9341.020480</td>\n",
              "      <td>280.092927</td>\n",
              "    </tr>\n",
              "    <tr>\n",
              "      <th>40988</th>\n",
              "      <td>2228.240116</td>\n",
              "      <td>75.205306</td>\n",
              "      <td>656.259818</td>\n",
              "      <td>22.149417</td>\n",
              "      <td>89.331280</td>\n",
              "      <td>78.376267</td>\n",
              "      <td>2.645276</td>\n",
              "      <td>10.668720</td>\n",
              "      <td>2962.876201</td>\n",
              "      <td>8.373196</td>\n",
              "      <td>0.119429</td>\n",
              "      <td>715.242813</td>\n",
              "      <td>715.616570</td>\n",
              "      <td>70.000857</td>\n",
              "      <td>13.665571</td>\n",
              "      <td>13.665440</td>\n",
              "      <td>5.122425</td>\n",
              "      <td>6.800000</td>\n",
              "      <td>0.666667</td>\n",
              "      <td>9.852875</td>\n",
              "      <td>1.684353</td>\n",
              "      <td>0.000084</td>\n",
              "      <td>-0.000159</td>\n",
              "      <td>0.019383</td>\n",
              "      <td>0.011831</td>\n",
              "      <td>1.638275</td>\n",
              "      <td>9.666150</td>\n",
              "      <td>98.523122</td>\n",
              "      <td>1.866529</td>\n",
              "      <td>1.230656</td>\n",
              "      <td>no stress</td>\n",
              "      <td>60714.989543</td>\n",
              "      <td>5965.998346</td>\n",
              "      <td>313.505068</td>\n",
              "    </tr>\n",
              "    <tr>\n",
              "      <th>41029</th>\n",
              "      <td>1335.773510</td>\n",
              "      <td>76.550710</td>\n",
              "      <td>377.825339</td>\n",
              "      <td>21.652471</td>\n",
              "      <td>92.337427</td>\n",
              "      <td>31.353638</td>\n",
              "      <td>1.796819</td>\n",
              "      <td>7.662573</td>\n",
              "      <td>1744.952487</td>\n",
              "      <td>12.050447</td>\n",
              "      <td>0.082984</td>\n",
              "      <td>614.675733</td>\n",
              "      <td>595.120315</td>\n",
              "      <td>71.051513</td>\n",
              "      <td>8.695831</td>\n",
              "      <td>8.695537</td>\n",
              "      <td>8.170756</td>\n",
              "      <td>1.866667</td>\n",
              "      <td>0.200000</td>\n",
              "      <td>6.540759</td>\n",
              "      <td>2.438418</td>\n",
              "      <td>-0.000113</td>\n",
              "      <td>-0.000139</td>\n",
              "      <td>0.013108</td>\n",
              "      <td>0.007507</td>\n",
              "      <td>1.746077</td>\n",
              "      <td>6.150725</td>\n",
              "      <td>100.293588</td>\n",
              "      <td>1.569003</td>\n",
              "      <td>1.195527</td>\n",
              "      <td>no stress</td>\n",
              "      <td>36397.098368</td>\n",
              "      <td>3434.775814</td>\n",
              "      <td>125.414551</td>\n",
              "    </tr>\n",
              "    <tr>\n",
              "      <th>41031</th>\n",
              "      <td>317.702587</td>\n",
              "      <td>57.455826</td>\n",
              "      <td>214.695243</td>\n",
              "      <td>38.827170</td>\n",
              "      <td>91.263190</td>\n",
              "      <td>20.553211</td>\n",
              "      <td>3.717004</td>\n",
              "      <td>8.736810</td>\n",
              "      <td>552.951041</td>\n",
              "      <td>10.445825</td>\n",
              "      <td>0.095732</td>\n",
              "      <td>778.333203</td>\n",
              "      <td>786.842895</td>\n",
              "      <td>47.346036</td>\n",
              "      <td>7.532107</td>\n",
              "      <td>7.531970</td>\n",
              "      <td>6.285895</td>\n",
              "      <td>0.400000</td>\n",
              "      <td>0.000000</td>\n",
              "      <td>3.279160</td>\n",
              "      <td>-1.553159</td>\n",
              "      <td>-0.000066</td>\n",
              "      <td>-0.000901</td>\n",
              "      <td>0.009878</td>\n",
              "      <td>0.006219</td>\n",
              "      <td>1.588346</td>\n",
              "      <td>5.327684</td>\n",
              "      <td>66.745112</td>\n",
              "      <td>1.949010</td>\n",
              "      <td>1.244982</td>\n",
              "      <td>no stress</td>\n",
              "      <td>8656.746229</td>\n",
              "      <td>1951.774936</td>\n",
              "      <td>82.212844</td>\n",
              "    </tr>\n",
              "  </tbody>\n",
              "</table>\n",
              "<p>2422 rows × 34 columns</p>\n",
              "</div>"
            ],
            "text/plain": [
              "               VLF    VLF_PCT  ...          LF_t        HF_t\n",
              "15     2853.918080  79.699285  ...   5847.435058  334.887554\n",
              "19     7163.989622  83.960222  ...  11369.053494  472.056513\n",
              "33     3814.072675  67.023250  ...  16891.018470   74.345162\n",
              "61     1791.883651  72.220167  ...   6172.241352   41.240368\n",
              "66     3610.616315  81.916037  ...   6789.513476  200.964149\n",
              "...            ...        ...  ...           ...         ...\n",
              "40977  4169.432542  84.816068  ...   6385.396767  176.104019\n",
              "40978  1214.833621  52.536319  ...   9341.020480  280.092927\n",
              "40988  2228.240116  75.205306  ...   5965.998346  313.505068\n",
              "41029  1335.773510  76.550710  ...   3434.775814  125.414551\n",
              "41031   317.702587  57.455826  ...   1951.774936   82.212844\n",
              "\n",
              "[2422 rows x 34 columns]"
            ]
          },
          "metadata": {
            "tags": []
          },
          "execution_count": 9
        }
      ]
    },
    {
      "cell_type": "code",
      "metadata": {
        "id": "luXFbLwrVmz-"
      },
      "source": [
        "X_train['KURT_Normal'] = (X_train['KURT']<=3) & (X_train['KURT']>=-3)\r\n",
        "X_test['KURT_Normal'] = (X_test['KURT']<=3) & (X_test['KURT']>=-3)"
      ],
      "execution_count": 10,
      "outputs": []
    },
    {
      "cell_type": "code",
      "metadata": {
        "colab": {
          "base_uri": "https://localhost:8080/"
        },
        "id": "nJKhAAItYE-W",
        "outputId": "25c16c4e-df8d-47ab-9af8-ff1168cfe48c"
      },
      "source": [
        "X_test['KURT_Normal'].value_counts()"
      ],
      "execution_count": 11,
      "outputs": [
        {
          "output_type": "execute_result",
          "data": {
            "text/plain": [
              "True     38611\n",
              "False     2422\n",
              "Name: KURT_Normal, dtype: int64"
            ]
          },
          "metadata": {
            "tags": []
          },
          "execution_count": 11
        }
      ]
    },
    {
      "cell_type": "code",
      "metadata": {
        "id": "40o-utBUYxpb"
      },
      "source": [
        "def skewness(x):\r\n",
        "  if (x<=-1) | (x>=1):\r\n",
        "    return 0\r\n",
        "  elif ((-1<=x) & (x<=-0.5)) | ((0.5<=x) & (x<=1)):\r\n",
        "    return 1\r\n",
        "  else:\r\n",
        "    return 2"
      ],
      "execution_count": 12,
      "outputs": []
    },
    {
      "cell_type": "code",
      "metadata": {
        "id": "zQbb1gouXIjI"
      },
      "source": [
        "X_train['SKEW_cat'] = X_train['SKEW'].map(skewness)\r\n",
        "X_test['SKEW_cat'] = X_test['SKEW'].map(skewness)"
      ],
      "execution_count": 13,
      "outputs": []
    },
    {
      "cell_type": "code",
      "metadata": {
        "id": "uyeByHD8YwIU"
      },
      "source": [
        "from sklearn.preprocessing import LabelEncoder\r\n",
        "\r\n",
        "lEncoder = LabelEncoder()\r\n",
        "X_train['condition'] = lEncoder.fit_transform(X_train['condition'])\r\n",
        "X_test['condition'] = lEncoder.transform(X_test['condition'])\r\n"
      ],
      "execution_count": 14,
      "outputs": []
    },
    {
      "cell_type": "code",
      "metadata": {
        "colab": {
          "base_uri": "https://localhost:8080/",
          "height": 224
        },
        "id": "eiWyAyrXatoY",
        "outputId": "f5bbe91d-8cca-4061-9b3e-b51212dd55d6"
      },
      "source": [
        "X_train.head()"
      ],
      "execution_count": 15,
      "outputs": [
        {
          "output_type": "execute_result",
          "data": {
            "text/html": [
              "<div>\n",
              "<style scoped>\n",
              "    .dataframe tbody tr th:only-of-type {\n",
              "        vertical-align: middle;\n",
              "    }\n",
              "\n",
              "    .dataframe tbody tr th {\n",
              "        vertical-align: top;\n",
              "    }\n",
              "\n",
              "    .dataframe thead th {\n",
              "        text-align: right;\n",
              "    }\n",
              "</style>\n",
              "<table border=\"1\" class=\"dataframe\">\n",
              "  <thead>\n",
              "    <tr style=\"text-align: right;\">\n",
              "      <th></th>\n",
              "      <th>VLF</th>\n",
              "      <th>VLF_PCT</th>\n",
              "      <th>LF</th>\n",
              "      <th>LF_PCT</th>\n",
              "      <th>LF_NU</th>\n",
              "      <th>HF</th>\n",
              "      <th>HF_PCT</th>\n",
              "      <th>HF_NU</th>\n",
              "      <th>TP</th>\n",
              "      <th>LF_HF</th>\n",
              "      <th>HF_LF</th>\n",
              "      <th>MEAN_RR</th>\n",
              "      <th>MEDIAN_RR</th>\n",
              "      <th>SDRR</th>\n",
              "      <th>RMSSD</th>\n",
              "      <th>SDSD</th>\n",
              "      <th>SDRR_RMSSD</th>\n",
              "      <th>pNN25</th>\n",
              "      <th>pNN50</th>\n",
              "      <th>KURT</th>\n",
              "      <th>SKEW</th>\n",
              "      <th>MEAN_REL_RR</th>\n",
              "      <th>MEDIAN_REL_RR</th>\n",
              "      <th>SDRR_REL_RR</th>\n",
              "      <th>RMSSD_REL_RR</th>\n",
              "      <th>SDRR_RMSSD_REL_RR</th>\n",
              "      <th>SD1</th>\n",
              "      <th>SD2</th>\n",
              "      <th>sampen</th>\n",
              "      <th>higuci</th>\n",
              "      <th>condition</th>\n",
              "      <th>VLF_t</th>\n",
              "      <th>LF_t</th>\n",
              "      <th>HF_t</th>\n",
              "      <th>KURT_Normal</th>\n",
              "      <th>SKEW_cat</th>\n",
              "    </tr>\n",
              "  </thead>\n",
              "  <tbody>\n",
              "    <tr>\n",
              "      <th>0</th>\n",
              "      <td>2661.894136</td>\n",
              "      <td>72.203287</td>\n",
              "      <td>1009.249419</td>\n",
              "      <td>27.375666</td>\n",
              "      <td>98.485263</td>\n",
              "      <td>15.522603</td>\n",
              "      <td>0.421047</td>\n",
              "      <td>1.514737</td>\n",
              "      <td>3686.666157</td>\n",
              "      <td>65.018055</td>\n",
              "      <td>0.015380</td>\n",
              "      <td>885.157845</td>\n",
              "      <td>853.763730</td>\n",
              "      <td>140.972741</td>\n",
              "      <td>15.554505</td>\n",
              "      <td>15.553371</td>\n",
              "      <td>9.063146</td>\n",
              "      <td>11.133333</td>\n",
              "      <td>0.533333</td>\n",
              "      <td>-0.856554</td>\n",
              "      <td>0.335218</td>\n",
              "      <td>-0.000203</td>\n",
              "      <td>-0.000179</td>\n",
              "      <td>0.017080</td>\n",
              "      <td>0.007969</td>\n",
              "      <td>2.143342</td>\n",
              "      <td>11.001565</td>\n",
              "      <td>199.061782</td>\n",
              "      <td>2.139754</td>\n",
              "      <td>1.163485</td>\n",
              "      <td>1</td>\n",
              "      <td>72531.175358</td>\n",
              "      <td>9174.994718</td>\n",
              "      <td>62.090410</td>\n",
              "      <td>True</td>\n",
              "      <td>2</td>\n",
              "    </tr>\n",
              "    <tr>\n",
              "      <th>1</th>\n",
              "      <td>2314.265450</td>\n",
              "      <td>76.975728</td>\n",
              "      <td>690.113275</td>\n",
              "      <td>22.954139</td>\n",
              "      <td>99.695397</td>\n",
              "      <td>2.108525</td>\n",
              "      <td>0.070133</td>\n",
              "      <td>0.304603</td>\n",
              "      <td>3006.487251</td>\n",
              "      <td>327.296635</td>\n",
              "      <td>0.003055</td>\n",
              "      <td>939.425371</td>\n",
              "      <td>948.357865</td>\n",
              "      <td>81.317742</td>\n",
              "      <td>12.964439</td>\n",
              "      <td>12.964195</td>\n",
              "      <td>6.272369</td>\n",
              "      <td>5.600000</td>\n",
              "      <td>0.000000</td>\n",
              "      <td>-0.408190</td>\n",
              "      <td>-0.155286</td>\n",
              "      <td>-0.000059</td>\n",
              "      <td>0.000611</td>\n",
              "      <td>0.013978</td>\n",
              "      <td>0.004769</td>\n",
              "      <td>2.930855</td>\n",
              "      <td>9.170129</td>\n",
              "      <td>114.634458</td>\n",
              "      <td>2.174499</td>\n",
              "      <td>1.084711</td>\n",
              "      <td>0</td>\n",
              "      <td>63059.004096</td>\n",
              "      <td>6273.757044</td>\n",
              "      <td>8.434102</td>\n",
              "      <td>True</td>\n",
              "      <td>2</td>\n",
              "    </tr>\n",
              "    <tr>\n",
              "      <th>2</th>\n",
              "      <td>1373.887112</td>\n",
              "      <td>51.152225</td>\n",
              "      <td>1298.222619</td>\n",
              "      <td>48.335104</td>\n",
              "      <td>98.950472</td>\n",
              "      <td>13.769729</td>\n",
              "      <td>0.512671</td>\n",
              "      <td>1.049528</td>\n",
              "      <td>2685.879461</td>\n",
              "      <td>94.280910</td>\n",
              "      <td>0.010607</td>\n",
              "      <td>898.186047</td>\n",
              "      <td>907.006860</td>\n",
              "      <td>84.497236</td>\n",
              "      <td>16.305279</td>\n",
              "      <td>16.305274</td>\n",
              "      <td>5.182201</td>\n",
              "      <td>13.066667</td>\n",
              "      <td>0.200000</td>\n",
              "      <td>0.351789</td>\n",
              "      <td>-0.656813</td>\n",
              "      <td>-0.000011</td>\n",
              "      <td>-0.000263</td>\n",
              "      <td>0.018539</td>\n",
              "      <td>0.008716</td>\n",
              "      <td>2.127053</td>\n",
              "      <td>11.533417</td>\n",
              "      <td>118.939253</td>\n",
              "      <td>2.135350</td>\n",
              "      <td>1.176315</td>\n",
              "      <td>0</td>\n",
              "      <td>37435.616134</td>\n",
              "      <td>11802.023812</td>\n",
              "      <td>55.078918</td>\n",
              "      <td>True</td>\n",
              "      <td>1</td>\n",
              "    </tr>\n",
              "    <tr>\n",
              "      <th>3</th>\n",
              "      <td>2410.357408</td>\n",
              "      <td>70.180308</td>\n",
              "      <td>1005.981659</td>\n",
              "      <td>29.290305</td>\n",
              "      <td>98.224706</td>\n",
              "      <td>18.181913</td>\n",
              "      <td>0.529387</td>\n",
              "      <td>1.775294</td>\n",
              "      <td>3434.520980</td>\n",
              "      <td>55.328701</td>\n",
              "      <td>0.018074</td>\n",
              "      <td>881.757865</td>\n",
              "      <td>893.460030</td>\n",
              "      <td>90.370537</td>\n",
              "      <td>15.720468</td>\n",
              "      <td>15.720068</td>\n",
              "      <td>5.748591</td>\n",
              "      <td>11.800000</td>\n",
              "      <td>0.133333</td>\n",
              "      <td>-0.504947</td>\n",
              "      <td>-0.386138</td>\n",
              "      <td>0.000112</td>\n",
              "      <td>0.000494</td>\n",
              "      <td>0.017761</td>\n",
              "      <td>0.008660</td>\n",
              "      <td>2.050988</td>\n",
              "      <td>11.119476</td>\n",
              "      <td>127.318597</td>\n",
              "      <td>2.178341</td>\n",
              "      <td>1.179688</td>\n",
              "      <td>1</td>\n",
              "      <td>65677.313564</td>\n",
              "      <td>9145.287811</td>\n",
              "      <td>72.727654</td>\n",
              "      <td>True</td>\n",
              "      <td>2</td>\n",
              "    </tr>\n",
              "    <tr>\n",
              "      <th>4</th>\n",
              "      <td>1151.177330</td>\n",
              "      <td>43.918366</td>\n",
              "      <td>1421.782051</td>\n",
              "      <td>54.242160</td>\n",
              "      <td>96.720007</td>\n",
              "      <td>48.215822</td>\n",
              "      <td>1.839473</td>\n",
              "      <td>3.279993</td>\n",
              "      <td>2621.175204</td>\n",
              "      <td>29.487873</td>\n",
              "      <td>0.033912</td>\n",
              "      <td>809.625331</td>\n",
              "      <td>811.184865</td>\n",
              "      <td>62.766242</td>\n",
              "      <td>19.213819</td>\n",
              "      <td>19.213657</td>\n",
              "      <td>3.266724</td>\n",
              "      <td>20.200000</td>\n",
              "      <td>0.200000</td>\n",
              "      <td>-0.548408</td>\n",
              "      <td>-0.154252</td>\n",
              "      <td>-0.000100</td>\n",
              "      <td>-0.002736</td>\n",
              "      <td>0.023715</td>\n",
              "      <td>0.013055</td>\n",
              "      <td>1.816544</td>\n",
              "      <td>13.590641</td>\n",
              "      <td>87.718281</td>\n",
              "      <td>2.221121</td>\n",
              "      <td>1.249612</td>\n",
              "      <td>1</td>\n",
              "      <td>31367.229703</td>\n",
              "      <td>12925.291377</td>\n",
              "      <td>192.863290</td>\n",
              "      <td>True</td>\n",
              "      <td>2</td>\n",
              "    </tr>\n",
              "  </tbody>\n",
              "</table>\n",
              "</div>"
            ],
            "text/plain": [
              "           VLF    VLF_PCT           LF  ...        HF_t  KURT_Normal  SKEW_cat\n",
              "0  2661.894136  72.203287  1009.249419  ...   62.090410         True         2\n",
              "1  2314.265450  76.975728   690.113275  ...    8.434102         True         2\n",
              "2  1373.887112  51.152225  1298.222619  ...   55.078918         True         1\n",
              "3  2410.357408  70.180308  1005.981659  ...   72.727654         True         2\n",
              "4  1151.177330  43.918366  1421.782051  ...  192.863290         True         2\n",
              "\n",
              "[5 rows x 36 columns]"
            ]
          },
          "metadata": {
            "tags": []
          },
          "execution_count": 15
        }
      ]
    },
    {
      "cell_type": "code",
      "metadata": {
        "id": "fsl3_piLavze"
      },
      "source": [
        "X_train['MEAN_RR_inv'] = 1/X_train['MEAN_RR']\r\n",
        "X_test['MEAN_RR_inv'] = 1/X_test['MEAN_RR']\r\n",
        "\r\n",
        "X_train['MEDIAN_RR_inv'] = 1/X_train['MEDIAN_RR']\r\n",
        "X_test['MEDIAN_RR_inv'] = 1/X_test['MEDIAN_RR']"
      ],
      "execution_count": 16,
      "outputs": []
    },
    {
      "cell_type": "code",
      "metadata": {
        "id": "GLzarIiBboq7"
      },
      "source": [
        "X_train['SDRR_inv'] = 1/X_train['SDRR']\r\n",
        "X_test['SDRR_inv'] = 1/X_test['SDRR']\r\n",
        "\r\n",
        "X_train['RMSSD_inv'] = 1/X_train['RMSSD']\r\n",
        "X_test['RMSSD_inv'] = 1/X_test['RMSSD']\r\n",
        "\r\n",
        "\r\n",
        "X_train['SDSD_inv'] = 1/X_train['SDSD']\r\n",
        "X_test['SDSD_inv'] = 1/X_test['SDSD']\r\n",
        "\r\n",
        "X_train['SDRR_RMSSD_inv'] = 1/X_train['SDRR_RMSSD']\r\n",
        "X_test['SDRR_RMSSD_inv'] = 1/X_test['SDRR_RMSSD']"
      ],
      "execution_count": 17,
      "outputs": []
    },
    {
      "cell_type": "code",
      "metadata": {
        "id": "3dC4SZTncd9t"
      },
      "source": [
        "X_train['MEAN_REL_RR_inv'] = 1/X_train['MEAN_REL_RR']\r\n",
        "X_test['MEAN_REL_RR_inv'] = 1/X_test['MEAN_REL_RR']\r\n",
        "\r\n",
        "X_train['MEDIAN_REL_RR_inv'] = 1/X_train['MEDIAN_REL_RR']\r\n",
        "X_test['MEDIAN_REL_RR_inv'] = 1/X_test['MEDIAN_REL_RR']"
      ],
      "execution_count": 18,
      "outputs": []
    },
    {
      "cell_type": "code",
      "metadata": {
        "id": "WV3bkE0Jc52I"
      },
      "source": [
        "X_train['SDRR_REL_RR_inv'] = 1/X_train['SDRR_REL_RR']\r\n",
        "X_test['SDRR_REL_RR_inv'] = 1/X_test['SDRR_REL_RR']\r\n",
        "\r\n",
        "X_train['RMSSD_REL_RR_inv'] = 1/X_train['RMSSD_REL_RR']\r\n",
        "X_test['RMSSD_REL_RR_inv'] = 1/X_test['RMSSD_REL_RR']"
      ],
      "execution_count": 19,
      "outputs": []
    },
    {
      "cell_type": "code",
      "metadata": {
        "id": "a223mohYdKQ2"
      },
      "source": [
        "X_train['SDRR_RMSSD_REL_RR_inv'] = 1/X_train['SDRR_RMSSD_REL_RR']\r\n",
        "X_test['SDRR_RMSSD_REL_RR_inv'] = 1/X_test['SDRR_RMSSD_REL_RR']"
      ],
      "execution_count": 20,
      "outputs": []
    },
    {
      "cell_type": "code",
      "metadata": {
        "id": "349aqCzOdhqV"
      },
      "source": [
        "X_train['sampen_1'] = np.exp(X_train['sampen'])\r\n",
        "X_train['sampen_2'] = np.exp(1/X_train['sampen'])\r\n",
        "\r\n",
        "X_test['sampen_1'] = np.exp(X_test['sampen'])\r\n",
        "X_test['sampen_2'] = np.exp(1/X_test['sampen'])"
      ],
      "execution_count": 21,
      "outputs": []
    },
    {
      "cell_type": "code",
      "metadata": {
        "colab": {
          "base_uri": "https://localhost:8080/",
          "height": 224
        },
        "id": "uedEh-TPeTrU",
        "outputId": "854ba67e-0d54-4def-de65-350d7350b295"
      },
      "source": [
        "X_train.head()"
      ],
      "execution_count": 22,
      "outputs": [
        {
          "output_type": "execute_result",
          "data": {
            "text/html": [
              "<div>\n",
              "<style scoped>\n",
              "    .dataframe tbody tr th:only-of-type {\n",
              "        vertical-align: middle;\n",
              "    }\n",
              "\n",
              "    .dataframe tbody tr th {\n",
              "        vertical-align: top;\n",
              "    }\n",
              "\n",
              "    .dataframe thead th {\n",
              "        text-align: right;\n",
              "    }\n",
              "</style>\n",
              "<table border=\"1\" class=\"dataframe\">\n",
              "  <thead>\n",
              "    <tr style=\"text-align: right;\">\n",
              "      <th></th>\n",
              "      <th>VLF</th>\n",
              "      <th>VLF_PCT</th>\n",
              "      <th>LF</th>\n",
              "      <th>LF_PCT</th>\n",
              "      <th>LF_NU</th>\n",
              "      <th>HF</th>\n",
              "      <th>HF_PCT</th>\n",
              "      <th>HF_NU</th>\n",
              "      <th>TP</th>\n",
              "      <th>LF_HF</th>\n",
              "      <th>HF_LF</th>\n",
              "      <th>MEAN_RR</th>\n",
              "      <th>MEDIAN_RR</th>\n",
              "      <th>SDRR</th>\n",
              "      <th>RMSSD</th>\n",
              "      <th>SDSD</th>\n",
              "      <th>SDRR_RMSSD</th>\n",
              "      <th>pNN25</th>\n",
              "      <th>pNN50</th>\n",
              "      <th>KURT</th>\n",
              "      <th>SKEW</th>\n",
              "      <th>MEAN_REL_RR</th>\n",
              "      <th>MEDIAN_REL_RR</th>\n",
              "      <th>SDRR_REL_RR</th>\n",
              "      <th>RMSSD_REL_RR</th>\n",
              "      <th>SDRR_RMSSD_REL_RR</th>\n",
              "      <th>SD1</th>\n",
              "      <th>SD2</th>\n",
              "      <th>sampen</th>\n",
              "      <th>higuci</th>\n",
              "      <th>condition</th>\n",
              "      <th>VLF_t</th>\n",
              "      <th>LF_t</th>\n",
              "      <th>HF_t</th>\n",
              "      <th>KURT_Normal</th>\n",
              "      <th>SKEW_cat</th>\n",
              "      <th>MEAN_RR_inv</th>\n",
              "      <th>MEDIAN_RR_inv</th>\n",
              "      <th>SDRR_inv</th>\n",
              "      <th>RMSSD_inv</th>\n",
              "      <th>SDSD_inv</th>\n",
              "      <th>SDRR_RMSSD_inv</th>\n",
              "      <th>MEAN_REL_RR_inv</th>\n",
              "      <th>MEDIAN_REL_RR_inv</th>\n",
              "      <th>SDRR_REL_RR_inv</th>\n",
              "      <th>RMSSD_REL_RR_inv</th>\n",
              "      <th>SDRR_RMSSD_REL_RR_inv</th>\n",
              "      <th>sampen_1</th>\n",
              "      <th>sampen_2</th>\n",
              "    </tr>\n",
              "  </thead>\n",
              "  <tbody>\n",
              "    <tr>\n",
              "      <th>0</th>\n",
              "      <td>2661.894136</td>\n",
              "      <td>72.203287</td>\n",
              "      <td>1009.249419</td>\n",
              "      <td>27.375666</td>\n",
              "      <td>98.485263</td>\n",
              "      <td>15.522603</td>\n",
              "      <td>0.421047</td>\n",
              "      <td>1.514737</td>\n",
              "      <td>3686.666157</td>\n",
              "      <td>65.018055</td>\n",
              "      <td>0.015380</td>\n",
              "      <td>885.157845</td>\n",
              "      <td>853.763730</td>\n",
              "      <td>140.972741</td>\n",
              "      <td>15.554505</td>\n",
              "      <td>15.553371</td>\n",
              "      <td>9.063146</td>\n",
              "      <td>11.133333</td>\n",
              "      <td>0.533333</td>\n",
              "      <td>-0.856554</td>\n",
              "      <td>0.335218</td>\n",
              "      <td>-0.000203</td>\n",
              "      <td>-0.000179</td>\n",
              "      <td>0.017080</td>\n",
              "      <td>0.007969</td>\n",
              "      <td>2.143342</td>\n",
              "      <td>11.001565</td>\n",
              "      <td>199.061782</td>\n",
              "      <td>2.139754</td>\n",
              "      <td>1.163485</td>\n",
              "      <td>1</td>\n",
              "      <td>72531.175358</td>\n",
              "      <td>9174.994718</td>\n",
              "      <td>62.090410</td>\n",
              "      <td>True</td>\n",
              "      <td>2</td>\n",
              "      <td>0.001130</td>\n",
              "      <td>0.001171</td>\n",
              "      <td>0.007094</td>\n",
              "      <td>0.064290</td>\n",
              "      <td>0.064295</td>\n",
              "      <td>0.110337</td>\n",
              "      <td>-4926.450040</td>\n",
              "      <td>-5579.649702</td>\n",
              "      <td>58.548184</td>\n",
              "      <td>125.488778</td>\n",
              "      <td>0.466561</td>\n",
              "      <td>8.497347</td>\n",
              "      <td>1.595749</td>\n",
              "    </tr>\n",
              "    <tr>\n",
              "      <th>1</th>\n",
              "      <td>2314.265450</td>\n",
              "      <td>76.975728</td>\n",
              "      <td>690.113275</td>\n",
              "      <td>22.954139</td>\n",
              "      <td>99.695397</td>\n",
              "      <td>2.108525</td>\n",
              "      <td>0.070133</td>\n",
              "      <td>0.304603</td>\n",
              "      <td>3006.487251</td>\n",
              "      <td>327.296635</td>\n",
              "      <td>0.003055</td>\n",
              "      <td>939.425371</td>\n",
              "      <td>948.357865</td>\n",
              "      <td>81.317742</td>\n",
              "      <td>12.964439</td>\n",
              "      <td>12.964195</td>\n",
              "      <td>6.272369</td>\n",
              "      <td>5.600000</td>\n",
              "      <td>0.000000</td>\n",
              "      <td>-0.408190</td>\n",
              "      <td>-0.155286</td>\n",
              "      <td>-0.000059</td>\n",
              "      <td>0.000611</td>\n",
              "      <td>0.013978</td>\n",
              "      <td>0.004769</td>\n",
              "      <td>2.930855</td>\n",
              "      <td>9.170129</td>\n",
              "      <td>114.634458</td>\n",
              "      <td>2.174499</td>\n",
              "      <td>1.084711</td>\n",
              "      <td>0</td>\n",
              "      <td>63059.004096</td>\n",
              "      <td>6273.757044</td>\n",
              "      <td>8.434102</td>\n",
              "      <td>True</td>\n",
              "      <td>2</td>\n",
              "      <td>0.001064</td>\n",
              "      <td>0.001054</td>\n",
              "      <td>0.012297</td>\n",
              "      <td>0.077134</td>\n",
              "      <td>0.077136</td>\n",
              "      <td>0.159429</td>\n",
              "      <td>-16998.079555</td>\n",
              "      <td>1637.317371</td>\n",
              "      <td>71.543464</td>\n",
              "      <td>209.683506</td>\n",
              "      <td>0.341197</td>\n",
              "      <td>8.797774</td>\n",
              "      <td>1.583878</td>\n",
              "    </tr>\n",
              "    <tr>\n",
              "      <th>2</th>\n",
              "      <td>1373.887112</td>\n",
              "      <td>51.152225</td>\n",
              "      <td>1298.222619</td>\n",
              "      <td>48.335104</td>\n",
              "      <td>98.950472</td>\n",
              "      <td>13.769729</td>\n",
              "      <td>0.512671</td>\n",
              "      <td>1.049528</td>\n",
              "      <td>2685.879461</td>\n",
              "      <td>94.280910</td>\n",
              "      <td>0.010607</td>\n",
              "      <td>898.186047</td>\n",
              "      <td>907.006860</td>\n",
              "      <td>84.497236</td>\n",
              "      <td>16.305279</td>\n",
              "      <td>16.305274</td>\n",
              "      <td>5.182201</td>\n",
              "      <td>13.066667</td>\n",
              "      <td>0.200000</td>\n",
              "      <td>0.351789</td>\n",
              "      <td>-0.656813</td>\n",
              "      <td>-0.000011</td>\n",
              "      <td>-0.000263</td>\n",
              "      <td>0.018539</td>\n",
              "      <td>0.008716</td>\n",
              "      <td>2.127053</td>\n",
              "      <td>11.533417</td>\n",
              "      <td>118.939253</td>\n",
              "      <td>2.135350</td>\n",
              "      <td>1.176315</td>\n",
              "      <td>0</td>\n",
              "      <td>37435.616134</td>\n",
              "      <td>11802.023812</td>\n",
              "      <td>55.078918</td>\n",
              "      <td>True</td>\n",
              "      <td>1</td>\n",
              "      <td>0.001113</td>\n",
              "      <td>0.001103</td>\n",
              "      <td>0.011835</td>\n",
              "      <td>0.061330</td>\n",
              "      <td>0.061330</td>\n",
              "      <td>0.192968</td>\n",
              "      <td>-91646.277930</td>\n",
              "      <td>-3805.195927</td>\n",
              "      <td>53.940589</td>\n",
              "      <td>114.734511</td>\n",
              "      <td>0.470134</td>\n",
              "      <td>8.460005</td>\n",
              "      <td>1.597288</td>\n",
              "    </tr>\n",
              "    <tr>\n",
              "      <th>3</th>\n",
              "      <td>2410.357408</td>\n",
              "      <td>70.180308</td>\n",
              "      <td>1005.981659</td>\n",
              "      <td>29.290305</td>\n",
              "      <td>98.224706</td>\n",
              "      <td>18.181913</td>\n",
              "      <td>0.529387</td>\n",
              "      <td>1.775294</td>\n",
              "      <td>3434.520980</td>\n",
              "      <td>55.328701</td>\n",
              "      <td>0.018074</td>\n",
              "      <td>881.757865</td>\n",
              "      <td>893.460030</td>\n",
              "      <td>90.370537</td>\n",
              "      <td>15.720468</td>\n",
              "      <td>15.720068</td>\n",
              "      <td>5.748591</td>\n",
              "      <td>11.800000</td>\n",
              "      <td>0.133333</td>\n",
              "      <td>-0.504947</td>\n",
              "      <td>-0.386138</td>\n",
              "      <td>0.000112</td>\n",
              "      <td>0.000494</td>\n",
              "      <td>0.017761</td>\n",
              "      <td>0.008660</td>\n",
              "      <td>2.050988</td>\n",
              "      <td>11.119476</td>\n",
              "      <td>127.318597</td>\n",
              "      <td>2.178341</td>\n",
              "      <td>1.179688</td>\n",
              "      <td>1</td>\n",
              "      <td>65677.313564</td>\n",
              "      <td>9145.287811</td>\n",
              "      <td>72.727654</td>\n",
              "      <td>True</td>\n",
              "      <td>2</td>\n",
              "      <td>0.001134</td>\n",
              "      <td>0.001119</td>\n",
              "      <td>0.011066</td>\n",
              "      <td>0.063611</td>\n",
              "      <td>0.063613</td>\n",
              "      <td>0.173956</td>\n",
              "      <td>8947.576035</td>\n",
              "      <td>2026.233817</td>\n",
              "      <td>56.302890</td>\n",
              "      <td>115.476549</td>\n",
              "      <td>0.487570</td>\n",
              "      <td>8.831639</td>\n",
              "      <td>1.582594</td>\n",
              "    </tr>\n",
              "    <tr>\n",
              "      <th>4</th>\n",
              "      <td>1151.177330</td>\n",
              "      <td>43.918366</td>\n",
              "      <td>1421.782051</td>\n",
              "      <td>54.242160</td>\n",
              "      <td>96.720007</td>\n",
              "      <td>48.215822</td>\n",
              "      <td>1.839473</td>\n",
              "      <td>3.279993</td>\n",
              "      <td>2621.175204</td>\n",
              "      <td>29.487873</td>\n",
              "      <td>0.033912</td>\n",
              "      <td>809.625331</td>\n",
              "      <td>811.184865</td>\n",
              "      <td>62.766242</td>\n",
              "      <td>19.213819</td>\n",
              "      <td>19.213657</td>\n",
              "      <td>3.266724</td>\n",
              "      <td>20.200000</td>\n",
              "      <td>0.200000</td>\n",
              "      <td>-0.548408</td>\n",
              "      <td>-0.154252</td>\n",
              "      <td>-0.000100</td>\n",
              "      <td>-0.002736</td>\n",
              "      <td>0.023715</td>\n",
              "      <td>0.013055</td>\n",
              "      <td>1.816544</td>\n",
              "      <td>13.590641</td>\n",
              "      <td>87.718281</td>\n",
              "      <td>2.221121</td>\n",
              "      <td>1.249612</td>\n",
              "      <td>1</td>\n",
              "      <td>31367.229703</td>\n",
              "      <td>12925.291377</td>\n",
              "      <td>192.863290</td>\n",
              "      <td>True</td>\n",
              "      <td>2</td>\n",
              "      <td>0.001235</td>\n",
              "      <td>0.001233</td>\n",
              "      <td>0.015932</td>\n",
              "      <td>0.052046</td>\n",
              "      <td>0.052046</td>\n",
              "      <td>0.306117</td>\n",
              "      <td>-10037.734592</td>\n",
              "      <td>-365.495707</td>\n",
              "      <td>42.166530</td>\n",
              "      <td>76.597343</td>\n",
              "      <td>0.550496</td>\n",
              "      <td>9.217657</td>\n",
              "      <td>1.568662</td>\n",
              "    </tr>\n",
              "  </tbody>\n",
              "</table>\n",
              "</div>"
            ],
            "text/plain": [
              "           VLF    VLF_PCT  ...  sampen_1  sampen_2\n",
              "0  2661.894136  72.203287  ...  8.497347  1.595749\n",
              "1  2314.265450  76.975728  ...  8.797774  1.583878\n",
              "2  1373.887112  51.152225  ...  8.460005  1.597288\n",
              "3  2410.357408  70.180308  ...  8.831639  1.582594\n",
              "4  1151.177330  43.918366  ...  9.217657  1.568662\n",
              "\n",
              "[5 rows x 49 columns]"
            ]
          },
          "metadata": {
            "tags": []
          },
          "execution_count": 22
        }
      ]
    },
    {
      "cell_type": "code",
      "metadata": {
        "id": "sMAPTULbmCBN"
      },
      "source": [
        "from sklearn.preprocessing import PowerTransformer\r\n",
        "\r\n",
        "pt = PowerTransformer()\r\n",
        "\r\n",
        "X_train_pt = pt.fit_transform(X_train)\r\n",
        "X_test_pt = pt.transform(X_test)"
      ],
      "execution_count": 23,
      "outputs": []
    },
    {
      "cell_type": "code",
      "metadata": {
        "colab": {
          "base_uri": "https://localhost:8080/"
        },
        "id": "2-h6kstye54h",
        "outputId": "ae280fd4-e096-4b76-e5e8-4e692b2c0f63"
      },
      "source": [
        "from sklearn.ensemble import RandomForestRegressor, ExtraTreesRegressor\r\n",
        "from sklearn.svm import SVR\r\n",
        "\r\n",
        "# model = ExtraTreesRegressor(n_estimators = 100, random_state=1, bootstrap = False)\r\n",
        "model = SVR(tol = 1)\r\n",
        "\r\n",
        "model.fit(X_train_pt, y_train)\r\n"
      ],
      "execution_count": 24,
      "outputs": [
        {
          "output_type": "execute_result",
          "data": {
            "text/plain": [
              "SVR(C=1.0, cache_size=200, coef0=0.0, degree=3, epsilon=0.1, gamma='scale',\n",
              "    kernel='rbf', max_iter=-1, shrinking=True, tol=1, verbose=False)"
            ]
          },
          "metadata": {
            "tags": []
          },
          "execution_count": 24
        }
      ]
    },
    {
      "cell_type": "code",
      "metadata": {
        "id": "W_HbTr_Pfkmj"
      },
      "source": [
        "y_test_predict = model.predict(X_test_pt)\r\n",
        "y_train_predict = model.predict(X_train_pt)\r\n"
      ],
      "execution_count": 25,
      "outputs": []
    },
    {
      "cell_type": "code",
      "metadata": {
        "id": "pDtBGTZa0qiO"
      },
      "source": [
        "svm_test = y_test_predict\r\n",
        "svm_train = y_train_predict"
      ],
      "execution_count": 28,
      "outputs": []
    },
    {
      "cell_type": "code",
      "metadata": {
        "colab": {
          "base_uri": "https://localhost:8080/"
        },
        "id": "AsxK2DHKf8P5",
        "outputId": "29593e8f-0034-44d5-e1bc-304b6ecd27b2"
      },
      "source": [
        "from sklearn.metrics import mean_absolute_error\r\n",
        "print(mean_absolute_error(y_train, svm_train))"
      ],
      "execution_count": 32,
      "outputs": [
        {
          "output_type": "stream",
          "text": [
            "0.15668269577616703\n"
          ],
          "name": "stdout"
        }
      ]
    },
    {
      "cell_type": "code",
      "metadata": {
        "id": "ljalzj021vwd"
      },
      "source": [
        "svm = [svm_train, svm_test]"
      ],
      "execution_count": 34,
      "outputs": []
    },
    {
      "cell_type": "code",
      "metadata": {
        "id": "EhuO6Nua19GH"
      },
      "source": [
        "import pickle\r\n",
        "\r\n",
        "f = open('/content/drive/MyDrive/Colab Notebooks/GL_Hackathon/svm.pickle','wb')\r\n",
        "pickle.dump(svm, f)\r\n",
        "\r\n",
        "f.close()"
      ],
      "execution_count": 43,
      "outputs": []
    },
    {
      "cell_type": "code",
      "metadata": {
        "id": "DHk64GRKfeDW"
      },
      "source": [
        "import pickle\r\n",
        "\r\n",
        "f = open('/content/drive/MyDrive/Colab Notebooks/GL_Hackathon/svm.pickle','rb')\r\n",
        "svm = pickle.load(f)\r\n",
        "\r\n",
        "f.close()"
      ],
      "execution_count": 2,
      "outputs": []
    },
    {
      "cell_type": "code",
      "metadata": {
        "id": "IJZg7S911hmw"
      },
      "source": [
        "# df = pd.concat([pd.DataFrame(y_id),pd.DataFrame(y_test_predict)], axis=1, ignore_index=True)\r\n",
        "# df.columns = ['uuid','HR']\r\n",
        "# df.to_csv('Submission.csv', index=False)"
      ],
      "execution_count": null,
      "outputs": []
    },
    {
      "cell_type": "code",
      "metadata": {
        "colab": {
          "base_uri": "https://localhost:8080/"
        },
        "id": "R-GDqItr08u3",
        "outputId": "1474d58c-f5de-47dd-80d3-d04324304824"
      },
      "source": [
        "from sklearn.ensemble import RandomForestRegressor, ExtraTreesRegressor\r\n",
        "from sklearn.svm import SVR\r\n",
        "\r\n",
        "model = ExtraTreesRegressor(n_estimators = 100, random_state=1)\r\n",
        "\r\n",
        "model.fit(X_train_pt, y_train)\r\n",
        "\r\n",
        "etr_test = model.predict(X_test_pt)\r\n",
        "etr_train = model.predict(X_train_pt)\r\n",
        "\r\n",
        "from sklearn.metrics import mean_absolute_error\r\n",
        "print(mean_absolute_error(y_train, etr_train))"
      ],
      "execution_count": 42,
      "outputs": [
        {
          "output_type": "stream",
          "text": [
            "3.539600601260916e-05\n"
          ],
          "name": "stdout"
        }
      ]
    },
    {
      "cell_type": "code",
      "metadata": {
        "id": "XXmv221dgGtu"
      },
      "source": [
        "# df = pd.concat([pd.DataFrame(y_id),pd.DataFrame(y_test_predict)], axis=1, ignore_index=True)\r\n",
        "# df.columns = ['uuid','HR']\r\n",
        "# df.to_csv('Submission.csv', index=False)"
      ],
      "execution_count": 27,
      "outputs": []
    },
    {
      "cell_type": "code",
      "metadata": {
        "id": "sVlQXplnldJQ"
      },
      "source": [
        "etr = [etr_train, etr_test]\r\n",
        "\r\n",
        "import pickle\r\n",
        "\r\n",
        "f = open('/content/drive/MyDrive/Colab Notebooks/GL_Hackathon/etr.pickle','wb')\r\n",
        "pickle.dump(etr, f)\r\n",
        "\r\n",
        "f.close()"
      ],
      "execution_count": 44,
      "outputs": []
    },
    {
      "cell_type": "code",
      "metadata": {
        "id": "E5R0iepyfqZi"
      },
      "source": [
        "import pickle\r\n",
        "\r\n",
        "f = open('/content/drive/MyDrive/Colab Notebooks/GL_Hackathon/etr.pickle','rb')\r\n",
        "etr = pickle.load(f)\r\n",
        "\r\n",
        "f.close()"
      ],
      "execution_count": 3,
      "outputs": []
    },
    {
      "cell_type": "code",
      "metadata": {
        "colab": {
          "base_uri": "https://localhost:8080/"
        },
        "id": "GBha-Z137yDe",
        "outputId": "8c64b320-779f-4174-a7bc-b0524c3adae9"
      },
      "source": [
        "from sklearn.ensemble import RandomForestRegressor, ExtraTreesRegressor\r\n",
        "from sklearn.svm import SVR\r\n",
        "\r\n",
        "model = RandomForestRegressor(n_estimators = 100, random_state=1)\r\n",
        "\r\n",
        "model.fit(X_train_pt, y_train)\r\n",
        "\r\n",
        "rfr_test = model.predict(X_test_pt)\r\n",
        "rfr_train = model.predict(X_train_pt)\r\n",
        "\r\n",
        "from sklearn.metrics import mean_absolute_error\r\n",
        "print(mean_absolute_error(y_train, rfr_train))"
      ],
      "execution_count": 45,
      "outputs": [
        {
          "output_type": "stream",
          "text": [
            "0.002223729203648568\n"
          ],
          "name": "stdout"
        }
      ]
    },
    {
      "cell_type": "code",
      "metadata": {
        "id": "D87Mzuax8Fb8"
      },
      "source": [
        "rfr = [rfr_train, rfr_test]\r\n",
        "\r\n",
        "import pickle\r\n",
        "\r\n",
        "f = open('/content/drive/MyDrive/Colab Notebooks/GL_Hackathon/rfr.pickle','wb')\r\n",
        "pickle.dump(rfr, f)\r\n",
        "\r\n",
        "f.close()"
      ],
      "execution_count": 47,
      "outputs": []
    },
    {
      "cell_type": "code",
      "metadata": {
        "id": "xQdD9nekfvBd"
      },
      "source": [
        "import pickle\r\n",
        "\r\n",
        "f = open('/content/drive/MyDrive/Colab Notebooks/GL_Hackathon/rfr.pickle','rb')\r\n",
        "rfr = pickle.load(f)\r\n",
        "\r\n",
        "f.close()"
      ],
      "execution_count": 4,
      "outputs": []
    },
    {
      "cell_type": "code",
      "metadata": {
        "colab": {
          "base_uri": "https://localhost:8080/"
        },
        "id": "oL3-qhz8Grzi",
        "outputId": "2ae47d19-a06f-42c4-dc58-e2689adcd3ea"
      },
      "source": [
        "from sklearn.tree import DecisionTreeRegressor\r\n",
        "\r\n",
        "model = DecisionTreeRegressor()\r\n",
        "\r\n",
        "model.fit(X_train_pt, y_train)\r\n",
        "\r\n",
        "dtr_test = model.predict(X_test_pt)\r\n",
        "dtr_train = model.predict(X_train_pt)\r\n",
        "\r\n",
        "from sklearn.metrics import mean_absolute_error\r\n",
        "print(mean_absolute_error(y_train, dtr_train))"
      ],
      "execution_count": 58,
      "outputs": [
        {
          "output_type": "stream",
          "text": [
            "5.31144138596753e-05\n"
          ],
          "name": "stdout"
        }
      ]
    },
    {
      "cell_type": "code",
      "metadata": {
        "id": "hEjn563IIGBD"
      },
      "source": [
        "dtr = [dtr_train, dtr_test]\r\n",
        "\r\n",
        "import pickle\r\n",
        "\r\n",
        "f = open('/content/drive/MyDrive/Colab Notebooks/GL_Hackathon/dtr.pickle','wb')\r\n",
        "pickle.dump(dtr, f)\r\n",
        "\r\n",
        "f.close()"
      ],
      "execution_count": 59,
      "outputs": []
    },
    {
      "cell_type": "code",
      "metadata": {
        "id": "9zGBwKhCf0jl"
      },
      "source": [
        "import pickle\r\n",
        "\r\n",
        "f = open('/content/drive/MyDrive/Colab Notebooks/GL_Hackathon/dtr.pickle','rb')\r\n",
        "dtr = pickle.load(f)\r\n",
        "\r\n",
        "f.close()"
      ],
      "execution_count": 5,
      "outputs": []
    },
    {
      "cell_type": "code",
      "metadata": {
        "colab": {
          "base_uri": "https://localhost:8080/",
          "height": 339
        },
        "id": "e6y-VroNIa-Y",
        "outputId": "a20ea886-42f6-4986-e751-83973ace1413"
      },
      "source": [
        "sns.scatterplot(etr[1], dtr[1])"
      ],
      "execution_count": 60,
      "outputs": [
        {
          "output_type": "stream",
          "text": [
            "/usr/local/lib/python3.6/dist-packages/seaborn/_decorators.py:43: FutureWarning: Pass the following variables as keyword args: x, y. From version 0.12, the only valid positional argument will be `data`, and passing other arguments without an explicit keyword will result in an error or misinterpretation.\n",
            "  FutureWarning\n"
          ],
          "name": "stderr"
        },
        {
          "output_type": "execute_result",
          "data": {
            "text/plain": [
              "<matplotlib.axes._subplots.AxesSubplot at 0x7f6e7a327eb8>"
            ]
          },
          "metadata": {
            "tags": []
          },
          "execution_count": 60
        },
        {
          "output_type": "display_data",
          "data": {
            "image/png": "[encoded data removed]",
            "text/plain": [
              "<Figure size 432x288 with 1 Axes>"
            ]
          },
          "metadata": {
            "tags": [],
            "needs_background": "light"
          }
        }
      ]
    },
    {
      "cell_type": "code",
      "metadata": {
        "id": "TUFefX6WP2ta"
      },
      "source": [
        ""
      ],
      "execution_count": null,
      "outputs": []
    },
    {
      "cell_type": "code",
      "metadata": {
        "id": "ft6QBFwzP212"
      },
      "source": [
        ""
      ],
      "execution_count": null,
      "outputs": []
    },
    {
      "cell_type": "code",
      "metadata": {
        "id": "1kKkSLtKP2_m"
      },
      "source": [
        ""
      ],
      "execution_count": null,
      "outputs": []
    },
    {
      "cell_type": "code",
      "metadata": {
        "id": "r7HdjQHyP3FT"
      },
      "source": [
        ""
      ],
      "execution_count": null,
      "outputs": []
    },
    {
      "cell_type": "code",
      "metadata": {
        "id": "X3M0UPApP3JN"
      },
      "source": [
        ""
      ],
      "execution_count": null,
      "outputs": []
    },
    {
      "cell_type": "code",
      "metadata": {
        "id": "mOfh0VYhP3OC"
      },
      "source": [
        ""
      ],
      "execution_count": null,
      "outputs": []
    },
    {
      "cell_type": "code",
      "metadata": {
        "id": "y5XcyZqKP3VE"
      },
      "source": [
        ""
      ],
      "execution_count": null,
      "outputs": []
    },
    {
      "cell_type": "code",
      "metadata": {
        "id": "jS5IFvpWP3a8"
      },
      "source": [
        ""
      ],
      "execution_count": null,
      "outputs": []
    },
    {
      "cell_type": "code",
      "metadata": {
        "id": "XJ_KrlU_P3iD"
      },
      "source": [
        ""
      ],
      "execution_count": null,
      "outputs": []
    },
    {
      "cell_type": "code",
      "metadata": {
        "id": "rYSiHGHcP3lv"
      },
      "source": [
        ""
      ],
      "execution_count": null,
      "outputs": []
    },
    {
      "cell_type": "code",
      "metadata": {
        "id": "z7jKkkIYP3r_"
      },
      "source": [
        ""
      ],
      "execution_count": null,
      "outputs": []
    },
    {
      "cell_type": "code",
      "metadata": {
        "id": "sFSLEBicP3zI"
      },
      "source": [
        ""
      ],
      "execution_count": null,
      "outputs": []
    },
    {
      "cell_type": "code",
      "metadata": {
        "id": "K8-JQdE2P32z"
      },
      "source": [
        ""
      ],
      "execution_count": null,
      "outputs": []
    },
    {
      "cell_type": "code",
      "metadata": {
        "id": "CJ-X1doaP39i"
      },
      "source": [
        ""
      ],
      "execution_count": null,
      "outputs": []
    },
    {
      "cell_type": "code",
      "metadata": {
        "id": "xVYBeEJpP4BD"
      },
      "source": [
        "X_train_1 = pd.concat([pd.DataFrame(svm[0]), pd.DataFrame(dtr[0]), pd.DataFrame(etr[0]), pd.DataFrame(rfr[0])], \r\n",
        "               axis=1, ignore_index=True)\r\n",
        "X_train_1.columns = ['SVM', 'DT', 'ET', 'RF']\r\n",
        "\r\n",
        "X_test_1 = pd.concat([pd.DataFrame(svm[1]), pd.DataFrame(dtr[1]), pd.DataFrame(etr[1]), pd.DataFrame(rfr[1])], \r\n",
        "               axis=1, ignore_index=True)\r\n",
        "X_test_1.columns = ['SVM', 'DT', 'ET', 'RF']"
      ],
      "execution_count": 6,
      "outputs": []
    },
    {
      "cell_type": "code",
      "metadata": {
        "colab": {
          "base_uri": "https://localhost:8080/",
          "height": 419
        },
        "id": "mqCkRXQuP4Er",
        "outputId": "7dd62b35-b321-410c-e5cb-f50b8ba91ee9"
      },
      "source": [
        "X_train_1"
      ],
      "execution_count": 7,
      "outputs": [
        {
          "output_type": "execute_result",
          "data": {
            "text/html": [
              "<div>\n",
              "<style scoped>\n",
              "    .dataframe tbody tr th:only-of-type {\n",
              "        vertical-align: middle;\n",
              "    }\n",
              "\n",
              "    .dataframe tbody tr th {\n",
              "        vertical-align: top;\n",
              "    }\n",
              "\n",
              "    .dataframe thead th {\n",
              "        text-align: right;\n",
              "    }\n",
              "</style>\n",
              "<table border=\"1\" class=\"dataframe\">\n",
              "  <thead>\n",
              "    <tr style=\"text-align: right;\">\n",
              "      <th></th>\n",
              "      <th>SVM</th>\n",
              "      <th>DT</th>\n",
              "      <th>ET</th>\n",
              "      <th>RF</th>\n",
              "    </tr>\n",
              "  </thead>\n",
              "  <tbody>\n",
              "    <tr>\n",
              "      <th>0</th>\n",
              "      <td>69.535525</td>\n",
              "      <td>69.499952</td>\n",
              "      <td>69.499952</td>\n",
              "      <td>69.492390</td>\n",
              "    </tr>\n",
              "    <tr>\n",
              "      <th>1</th>\n",
              "      <td>64.207619</td>\n",
              "      <td>64.362858</td>\n",
              "      <td>64.362950</td>\n",
              "      <td>64.363996</td>\n",
              "    </tr>\n",
              "    <tr>\n",
              "      <th>2</th>\n",
              "      <td>67.501814</td>\n",
              "      <td>67.450275</td>\n",
              "      <td>67.450122</td>\n",
              "      <td>67.449939</td>\n",
              "    </tr>\n",
              "    <tr>\n",
              "      <th>3</th>\n",
              "      <td>68.647638</td>\n",
              "      <td>68.809562</td>\n",
              "      <td>68.809562</td>\n",
              "      <td>68.811201</td>\n",
              "    </tr>\n",
              "    <tr>\n",
              "      <th>4</th>\n",
              "      <td>74.643672</td>\n",
              "      <td>74.565728</td>\n",
              "      <td>74.565723</td>\n",
              "      <td>74.566641</td>\n",
              "    </tr>\n",
              "    <tr>\n",
              "      <th>...</th>\n",
              "      <td>...</td>\n",
              "      <td>...</td>\n",
              "      <td>...</td>\n",
              "      <td>...</td>\n",
              "    </tr>\n",
              "    <tr>\n",
              "      <th>369284</th>\n",
              "      <td>83.532722</td>\n",
              "      <td>83.384640</td>\n",
              "      <td>83.384875</td>\n",
              "      <td>83.384526</td>\n",
              "    </tr>\n",
              "    <tr>\n",
              "      <th>369285</th>\n",
              "      <td>61.184053</td>\n",
              "      <td>61.314243</td>\n",
              "      <td>61.314243</td>\n",
              "      <td>61.315987</td>\n",
              "    </tr>\n",
              "    <tr>\n",
              "      <th>369286</th>\n",
              "      <td>59.288429</td>\n",
              "      <td>59.028594</td>\n",
              "      <td>59.028592</td>\n",
              "      <td>59.025671</td>\n",
              "    </tr>\n",
              "    <tr>\n",
              "      <th>369287</th>\n",
              "      <td>76.077065</td>\n",
              "      <td>75.978506</td>\n",
              "      <td>75.978614</td>\n",
              "      <td>75.977573</td>\n",
              "    </tr>\n",
              "    <tr>\n",
              "      <th>369288</th>\n",
              "      <td>74.432224</td>\n",
              "      <td>74.198070</td>\n",
              "      <td>74.197922</td>\n",
              "      <td>74.197260</td>\n",
              "    </tr>\n",
              "  </tbody>\n",
              "</table>\n",
              "<p>369289 rows × 4 columns</p>\n",
              "</div>"
            ],
            "text/plain": [
              "              SVM         DT         ET         RF\n",
              "0       69.535525  69.499952  69.499952  69.492390\n",
              "1       64.207619  64.362858  64.362950  64.363996\n",
              "2       67.501814  67.450275  67.450122  67.449939\n",
              "3       68.647638  68.809562  68.809562  68.811201\n",
              "4       74.643672  74.565728  74.565723  74.566641\n",
              "...           ...        ...        ...        ...\n",
              "369284  83.532722  83.384640  83.384875  83.384526\n",
              "369285  61.184053  61.314243  61.314243  61.315987\n",
              "369286  59.288429  59.028594  59.028592  59.025671\n",
              "369287  76.077065  75.978506  75.978614  75.977573\n",
              "369288  74.432224  74.198070  74.197922  74.197260\n",
              "\n",
              "[369289 rows x 4 columns]"
            ]
          },
          "metadata": {
            "tags": []
          },
          "execution_count": 7
        }
      ]
    },
    {
      "cell_type": "code",
      "metadata": {
        "colab": {
          "base_uri": "https://localhost:8080/"
        },
        "id": "eleJ0oWQP4Kx",
        "outputId": "18526c17-f4f0-4676-9559-a429c46ed859"
      },
      "source": [
        "y_train"
      ],
      "execution_count": 79,
      "outputs": [
        {
          "output_type": "execute_result",
          "data": {
            "text/plain": [
              "0         69.499952\n",
              "1         64.363150\n",
              "2         67.450066\n",
              "3         68.809562\n",
              "4         74.565728\n",
              "            ...    \n",
              "369284    83.384647\n",
              "369285    61.314243\n",
              "369286    59.028594\n",
              "369287    75.978628\n",
              "369288    74.197905\n",
              "Name: HR, Length: 369289, dtype: float64"
            ]
          },
          "metadata": {
            "tags": []
          },
          "execution_count": 79
        }
      ]
    },
    {
      "cell_type": "code",
      "metadata": {
        "colab": {
          "base_uri": "https://localhost:8080/"
        },
        "id": "QFuJt1jRTd8I",
        "outputId": "bf3dd0e0-af24-460b-cb65-a5dedc42e99b"
      },
      "source": [
        "from scipy.stats.mstats import gmean, hmean\r\n",
        "print(mean_absolute_error(y_train, hmean(X_train_1[['DT','ET','RF']], axis = 1)))\r\n"
      ],
      "execution_count": 89,
      "outputs": [
        {
          "output_type": "stream",
          "text": [
            "0.0007528552712225292\n"
          ],
          "name": "stdout"
        }
      ]
    },
    {
      "cell_type": "code",
      "metadata": {
        "id": "ZXHu2G8AURlo"
      },
      "source": [
        "y_test_predict = hmean(X_test_1[['DT','ET','RF']], axis = 1)\r\n",
        "\r\n",
        "df = pd.concat([pd.DataFrame(y_id),pd.DataFrame(y_test_predict)], axis=1, ignore_index=True)\r\n",
        "df.columns = ['uuid','HR']\r\n",
        "df.to_csv('Submission.csv', index=False)\r\n"
      ],
      "execution_count": 90,
      "outputs": []
    },
    {
      "cell_type": "code",
      "metadata": {
        "id": "i8IdRQSWWu7l"
      },
      "source": [
        "from sklearn.preprocessing import StandardScaler, MinMaxScaler\r\n",
        "\r\n",
        "scaler = StandardScaler()\r\n",
        "cols = ['SVM', 'DT', 'ET', 'RF']\r\n",
        "\r\n",
        "X_train_1[cols] = scaler.fit_transform(X_train_1[cols])\r\n",
        "X_test_1[cols] = scaler.transform(X_test_1[cols])\r\n"
      ],
      "execution_count": 8,
      "outputs": []
    },
    {
      "cell_type": "code",
      "metadata": {
        "colab": {
          "base_uri": "https://localhost:8080/",
          "height": 419
        },
        "id": "5bj1V_5-XGp0",
        "outputId": "389db7f2-e51f-4a5e-a614-b3862438e8c8"
      },
      "source": [
        "X_train_1"
      ],
      "execution_count": 9,
      "outputs": [
        {
          "output_type": "execute_result",
          "data": {
            "text/html": [
              "<div>\n",
              "<style scoped>\n",
              "    .dataframe tbody tr th:only-of-type {\n",
              "        vertical-align: middle;\n",
              "    }\n",
              "\n",
              "    .dataframe tbody tr th {\n",
              "        vertical-align: top;\n",
              "    }\n",
              "\n",
              "    .dataframe thead th {\n",
              "        text-align: right;\n",
              "    }\n",
              "</style>\n",
              "<table border=\"1\" class=\"dataframe\">\n",
              "  <thead>\n",
              "    <tr style=\"text-align: right;\">\n",
              "      <th></th>\n",
              "      <th>SVM</th>\n",
              "      <th>DT</th>\n",
              "      <th>ET</th>\n",
              "      <th>RF</th>\n",
              "    </tr>\n",
              "  </thead>\n",
              "  <tbody>\n",
              "    <tr>\n",
              "      <th>0</th>\n",
              "      <td>-0.421539</td>\n",
              "      <td>-0.429688</td>\n",
              "      <td>-0.429688</td>\n",
              "      <td>-0.430416</td>\n",
              "    </tr>\n",
              "    <tr>\n",
              "      <th>1</th>\n",
              "      <td>-0.936385</td>\n",
              "      <td>-0.926628</td>\n",
              "      <td>-0.926620</td>\n",
              "      <td>-0.926519</td>\n",
              "    </tr>\n",
              "    <tr>\n",
              "      <th>2</th>\n",
              "      <td>-0.618061</td>\n",
              "      <td>-0.627965</td>\n",
              "      <td>-0.627980</td>\n",
              "      <td>-0.627996</td>\n",
              "    </tr>\n",
              "    <tr>\n",
              "      <th>3</th>\n",
              "      <td>-0.507337</td>\n",
              "      <td>-0.496473</td>\n",
              "      <td>-0.496473</td>\n",
              "      <td>-0.496312</td>\n",
              "    </tr>\n",
              "    <tr>\n",
              "      <th>4</th>\n",
              "      <td>0.072071</td>\n",
              "      <td>0.060354</td>\n",
              "      <td>0.060353</td>\n",
              "      <td>0.060449</td>\n",
              "    </tr>\n",
              "    <tr>\n",
              "      <th>...</th>\n",
              "      <td>...</td>\n",
              "      <td>...</td>\n",
              "      <td>...</td>\n",
              "      <td>...</td>\n",
              "    </tr>\n",
              "    <tr>\n",
              "      <th>369284</th>\n",
              "      <td>0.931036</td>\n",
              "      <td>0.913458</td>\n",
              "      <td>0.913481</td>\n",
              "      <td>0.913460</td>\n",
              "    </tr>\n",
              "    <tr>\n",
              "      <th>369285</th>\n",
              "      <td>-1.228558</td>\n",
              "      <td>-1.221539</td>\n",
              "      <td>-1.221539</td>\n",
              "      <td>-1.221373</td>\n",
              "    </tr>\n",
              "    <tr>\n",
              "      <th>369286</th>\n",
              "      <td>-1.411735</td>\n",
              "      <td>-1.442643</td>\n",
              "      <td>-1.442643</td>\n",
              "      <td>-1.442930</td>\n",
              "    </tr>\n",
              "    <tr>\n",
              "      <th>369287</th>\n",
              "      <td>0.210582</td>\n",
              "      <td>0.197020</td>\n",
              "      <td>0.197030</td>\n",
              "      <td>0.196938</td>\n",
              "    </tr>\n",
              "    <tr>\n",
              "      <th>369288</th>\n",
              "      <td>0.051638</td>\n",
              "      <td>0.024788</td>\n",
              "      <td>0.024774</td>\n",
              "      <td>0.024716</td>\n",
              "    </tr>\n",
              "  </tbody>\n",
              "</table>\n",
              "<p>369289 rows × 4 columns</p>\n",
              "</div>"
            ],
            "text/plain": [
              "             SVM        DT        ET        RF\n",
              "0      -0.421539 -0.429688 -0.429688 -0.430416\n",
              "1      -0.936385 -0.926628 -0.926620 -0.926519\n",
              "2      -0.618061 -0.627965 -0.627980 -0.627996\n",
              "3      -0.507337 -0.496473 -0.496473 -0.496312\n",
              "4       0.072071  0.060354  0.060353  0.060449\n",
              "...          ...       ...       ...       ...\n",
              "369284  0.931036  0.913458  0.913481  0.913460\n",
              "369285 -1.228558 -1.221539 -1.221539 -1.221373\n",
              "369286 -1.411735 -1.442643 -1.442643 -1.442930\n",
              "369287  0.210582  0.197020  0.197030  0.196938\n",
              "369288  0.051638  0.024788  0.024774  0.024716\n",
              "\n",
              "[369289 rows x 4 columns]"
            ]
          },
          "metadata": {
            "tags": []
          },
          "execution_count": 9
        }
      ]
    },
    {
      "cell_type": "code",
      "metadata": {
        "colab": {
          "base_uri": "https://localhost:8080/"
        },
        "id": "YUMFZUD6b_sf",
        "outputId": "774929d3-df4a-4701-e07c-a41735d280ad"
      },
      "source": [
        "!pip install xgboost"
      ],
      "execution_count": 123,
      "outputs": [
        {
          "output_type": "stream",
          "text": [
            "Requirement already satisfied: xgboost in /usr/local/lib/python3.6/dist-packages (0.90)\n",
            "Requirement already satisfied: numpy in /usr/local/lib/python3.6/dist-packages (from xgboost) (1.19.4)\n",
            "Requirement already satisfied: scipy in /usr/local/lib/python3.6/dist-packages (from xgboost) (1.4.1)\n"
          ],
          "name": "stdout"
        }
      ]
    },
    {
      "cell_type": "code",
      "metadata": {
        "colab": {
          "base_uri": "https://localhost:8080/"
        },
        "id": "15W19Xn9jev3",
        "outputId": "6fece5c4-bc9a-4c78-e91d-95d58a8b028b"
      },
      "source": [
        "! pip install lightgbm"
      ],
      "execution_count": 40,
      "outputs": [
        {
          "output_type": "stream",
          "text": [
            "Requirement already satisfied: lightgbm in /usr/local/lib/python3.6/dist-packages (2.2.3)\n",
            "Requirement already satisfied: scikit-learn in /usr/local/lib/python3.6/dist-packages (from lightgbm) (0.22.2.post1)\n",
            "Requirement already satisfied: numpy in /usr/local/lib/python3.6/dist-packages (from lightgbm) (1.19.4)\n",
            "Requirement already satisfied: scipy in /usr/local/lib/python3.6/dist-packages (from lightgbm) (1.4.1)\n",
            "Requirement already satisfied: joblib>=0.11 in /usr/local/lib/python3.6/dist-packages (from scikit-learn->lightgbm) (1.0.0)\n"
          ],
          "name": "stdout"
        }
      ]
    },
    {
      "cell_type": "code",
      "metadata": {
        "colab": {
          "base_uri": "https://localhost:8080/"
        },
        "id": "fTlQMFz8lLNd",
        "outputId": "78f02ff1-0b1d-4775-e195-81ab9d689163"
      },
      "source": [
        "! pip install catboost"
      ],
      "execution_count": 56,
      "outputs": [
        {
          "output_type": "stream",
          "text": [
            "Collecting catboost\n",
            "\u001b[?25l  Downloading https://files.pythonhosted.org/packages/7e/c1/c1c4707013f9e2f8a96899dd3a87f66c9167d6d776a6dc8fe7ec8678d446/catboost-0.24.3-cp36-none-manylinux1_x86_64.whl (66.3MB)\n",
            "\u001b[K     |████████████████████████████████| 66.3MB 51kB/s \n",
            "\u001b[?25hRequirement already satisfied: scipy in /usr/local/lib/python3.6/dist-packages (from catboost) (1.4.1)\n",
            "Requirement already satisfied: six in /usr/local/lib/python3.6/dist-packages (from catboost) (1.15.0)\n",
            "Requirement already satisfied: matplotlib in /usr/local/lib/python3.6/dist-packages (from catboost) (3.2.2)\n",
            "Requirement already satisfied: plotly in /usr/local/lib/python3.6/dist-packages (from catboost) (4.4.1)\n",
            "Requirement already satisfied: numpy>=1.16.0 in /usr/local/lib/python3.6/dist-packages (from catboost) (1.19.4)\n",
            "Requirement already satisfied: graphviz in /usr/local/lib/python3.6/dist-packages (from catboost) (0.10.1)\n",
            "Requirement already satisfied: pandas>=0.24.0 in /usr/local/lib/python3.6/dist-packages (from catboost) (1.1.5)\n",
            "Requirement already satisfied: kiwisolver>=1.0.1 in /usr/local/lib/python3.6/dist-packages (from matplotlib->catboost) (1.3.1)\n",
            "Requirement already satisfied: cycler>=0.10 in /usr/local/lib/python3.6/dist-packages (from matplotlib->catboost) (0.10.0)\n",
            "Requirement already satisfied: python-dateutil>=2.1 in /usr/local/lib/python3.6/dist-packages (from matplotlib->catboost) (2.8.1)\n",
            "Requirement already satisfied: pyparsing!=2.0.4,!=2.1.2,!=2.1.6,>=2.0.1 in /usr/local/lib/python3.6/dist-packages (from matplotlib->catboost) (2.4.7)\n",
            "Requirement already satisfied: retrying>=1.3.3 in /usr/local/lib/python3.6/dist-packages (from plotly->catboost) (1.3.3)\n",
            "Requirement already satisfied: pytz>=2017.2 in /usr/local/lib/python3.6/dist-packages (from pandas>=0.24.0->catboost) (2018.9)\n",
            "Installing collected packages: catboost\n",
            "Successfully installed catboost-0.24.3\n"
          ],
          "name": "stdout"
        }
      ]
    },
    {
      "cell_type": "code",
      "metadata": {
        "id": "GRVwh31SWdYg"
      },
      "source": [
        "from catboost import CatBoostRegressor\r\n",
        "\r\n",
        "model = CatBoostRegressor()\r\n",
        "\r\n",
        "model.fit(X_train_1, y_train)\r\n",
        "\r\n",
        "y_test_predict = model.predict(X_test_1)\r\n",
        "y_train_predict = model.predict(X_train_1)\r\n",
        "\r\n"
      ],
      "execution_count": null,
      "outputs": []
    },
    {
      "cell_type": "code",
      "metadata": {
        "colab": {
          "base_uri": "https://localhost:8080/"
        },
        "id": "A93ozK-wXS2l",
        "outputId": "40d5b1e3-b9f9-4659-a941-a8f6f6386bdd"
      },
      "source": [
        "from sklearn.metrics import mean_absolute_error\r\n",
        "\r\n",
        "print(mean_absolute_error(y_train, y_train_predict))"
      ],
      "execution_count": 58,
      "outputs": [
        {
          "output_type": "stream",
          "text": [
            "0.0570257921555423\n"
          ],
          "name": "stdout"
        }
      ]
    },
    {
      "cell_type": "code",
      "metadata": {
        "colab": {
          "base_uri": "https://localhost:8080/"
        },
        "id": "scRwR30blxsD",
        "outputId": "0396464f-ba50-49b8-870a-86a18dac7b48"
      },
      "source": [
        "from sklearn.ensemble import StackingRegressor\r\n",
        "\r\n",
        "model = StackingRegressor([\r\n",
        "          ('catReg', CatBoostRegressor()),\r\n",
        "          ('ligReg', LGBMRegressor())\r\n",
        "])\r\n",
        "\r\n",
        "model.fit(X_train_1, y_train)\r\n",
        "\r\n",
        "y_test_predict = model.predict(X_test_1)\r\n",
        "y_train_predict = model.predict(X_train_1)\r\n",
        "\r\n",
        "print(mean_absolute_error(y_train, y_train_predict))"
      ],
      "execution_count": 59,
      "outputs": [
        {
          "output_type": "stream",
          "text": [
            "0.049263646918843766\n"
          ],
          "name": "stdout"
        }
      ]
    },
    {
      "cell_type": "code",
      "metadata": {
        "colab": {
          "base_uri": "https://localhost:8080/"
        },
        "id": "wrt5NeMpXbeb",
        "outputId": "15bebe7d-7b4b-4d2f-dbb3-20a1ad8621e2"
      },
      "source": [
        "y_test_predict"
      ],
      "execution_count": 60,
      "outputs": [
        {
          "output_type": "execute_result",
          "data": {
            "text/plain": [
              "array([64.67244512, 73.80993074, 69.2330835 , ..., 60.91170026,\n",
              "       77.40566113, 76.60338533])"
            ]
          },
          "metadata": {
            "tags": []
          },
          "execution_count": 60
        }
      ]
    },
    {
      "cell_type": "code",
      "metadata": {
        "id": "fuKfDtiBXgCr"
      },
      "source": [
        "df = pd.concat([pd.DataFrame(y_id),pd.DataFrame(y_test_predict)], axis=1, ignore_index=True)\r\n",
        "df.columns = ['uuid','HR']\r\n",
        "df.to_csv('Submission.csv', index=False)"
      ],
      "execution_count": 39,
      "outputs": []
    },
    {
      "cell_type": "code",
      "metadata": {
        "colab": {
          "base_uri": "https://localhost:8080/",
          "height": 390
        },
        "id": "pG6m5jznXkX7",
        "outputId": "d5be59c9-a0d9-4e7a-accd-98031de3bad6"
      },
      "source": [
        "sns.distplot(X_train_1['ET'], kde=False, rug=True)"
      ],
      "execution_count": 35,
      "outputs": [
        {
          "output_type": "stream",
          "text": [
            "/usr/local/lib/python3.6/dist-packages/seaborn/distributions.py:2551: FutureWarning: `distplot` is a deprecated function and will be removed in a future version. Please adapt your code to use either `displot` (a figure-level function with similar flexibility) or `histplot` (an axes-level function for histograms).\n",
            "  warnings.warn(msg, FutureWarning)\n",
            "/usr/local/lib/python3.6/dist-packages/seaborn/distributions.py:2055: FutureWarning: The `axis` variable is no longer used and will be removed. Instead, assign variables directly to `x` or `y`.\n",
            "  warnings.warn(msg, FutureWarning)\n"
          ],
          "name": "stderr"
        },
        {
          "output_type": "execute_result",
          "data": {
            "text/plain": [
              "<matplotlib.axes._subplots.AxesSubplot at 0x7fcfb2a27550>"
            ]
          },
          "metadata": {
            "tags": []
          },
          "execution_count": 35
        },
        {
          "output_type": "display_data",
          "data": {
            "image/png": "[encoded data removed]",
            "text/plain": [
              "<Figure size 432x288 with 1 Axes>"
            ]
          },
          "metadata": {
            "tags": [],
            "needs_background": "light"
          }
        }
      ]
    },
    {
      "cell_type": "code",
      "metadata": {
        "id": "Euw-BQrEh2Yn"
      },
      "source": [
        ""
      ],
      "execution_count": null,
      "outputs": []
    }
  ]
}