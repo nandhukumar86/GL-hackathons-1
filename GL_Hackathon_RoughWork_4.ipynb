{
  "nbformat": 4,
  "nbformat_minor": 0,
  "metadata": {
    "colab": {
      "name": "GL-Hackathon-RoughWork-4.ipynb",
      "provenance": [],
      "collapsed_sections": [],
      "mount_file_id": "1IwuFVxm9iVbjRaCaFHXr7U9WDhy0D1P3",
      "authorship_tag": "ABX9TyNvXecCCa3G75amGPjG0z/9",
      "include_colab_link": true
    },
    "kernelspec": {
      "name": "python3",
      "display_name": "Python 3"
    }
  },
  "cells": [
    {
      "cell_type": "markdown",
      "metadata": {
        "id": "view-in-github",
        "colab_type": "text"
      },
      "source": [
        "<a href=\"https://colab.research.google.com/github/nandhukumar86/GL-hackathons-1/blob/main/GL_Hackathon_RoughWork_4.ipynb\" target=\"_parent\"><img src=\"https://colab.research.google.com/assets/colab-badge.svg\" alt=\"Open In Colab\"/></a>"
      ]
    },
    {
      "cell_type": "code",
      "metadata": {
        "id": "q1d2C7ItLsq6"
      },
      "source": [
        "import numpy as np\n",
        "import pandas as pd\n",
        "import seaborn as sns\n",
        "import matplotlib.pyplot as plt\n",
        "sns.set(color_codes=True)\n",
        "%matplotlib inline\n",
        "\n",
        "import os\n"
      ],
      "execution_count": 100,
      "outputs": []
    },
    {
      "cell_type": "code",
      "metadata": {
        "id": "BmXpcYX4qDAz"
      },
      "source": [
        "os.chdir('D:\\AIMLData\\GL_Hackathon')"
      ],
      "execution_count": 101,
      "outputs": []
    },
    {
      "cell_type": "code",
      "metadata": {
        "id": "fyY1DLcZL1qu"
      },
      "source": [
        "# fd_train = pd.read_csv('/content/drive/MyDrive/Colab Notebooks/GL_Hackathon/frequency_domain_features_train.csv')\n",
        "# fd_test = pd.read_csv('/content/drive/MyDrive/Colab Notebooks/GL_Hackathon/frequency_domain_features_test.csv')\n",
        "# td_train = pd.read_csv('/content/drive/MyDrive/Colab Notebooks/GL_Hackathon/time_domain_features_train.csv')\n",
        "# td_test = pd.read_csv('/content/drive/MyDrive/Colab Notebooks/GL_Hackathon/time_domain_features_test.csv')\n",
        "# hr_train = pd.read_csv('/content/drive/MyDrive/Colab Notebooks/GL_Hackathon/heart_rate_non_linear_features_train.csv')\n",
        "# hr_test = pd.read_csv('/content/drive/MyDrive/Colab Notebooks/GL_Hackathon/heart_rate_non_linear_features_test.csv')\n",
        "\n",
        "fd_train = pd.read_csv('frequency_domain_features_train.csv')\n",
        "fd_test = pd.read_csv('frequency_domain_features_test.csv')\n",
        "td_train = pd.read_csv('time_domain_features_train.csv')\n",
        "td_test = pd.read_csv('time_domain_features_test.csv')\n",
        "hr_train = pd.read_csv('heart_rate_non_linear_features_train.csv')\n",
        "hr_test = pd.read_csv('heart_rate_non_linear_features_test.csv')"
      ],
      "execution_count": 102,
      "outputs": []
    },
    {
      "cell_type": "code",
      "metadata": {
        "id": "EFU4clo0MUY8"
      },
      "source": [
        "df3 = pd.merge(fd_train, td_train, how='outer', on='uuid')\n",
        "df_train = pd.merge(df3, hr_train, how='outer', on='uuid')"
      ],
      "execution_count": 103,
      "outputs": []
    },
    {
      "cell_type": "code",
      "metadata": {
        "id": "yx0hcX1jMej7"
      },
      "source": [
        "df2 = pd.merge(fd_test, td_test, how='outer', on='uuid')\n",
        "df_test = pd.merge(df2, hr_test, how='outer', on='uuid')"
      ],
      "execution_count": 104,
      "outputs": []
    },
    {
      "cell_type": "code",
      "metadata": {
        "id": "pkd8oPWBMf4t"
      },
      "source": [
        "y_train = df_train.pop('HR')\n",
        "X_train = df_train.copy(deep = True)\n",
        "X_test = df_test.copy(deep = True)"
      ],
      "execution_count": 105,
      "outputs": []
    },
    {
      "cell_type": "code",
      "metadata": {
        "id": "6oYj222pMhUb"
      },
      "source": [
        "X_train.drop(columns= ['datasetId'], inplace=True)\n",
        "X_test.drop(columns= ['datasetId'], inplace=True)\n",
        "X_train.drop(columns= ['uuid'], inplace=True)\n",
        "y_id = X_test.pop('uuid')\n",
        "X_train.drop(columns= ['SKEW_REL_RR','KURT_REL_RR'], inplace=True)\n",
        "X_test.drop(columns= ['SKEW_REL_RR','KURT_REL_RR'], inplace=True)\n",
        "X_train.drop(columns= ['SDSD_REL_RR'], inplace=True) \n",
        "X_test.drop(columns= ['SDSD_REL_RR'], inplace=True) "
      ],
      "execution_count": 106,
      "outputs": []
    },
    {
      "cell_type": "code",
      "metadata": {
        "id": "-FRPp0tOJe48"
      },
      "source": [
        "cols = ['VLF', 'VLF_PCT', 'LF', 'LF_PCT', 'LF_NU', 'HF', 'HF_PCT', 'HF_NU',\n",
        "       'TP', 'LF_HF', 'HF_LF', 'MEAN_RR', 'MEDIAN_RR', 'SDRR', 'RMSSD', 'SDSD',\n",
        "       'SDRR_RMSSD', 'pNN25', 'pNN50', 'KURT', 'SKEW', 'MEAN_REL_RR',\n",
        "       'MEDIAN_REL_RR', 'SDRR_REL_RR', 'RMSSD_REL_RR', 'SDRR_RMSSD_REL_RR',\n",
        "       'SD1', 'SD2', 'sampen', 'higuci']"
      ],
      "execution_count": 107,
      "outputs": []
    },
    {
      "cell_type": "code",
      "metadata": {
        "colab": {
          "base_uri": "https://localhost:8080/"
        },
        "id": "xXhKFFrpt2xH",
        "outputId": "2849fea3-b2bd-4542-9b17-dfd42741dcaf"
      },
      "source": [
        "X_test['condition'].value_counts()"
      ],
      "execution_count": 108,
      "outputs": [
        {
          "output_type": "execute_result",
          "data": {
            "text/plain": [
              "no stress        22158\n",
              "interruption     11782\n",
              "time pressure     7093\n",
              "Name: condition, dtype: int64"
            ]
          },
          "metadata": {
            "tags": []
          },
          "execution_count": 108
        }
      ]
    },
    {
      "cell_type": "markdown",
      "metadata": {
        "id": "2DiGzSwxryZ-"
      },
      "source": [
        "# Feature Selection using RFECV"
      ]
    },
    {
      "cell_type": "code",
      "metadata": {
        "id": "B65GCvmdryKy"
      },
      "source": [
        "# from sklearn.feature_selection import RFECV\r\n",
        "# from sklearn.linear_model import LassoCV, Lasso\r\n",
        "\r\n",
        "# fs = RFECV(Lasso(), n_jobs= 8)\r\n",
        "\r\n",
        "# sample = fs.fit_transform(X_train[cols], y_train)"
      ],
      "execution_count": 9,
      "outputs": []
    },
    {
      "cell_type": "code",
      "metadata": {
        "id": "h61xq2ldryC4",
        "colab": {
          "base_uri": "https://localhost:8080/"
        },
        "outputId": "67250af4-8665-4618-c505-c90c96ba48f9"
      },
      "source": [
        "# sample_columns = pd.DataFrame(fs.ranking_,cols)\r\n",
        "# cols_rfecv = sample_columns[sample_columns[0]==1].index\r\n",
        "# cols_rfecv"
      ],
      "execution_count": 10,
      "outputs": [
        {
          "output_type": "execute_result",
          "data": {
            "text/plain": [
              "Index(['VLF_PCT', 'LF', 'HF', 'LF_HF', 'MEAN_RR', 'MEDIAN_RR', 'SD2'], dtype='object')"
            ]
          },
          "metadata": {
            "tags": []
          },
          "execution_count": 10
        }
      ]
    },
    {
      "cell_type": "markdown",
      "metadata": {
        "id": "TcfUriLV6TbP"
      },
      "source": [
        "RFECV with Lasso: ['VLF_PCT', 'LF', 'HF', 'LF_HF', 'MEAN_RR', 'MEDIAN_RR', 'SD2']"
      ]
    },
    {
      "cell_type": "code",
      "metadata": {
        "id": "F6n4TLHLrx8G"
      },
      "source": [
        "cols_rfecv = ['VLF_PCT', 'LF', 'HF', 'LF_HF', 'MEAN_RR', 'MEDIAN_RR', 'SD2']\r\n",
        "\r\n",
        "X_train = X_train[cols_rfecv]\r\n",
        "X_test = X_test[cols_rfecv]"
      ],
      "execution_count": 109,
      "outputs": []
    },
    {
      "cell_type": "code",
      "metadata": {
        "id": "2g_GjHJwrx1C"
      },
      "source": [
        "X_train['condition'] = hr_train['condition']\r\n",
        "X_test['condition'] = hr_test['condition']"
      ],
      "execution_count": 110,
      "outputs": []
    },
    {
      "cell_type": "code",
      "metadata": {
        "id": "65IUmtS5zTcI"
      },
      "source": [
        "corr_matrix = X_train.corr()            \r\n",
        "upper = corr_matrix.abs().where(np.triu(np.ones(corr_matrix.shape), k = 1).astype(np.bool))\r\n",
        "high_correlation_features = [column for column in upper.columns if any(upper[column] > 0.6)]\r\n"
      ],
      "execution_count": 111,
      "outputs": []
    },
    {
      "cell_type": "code",
      "metadata": {
        "colab": {
          "base_uri": "https://localhost:8080/"
        },
        "id": "dBwtLHO49faV",
        "outputId": "a3c23326-fb27-4562-db9d-06bc7e6db334"
      },
      "source": [
        "high_correlation_features"
      ],
      "execution_count": 112,
      "outputs": [
        {
          "output_type": "execute_result",
          "data": {
            "text/plain": [
              "['MEDIAN_RR']"
            ]
          },
          "metadata": {
            "tags": []
          },
          "execution_count": 112
        }
      ]
    },
    {
      "cell_type": "code",
      "metadata": {
        "id": "Wd2Jaj3n9fSe"
      },
      "source": [
        "X_train.drop(columns= ['MEDIAN_RR'], inplace=True)\r\n",
        "X_test.drop(columns= ['MEDIAN_RR'], inplace=True)"
      ],
      "execution_count": 113,
      "outputs": []
    },
    {
      "cell_type": "code",
      "metadata": {
        "id": "gZn_AH_F9fGe"
      },
      "source": [
        "categorical_columns = X_train.describe(include = ['O']).columns\r\n",
        "numerical_columns = X_train.describe().columns"
      ],
      "execution_count": 114,
      "outputs": []
    },
    {
      "cell_type": "code",
      "metadata": {
        "id": "A5s7OicxsqFX"
      },
      "source": [
        "final_cols = ['VLF_PCT', 'LF', 'HF', 'LF_HF', 'MEAN_RR', 'SD2']"
      ],
      "execution_count": 115,
      "outputs": []
    },
    {
      "cell_type": "markdown",
      "metadata": {
        "id": "j-STZax8BJX0"
      },
      "source": [
        "# Model"
      ]
    },
    {
      "cell_type": "code",
      "metadata": {
        "id": "L7naEDxgM6eK"
      },
      "source": [
        "from sklearn.compose import ColumnTransformer\n",
        "from sklearn.pipeline import Pipeline\n",
        "from sklearn.preprocessing import OneHotEncoder\n",
        "from sklearn.preprocessing import PowerTransformer, QuantileTransformer\n",
        "\n",
        "pl_n = Pipeline([\n",
        "                ('power', PowerTransformer())\n",
        "                \n",
        "])\n",
        "\n",
        "pl_c = Pipeline([\n",
        "                 ('std', OneHotEncoder(handle_unknown='ignore'))\n",
        "])\n",
        "\n",
        "from sklearn.compose import ColumnTransformer\n",
        "\n",
        "ct = ColumnTransformer([\n",
        "                        ('num', pl_n, numerical_columns),\n",
        "                        ('cat', pl_c, categorical_columns)\n",
        "])"
      ],
      "execution_count": 122,
      "outputs": []
    },
    {
      "cell_type": "code",
      "metadata": {
        "id": "2NPAd0b1NBzr"
      },
      "source": [
        "from sklearn.ensemble import ExtraTreesRegressor\n",
        "from sklearn.metrics import mean_absolute_error\n",
        "\n",
        "m_model = ExtraTreesRegressor(n_jobs=-1, n_estimators = 10)\n",
        "\n",
        "model = Pipeline([\n",
        "               ('ct', ct),\n",
        "               ('lr', m_model)\n",
        "])\n",
        "\n",
        "model.fit(X_train, y_train)\n",
        "\n",
        "y_test_predict = model.predict(X_test)\n",
        "y_train_predict = model.predict(X_train)"
      ],
      "execution_count": 123,
      "outputs": []
    },
    {
      "cell_type": "code",
      "metadata": {
        "colab": {
          "base_uri": "https://localhost:8080/"
        },
        "id": "GBUogtXQ7GXB",
        "outputId": "5f02d8c7-493e-425c-d68f-3f3d236ea6aa"
      },
      "source": [
        "print('Training Score: ', '%0.8f'%mean_absolute_error(y_train, y_train_predict))"
      ],
      "execution_count": 124,
      "outputs": [
        {
          "output_type": "stream",
          "text": [
            "Training Score:  0.00000000\n"
          ],
          "name": "stdout"
        }
      ]
    },
    {
      "cell_type": "code",
      "metadata": {
        "id": "rMJUBin0NahG",
        "colab": {
          "base_uri": "https://localhost:8080/"
        },
        "outputId": "5dfb6925-32ae-4e5a-bf63-e8e3638a47ce"
      },
      "source": [
        "y_test_predict"
      ],
      "execution_count": 119,
      "outputs": [
        {
          "output_type": "execute_result",
          "data": {
            "text/plain": [
              "array([64.70973409, 73.77877933, 69.19855018, ..., 60.94073368,\n",
              "       77.40870147, 76.59353408])"
            ]
          },
          "metadata": {
            "tags": []
          },
          "execution_count": 119
        }
      ]
    },
    {
      "cell_type": "code",
      "metadata": {
        "id": "a3mf6OsLNaJn"
      },
      "source": [
        "df = pd.concat([pd.DataFrame(y_id),pd.DataFrame(np.round(y_test_predict,6))], axis=1, ignore_index=True)\n",
        "df.columns = ['uuid','HR']\n",
        "# df.to_csv('RF_ET750_Submission.csv', index=False)"
      ],
      "execution_count": 120,
      "outputs": []
    },
    {
      "cell_type": "code",
      "metadata": {
        "id": "PIk3yWppzeWl"
      },
      "source": [
        ""
      ],
      "execution_count": 280,
      "outputs": []
    },
    {
      "cell_type": "code",
      "metadata": {
        "id": "blB3nl8OzeZF"
      },
      "source": [
        ""
      ],
      "execution_count": 280,
      "outputs": []
    },
    {
      "cell_type": "code",
      "metadata": {
        "id": "WNBZM3eHzebl"
      },
      "source": [
        "def model_function(model, Xtrn, ytrn, Xtst, yid):\r\n",
        "  model.fit(Xtrn, ytrn)\r\n",
        "  ytstpredict = model.predict(Xtst)\r\n",
        "  ytrnpredict = model.predict(Xtrn)\r\n",
        "  print('Training Score: ', '%0.8f'%mean_absolute_error(ytrn, ytrnpredict))\r\n",
        "  df1 = pd.concat([pd.DataFrame(yid),pd.DataFrame(np.round(ytstpredict,6))], axis=1, ignore_index=True)\r\n",
        "  df1.columns = ['uuid','HR']\r\n",
        "  return df1"
      ],
      "execution_count": 69,
      "outputs": []
    },
    {
      "cell_type": "code",
      "metadata": {
        "id": "HjD1qtqh0gGO"
      },
      "source": [
        ""
      ],
      "execution_count": null,
      "outputs": []
    }
  ]
}